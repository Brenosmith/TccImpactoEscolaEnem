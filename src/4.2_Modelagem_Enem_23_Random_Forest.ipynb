{
 "cells": [
  {
   "cell_type": "code",
   "execution_count": 1,
   "id": "ceb0998f",
   "metadata": {},
   "outputs": [],
   "source": [
    "import pandas as pd\n",
    "import joblib\n",
    "import time\n",
    "\n",
    "from sklearn.model_selection import train_test_split, RandomizedSearchCV, KFold\n",
    "from sklearn.preprocessing import LabelEncoder\n",
    "from sklearn.ensemble import RandomForestRegressor\n",
    "\n",
    "from Funcoes_Comuns import avaliar_modelo, registrar_modelo"
   ]
  },
  {
   "cell_type": "markdown",
   "id": "cd41e172",
   "metadata": {},
   "source": [
    "#### 1. Recuperar base já pré-processada"
   ]
  },
  {
   "cell_type": "code",
   "execution_count": 2,
   "id": "b038cae0",
   "metadata": {},
   "outputs": [],
   "source": [
    "# Obter dados\n",
    "df_enem = pd.read_pickle('Bases\\\\Finais\\\\enem_microdados_2023.pkl')"
   ]
  },
  {
   "cell_type": "markdown",
   "id": "ecddb3f0",
   "metadata": {},
   "source": [
    "#### 2. Label Encoding\n",
    "- Apenas transforma variáveis categóricas em numéricas, não há significado numérico\n",
    "- Processamento necessário para modelos aplicados: random forest baseado em árvore de decisão"
   ]
  },
  {
   "cell_type": "code",
   "execution_count": 3,
   "id": "99a8fe53",
   "metadata": {},
   "outputs": [],
   "source": [
    "# Aplicar o LabelEncoder para converter as colunas categóricas em numéricas\n",
    "# Salvar os encoders para possível uso posterior\n",
    "label_encoders = {}\n",
    "categorical_columns = df_enem.select_dtypes(include=['category']).columns\n",
    "\n",
    "for col in categorical_columns:\n",
    "    le = LabelEncoder()\n",
    "    df_enem[col] = le.fit_transform(df_enem[col])\n",
    "    label_encoders[col] = le  # Salvar o encoder para a coluna"
   ]
  },
  {
   "cell_type": "code",
   "execution_count": 4,
   "id": "91c1fd79",
   "metadata": {},
   "outputs": [
    {
     "data": {
      "application/vnd.microsoft.datawrangler.viewer.v0+json": {
       "columns": [
        {
         "name": "index",
         "rawType": "int64",
         "type": "integer"
        },
        {
         "name": "NUM_NOTA_CH",
         "rawType": "float64",
         "type": "float"
        },
        {
         "name": "NUM_NOTA_CN",
         "rawType": "float64",
         "type": "float"
        },
        {
         "name": "NUM_NOTA_LC",
         "rawType": "float64",
         "type": "float"
        },
        {
         "name": "NUM_NOTA_MT",
         "rawType": "float64",
         "type": "float"
        },
        {
         "name": "NUM_NOTA_REDACAO",
         "rawType": "float64",
         "type": "float"
        },
        {
         "name": "BIN_Q001_DUMMY_H",
         "rawType": "bool",
         "type": "boolean"
        },
        {
         "name": "BIN_Q002_DUMMY_H",
         "rawType": "bool",
         "type": "boolean"
        },
        {
         "name": "BIN_Q018",
         "rawType": "bool",
         "type": "boolean"
        },
        {
         "name": "BIN_Q020",
         "rawType": "bool",
         "type": "boolean"
        },
        {
         "name": "BIN_Q021",
         "rawType": "bool",
         "type": "boolean"
        },
        {
         "name": "BIN_Q023",
         "rawType": "bool",
         "type": "boolean"
        },
        {
         "name": "BIN_Q025",
         "rawType": "bool",
         "type": "boolean"
        },
        {
         "name": "CAT_COR_RACA",
         "rawType": "int64",
         "type": "integer"
        },
        {
         "name": "CAT_CO_MUNICIPIO_ESC",
         "rawType": "int64",
         "type": "integer"
        },
        {
         "name": "CAT_CO_UF_ESC",
         "rawType": "int64",
         "type": "integer"
        },
        {
         "name": "CAT_DEPENDENCIA_ADM_ESC",
         "rawType": "int64",
         "type": "integer"
        },
        {
         "name": "CAT_ENSINO",
         "rawType": "int64",
         "type": "integer"
        },
        {
         "name": "CAT_ESCOLA",
         "rawType": "int64",
         "type": "integer"
        },
        {
         "name": "CAT_ESTADO_CIVIL",
         "rawType": "int64",
         "type": "integer"
        },
        {
         "name": "CAT_FAIXA_ETARIA",
         "rawType": "int64",
         "type": "integer"
        },
        {
         "name": "CAT_LINGUA",
         "rawType": "int64",
         "type": "integer"
        },
        {
         "name": "CAT_LOCALIZACAO_ESC",
         "rawType": "int64",
         "type": "integer"
        },
        {
         "name": "CAT_NACIONALIDADE",
         "rawType": "int64",
         "type": "integer"
        },
        {
         "name": "CAT_Q003",
         "rawType": "int64",
         "type": "integer"
        },
        {
         "name": "CAT_Q004",
         "rawType": "int64",
         "type": "integer"
        },
        {
         "name": "CAT_SEXO",
         "rawType": "int64",
         "type": "integer"
        },
        {
         "name": "CAT_SIT_FUNC_ESC",
         "rawType": "int64",
         "type": "integer"
        },
        {
         "name": "NUM_Q001",
         "rawType": "int64",
         "type": "integer"
        },
        {
         "name": "NUM_Q002",
         "rawType": "int64",
         "type": "integer"
        },
        {
         "name": "NUM_Q005",
         "rawType": "int64",
         "type": "integer"
        },
        {
         "name": "NUM_Q006",
         "rawType": "int64",
         "type": "integer"
        },
        {
         "name": "NUM_Q007",
         "rawType": "int64",
         "type": "integer"
        },
        {
         "name": "NUM_Q008",
         "rawType": "int64",
         "type": "integer"
        },
        {
         "name": "NUM_Q009",
         "rawType": "int64",
         "type": "integer"
        },
        {
         "name": "NUM_Q010",
         "rawType": "int64",
         "type": "integer"
        },
        {
         "name": "NUM_Q011",
         "rawType": "int64",
         "type": "integer"
        },
        {
         "name": "NUM_Q012",
         "rawType": "int64",
         "type": "integer"
        },
        {
         "name": "NUM_Q013",
         "rawType": "int64",
         "type": "integer"
        },
        {
         "name": "NUM_Q014",
         "rawType": "int64",
         "type": "integer"
        },
        {
         "name": "NUM_Q015",
         "rawType": "int64",
         "type": "integer"
        },
        {
         "name": "NUM_Q016",
         "rawType": "int64",
         "type": "integer"
        },
        {
         "name": "NUM_Q017",
         "rawType": "int64",
         "type": "integer"
        },
        {
         "name": "NUM_Q019",
         "rawType": "int64",
         "type": "integer"
        },
        {
         "name": "NUM_Q022",
         "rawType": "int64",
         "type": "integer"
        },
        {
         "name": "NUM_Q024",
         "rawType": "int64",
         "type": "integer"
        }
       ],
       "ref": "2b85754f-9557-43e0-9ffc-4a60b1638b66",
       "rows": [
        [
         "0",
         "508.5",
         "459.0",
         "507.2",
         "466.7",
         "880.0",
         "False",
         "False",
         "False",
         "False",
         "False",
         "False",
         "True",
         "3",
         "941",
         "9",
         "1",
         "1",
         "0",
         "1",
         "1",
         "0",
         "0",
         "0",
         "1",
         "1",
         "0",
         "0",
         "3",
         "3",
         "5",
         "2",
         "0",
         "1",
         "1",
         "0",
         "0",
         "1",
         "0",
         "0",
         "0",
         "0",
         "0",
         "1",
         "3",
         "0"
        ],
        [
         "1",
         "379.2",
         "402.5",
         "446.9",
         "338.3",
         "560.0",
         "False",
         "False",
         "False",
         "False",
         "False",
         "False",
         "False",
         "3",
         "1031",
         "9",
         "1",
         "1",
         "0",
         "1",
         "2",
         "0",
         "0",
         "0",
         "0",
         "0",
         "0",
         "0",
         "1",
         "1",
         "4",
         "1",
         "0",
         "1",
         "0",
         "0",
         "0",
         "1",
         "0",
         "0",
         "0",
         "0",
         "0",
         "1",
         "1",
         "0"
        ],
        [
         "2",
         "667.6",
         "608.2",
         "607.9",
         "691.9",
         "780.0",
         "False",
         "False",
         "False",
         "False",
         "False",
         "False",
         "True",
         "3",
         "4232",
         "20",
         "1",
         "1",
         "0",
         "1",
         "2",
         "0",
         "0",
         "3",
         "0",
         "1",
         "1",
         "0",
         "3",
         "4",
         "5",
         "3",
         "0",
         "1",
         "1",
         "1",
         "0",
         "1",
         "0",
         "1",
         "0",
         "0",
         "0",
         "1",
         "1",
         "1"
        ],
        [
         "3",
         "553.1",
         "515.7",
         "544.4",
         "437.0",
         "880.0",
         "False",
         "False",
         "False",
         "False",
         "False",
         "True",
         "True",
         "1",
         "169",
         "4",
         "1",
         "1",
         "0",
         "1",
         "3",
         "0",
         "0",
         "0",
         "2",
         "1",
         "0",
         "0",
         "4",
         "4",
         "4",
         "1",
         "0",
         "1",
         "2",
         "0",
         "0",
         "1",
         "0",
         "0",
         "0",
         "0",
         "0",
         "1",
         "3",
         "0"
        ],
        [
         "4",
         "576.3",
         "523.8",
         "596.5",
         "628.1",
         "600.0",
         "False",
         "False",
         "False",
         "False",
         "False",
         "False",
         "True",
         "1",
         "3770",
         "19",
         "1",
         "1",
         "0",
         "1",
         "2",
         "0",
         "0",
         "0",
         "2",
         "1",
         "1",
         "0",
         "2",
         "2",
         "2",
         "3",
         "0",
         "1",
         "1",
         "0",
         "0",
         "1",
         "0",
         "1",
         "0",
         "0",
         "0",
         "1",
         "1",
         "0"
        ]
       ],
       "shape": {
        "columns": 45,
        "rows": 5
       }
      },
      "text/html": [
       "<div>\n",
       "<style scoped>\n",
       "    .dataframe tbody tr th:only-of-type {\n",
       "        vertical-align: middle;\n",
       "    }\n",
       "\n",
       "    .dataframe tbody tr th {\n",
       "        vertical-align: top;\n",
       "    }\n",
       "\n",
       "    .dataframe thead th {\n",
       "        text-align: right;\n",
       "    }\n",
       "</style>\n",
       "<table border=\"1\" class=\"dataframe\">\n",
       "  <thead>\n",
       "    <tr style=\"text-align: right;\">\n",
       "      <th></th>\n",
       "      <th>NUM_NOTA_CH</th>\n",
       "      <th>NUM_NOTA_CN</th>\n",
       "      <th>NUM_NOTA_LC</th>\n",
       "      <th>NUM_NOTA_MT</th>\n",
       "      <th>NUM_NOTA_REDACAO</th>\n",
       "      <th>BIN_Q001_DUMMY_H</th>\n",
       "      <th>BIN_Q002_DUMMY_H</th>\n",
       "      <th>BIN_Q018</th>\n",
       "      <th>BIN_Q020</th>\n",
       "      <th>BIN_Q021</th>\n",
       "      <th>...</th>\n",
       "      <th>NUM_Q011</th>\n",
       "      <th>NUM_Q012</th>\n",
       "      <th>NUM_Q013</th>\n",
       "      <th>NUM_Q014</th>\n",
       "      <th>NUM_Q015</th>\n",
       "      <th>NUM_Q016</th>\n",
       "      <th>NUM_Q017</th>\n",
       "      <th>NUM_Q019</th>\n",
       "      <th>NUM_Q022</th>\n",
       "      <th>NUM_Q024</th>\n",
       "    </tr>\n",
       "  </thead>\n",
       "  <tbody>\n",
       "    <tr>\n",
       "      <th>0</th>\n",
       "      <td>508.5</td>\n",
       "      <td>459.0</td>\n",
       "      <td>507.2</td>\n",
       "      <td>466.7</td>\n",
       "      <td>880.0</td>\n",
       "      <td>False</td>\n",
       "      <td>False</td>\n",
       "      <td>False</td>\n",
       "      <td>False</td>\n",
       "      <td>False</td>\n",
       "      <td>...</td>\n",
       "      <td>0</td>\n",
       "      <td>1</td>\n",
       "      <td>0</td>\n",
       "      <td>0</td>\n",
       "      <td>0</td>\n",
       "      <td>0</td>\n",
       "      <td>0</td>\n",
       "      <td>1</td>\n",
       "      <td>3</td>\n",
       "      <td>0</td>\n",
       "    </tr>\n",
       "    <tr>\n",
       "      <th>1</th>\n",
       "      <td>379.2</td>\n",
       "      <td>402.5</td>\n",
       "      <td>446.9</td>\n",
       "      <td>338.3</td>\n",
       "      <td>560.0</td>\n",
       "      <td>False</td>\n",
       "      <td>False</td>\n",
       "      <td>False</td>\n",
       "      <td>False</td>\n",
       "      <td>False</td>\n",
       "      <td>...</td>\n",
       "      <td>0</td>\n",
       "      <td>1</td>\n",
       "      <td>0</td>\n",
       "      <td>0</td>\n",
       "      <td>0</td>\n",
       "      <td>0</td>\n",
       "      <td>0</td>\n",
       "      <td>1</td>\n",
       "      <td>1</td>\n",
       "      <td>0</td>\n",
       "    </tr>\n",
       "    <tr>\n",
       "      <th>2</th>\n",
       "      <td>667.6</td>\n",
       "      <td>608.2</td>\n",
       "      <td>607.9</td>\n",
       "      <td>691.9</td>\n",
       "      <td>780.0</td>\n",
       "      <td>False</td>\n",
       "      <td>False</td>\n",
       "      <td>False</td>\n",
       "      <td>False</td>\n",
       "      <td>False</td>\n",
       "      <td>...</td>\n",
       "      <td>0</td>\n",
       "      <td>1</td>\n",
       "      <td>0</td>\n",
       "      <td>1</td>\n",
       "      <td>0</td>\n",
       "      <td>0</td>\n",
       "      <td>0</td>\n",
       "      <td>1</td>\n",
       "      <td>1</td>\n",
       "      <td>1</td>\n",
       "    </tr>\n",
       "    <tr>\n",
       "      <th>3</th>\n",
       "      <td>553.1</td>\n",
       "      <td>515.7</td>\n",
       "      <td>544.4</td>\n",
       "      <td>437.0</td>\n",
       "      <td>880.0</td>\n",
       "      <td>False</td>\n",
       "      <td>False</td>\n",
       "      <td>False</td>\n",
       "      <td>False</td>\n",
       "      <td>False</td>\n",
       "      <td>...</td>\n",
       "      <td>0</td>\n",
       "      <td>1</td>\n",
       "      <td>0</td>\n",
       "      <td>0</td>\n",
       "      <td>0</td>\n",
       "      <td>0</td>\n",
       "      <td>0</td>\n",
       "      <td>1</td>\n",
       "      <td>3</td>\n",
       "      <td>0</td>\n",
       "    </tr>\n",
       "    <tr>\n",
       "      <th>4</th>\n",
       "      <td>576.3</td>\n",
       "      <td>523.8</td>\n",
       "      <td>596.5</td>\n",
       "      <td>628.1</td>\n",
       "      <td>600.0</td>\n",
       "      <td>False</td>\n",
       "      <td>False</td>\n",
       "      <td>False</td>\n",
       "      <td>False</td>\n",
       "      <td>False</td>\n",
       "      <td>...</td>\n",
       "      <td>0</td>\n",
       "      <td>1</td>\n",
       "      <td>0</td>\n",
       "      <td>1</td>\n",
       "      <td>0</td>\n",
       "      <td>0</td>\n",
       "      <td>0</td>\n",
       "      <td>1</td>\n",
       "      <td>1</td>\n",
       "      <td>0</td>\n",
       "    </tr>\n",
       "  </tbody>\n",
       "</table>\n",
       "<p>5 rows × 45 columns</p>\n",
       "</div>"
      ],
      "text/plain": [
       "   NUM_NOTA_CH  NUM_NOTA_CN  NUM_NOTA_LC  NUM_NOTA_MT  NUM_NOTA_REDACAO  \\\n",
       "0        508.5        459.0        507.2        466.7             880.0   \n",
       "1        379.2        402.5        446.9        338.3             560.0   \n",
       "2        667.6        608.2        607.9        691.9             780.0   \n",
       "3        553.1        515.7        544.4        437.0             880.0   \n",
       "4        576.3        523.8        596.5        628.1             600.0   \n",
       "\n",
       "   BIN_Q001_DUMMY_H  BIN_Q002_DUMMY_H  BIN_Q018  BIN_Q020  BIN_Q021  ...  \\\n",
       "0             False             False     False     False     False  ...   \n",
       "1             False             False     False     False     False  ...   \n",
       "2             False             False     False     False     False  ...   \n",
       "3             False             False     False     False     False  ...   \n",
       "4             False             False     False     False     False  ...   \n",
       "\n",
       "   NUM_Q011  NUM_Q012  NUM_Q013  NUM_Q014  NUM_Q015  NUM_Q016  NUM_Q017  \\\n",
       "0         0         1         0         0         0         0         0   \n",
       "1         0         1         0         0         0         0         0   \n",
       "2         0         1         0         1         0         0         0   \n",
       "3         0         1         0         0         0         0         0   \n",
       "4         0         1         0         1         0         0         0   \n",
       "\n",
       "   NUM_Q019  NUM_Q022  NUM_Q024  \n",
       "0         1         3         0  \n",
       "1         1         1         0  \n",
       "2         1         1         1  \n",
       "3         1         3         0  \n",
       "4         1         1         0  \n",
       "\n",
       "[5 rows x 45 columns]"
      ]
     },
     "execution_count": 4,
     "metadata": {},
     "output_type": "execute_result"
    }
   ],
   "source": [
    "df_enem.head()"
   ]
  },
  {
   "cell_type": "code",
   "execution_count": 5,
   "id": "6fd66ad1",
   "metadata": {},
   "outputs": [],
   "source": [
    "variaveis_alvo = ['NUM_NOTA_MT', 'NUM_NOTA_LC', 'NUM_NOTA_CN', 'NUM_NOTA_CH', 'NUM_NOTA_REDACAO']\n",
    "\n",
    "# separar em treino e teste\n",
    "X = df_enem.drop(columns=variaveis_alvo)\n",
    "y = df_enem[variaveis_alvo]\n",
    "X_train, X_test, y_train, y_test = train_test_split(X, y, test_size=0.2, random_state=42)\n",
    "\n",
    "# Ajuste de tipo para MLflow\n",
    "# Converter colunas inteiras para float\n",
    "X_train = X_train.astype({col: 'float' for col in X_train.select_dtypes('int').columns})\n",
    "X_test = X_test.astype({col: 'float' for col in X_test.select_dtypes('int').columns})"
   ]
  },
  {
   "cell_type": "markdown",
   "id": "bfe2bf9c",
   "metadata": {},
   "source": [
    "#### 3. Modelo Base Random Forest"
   ]
  },
  {
   "cell_type": "code",
   "execution_count": 6,
   "id": "7c35f912",
   "metadata": {},
   "outputs": [],
   "source": [
    "len(X_train)\n",
    "amostra = 100000  # Até 50 mil o processamento é rápido: aproximadamente 8 minutos com 200 árvores"
   ]
  },
  {
   "cell_type": "markdown",
   "id": "b66e6152",
   "metadata": {},
   "source": [
    "    Utilizar amostras menores para testes rápidos\n",
    "    max_features como None deixa mais lento o treinamento"
   ]
  },
  {
   "cell_type": "code",
   "execution_count": 7,
   "id": "e7020047",
   "metadata": {},
   "outputs": [],
   "source": [
    "parametros = {\n",
    "    'n_estimators': 200,\n",
    "    'max_depth': 50,\n",
    "    'min_samples_split': 5,\n",
    "    'min_samples_leaf': 2,\n",
    "    'max_features': 'sqrt',\n",
    "    'bootstrap': True,\n",
    "    'criterion': 'absolute_error',\n",
    "    'random_state': 42,\n",
    "    'verbose': 2,\n",
    "    'n_jobs': -1,\n",
    "}"
   ]
  },
  {
   "cell_type": "code",
   "execution_count": 8,
   "id": "51747129",
   "metadata": {},
   "outputs": [
    {
     "name": "stderr",
     "output_type": "stream",
     "text": [
      "[Parallel(n_jobs=-1)]: Using backend ThreadingBackend with 8 concurrent workers.\n"
     ]
    },
    {
     "name": "stdout",
     "output_type": "stream",
     "text": [
      "building tree 1 of 200\n",
      "building tree 2 of 200\n",
      "building tree 3 of 200\n",
      "building tree 4 of 200\n",
      "building tree 5 of 200\n",
      "building tree 6 of 200\n",
      "building tree 7 of 200\n",
      "building tree 8 of 200\n",
      "building tree 9 of 200\n",
      "building tree 10 of 200\n",
      "building tree 11 of 200\n",
      "building tree 12 of 200\n",
      "building tree 13 of 200\n",
      "building tree 14 of 200\n",
      "building tree 15 of 200\n",
      "building tree 16 of 200\n",
      "building tree 17 of 200\n",
      "building tree 18 of 200\n",
      "building tree 19 of 200\n",
      "building tree 20 of 200\n",
      "building tree 21 of 200\n",
      "building tree 22 of 200\n",
      "building tree 23 of 200\n",
      "building tree 24 of 200\n",
      "building tree 25 of 200\n",
      "building tree 26 of 200\n",
      "building tree 27 of 200\n",
      "building tree 28 of 200\n",
      "building tree 29 of 200\n",
      "building tree 30 of 200\n",
      "building tree 31 of 200\n",
      "building tree 32 of 200\n",
      "building tree 33 of 200\n"
     ]
    },
    {
     "name": "stderr",
     "output_type": "stream",
     "text": [
      "[Parallel(n_jobs=-1)]: Done  25 tasks      | elapsed:  6.9min\n"
     ]
    },
    {
     "name": "stdout",
     "output_type": "stream",
     "text": [
      "building tree 34 of 200\n",
      "building tree 35 of 200\n",
      "building tree 36 of 200\n",
      "building tree 37 of 200\n",
      "building tree 38 of 200\n",
      "building tree 39 of 200\n",
      "building tree 40 of 200\n",
      "building tree 41 of 200\n",
      "building tree 42 of 200\n",
      "building tree 43 of 200\n",
      "building tree 44 of 200\n",
      "building tree 45 of 200\n",
      "building tree 46 of 200\n",
      "building tree 47 of 200\n",
      "building tree 48 of 200\n",
      "building tree 49 of 200\n",
      "building tree 50 of 200\n",
      "building tree 51 of 200\n",
      "building tree 52 of 200\n",
      "building tree 53 of 200\n",
      "building tree 54 of 200\n",
      "building tree 55 of 200\n",
      "building tree 56 of 200\n",
      "building tree 57 of 200\n",
      "building tree 58 of 200\n",
      "building tree 59 of 200\n",
      "building tree 60 of 200\n",
      "building tree 61 of 200\n",
      "building tree 62 of 200\n",
      "building tree 63 of 200\n",
      "building tree 64 of 200\n",
      "building tree 65 of 200\n",
      "building tree 66 of 200\n",
      "building tree 67 of 200\n",
      "building tree 68 of 200\n",
      "building tree 69 of 200\n",
      "building tree 70 of 200\n",
      "building tree 71 of 200\n",
      "building tree 72 of 200\n",
      "building tree 73 of 200\n",
      "building tree 74 of 200\n",
      "building tree 75 of 200\n",
      "building tree 76 of 200\n",
      "building tree 77 of 200\n",
      "building tree 78 of 200\n",
      "building tree 79 of 200\n",
      "building tree 80 of 200\n",
      "building tree 81 of 200\n",
      "building tree 82 of 200\n",
      "building tree 83 of 200\n",
      "building tree 84 of 200\n",
      "building tree 85 of 200\n",
      "building tree 86 of 200\n",
      "building tree 87 of 200\n",
      "building tree 88 of 200\n",
      "building tree 89 of 200\n",
      "building tree 90 of 200\n",
      "building tree 91 of 200\n",
      "building tree 92 of 200\n",
      "building tree 93 of 200\n",
      "building tree 94 of 200\n",
      "building tree 95 of 200\n",
      "building tree 96 of 200\n",
      "building tree 97 of 200\n",
      "building tree 98 of 200\n",
      "building tree 99 of 200\n",
      "building tree 100 of 200\n",
      "building tree 101 of 200\n",
      "building tree 102 of 200\n",
      "building tree 103 of 200\n",
      "building tree 104 of 200\n",
      "building tree 105 of 200\n",
      "building tree 106 of 200\n",
      "building tree 107 of 200\n",
      "building tree 108 of 200\n",
      "building tree 109 of 200\n",
      "building tree 110 of 200\n",
      "building tree 111 of 200\n",
      "building tree 112 of 200\n",
      "building tree 113 of 200\n",
      "building tree 114 of 200\n",
      "building tree 115 of 200\n",
      "building tree 116 of 200\n",
      "building tree 117 of 200\n",
      "building tree 118 of 200\n",
      "building tree 119 of 200\n",
      "building tree 120 of 200\n",
      "building tree 121 of 200\n",
      "building tree 122 of 200\n",
      "building tree 123 of 200\n",
      "building tree 124 of 200\n",
      "building tree 125 of 200\n",
      "building tree 126 of 200\n",
      "building tree 127 of 200\n",
      "building tree 128 of 200\n",
      "building tree 129 of 200\n",
      "building tree 130 of 200\n",
      "building tree 131 of 200\n",
      "building tree 132 of 200\n",
      "building tree 133 of 200\n",
      "building tree 134 of 200\n",
      "building tree 135 of 200\n",
      "building tree 136 of 200\n",
      "building tree 137 of 200\n",
      "building tree 138 of 200\n",
      "building tree 139 of 200\n",
      "building tree 140 of 200\n",
      "building tree 141 of 200\n",
      "building tree 142 of 200\n",
      "building tree 143 of 200\n",
      "building tree 144 of 200\n",
      "building tree 145 of 200\n",
      "building tree 146 of 200\n",
      "building tree 147 of 200\n",
      "building tree 148 of 200\n",
      "building tree 149 of 200\n",
      "building tree 150 of 200\n",
      "building tree 151 of 200\n",
      "building tree 152 of 200\n",
      "building tree 153 of 200\n",
      "building tree 154 of 200\n"
     ]
    },
    {
     "name": "stderr",
     "output_type": "stream",
     "text": [
      "[Parallel(n_jobs=-1)]: Done 146 tasks      | elapsed: 35.5min\n"
     ]
    },
    {
     "name": "stdout",
     "output_type": "stream",
     "text": [
      "building tree 155 of 200\n",
      "building tree 156 of 200\n",
      "building tree 157 of 200\n",
      "building tree 158 of 200\n",
      "building tree 159 of 200\n",
      "building tree 160 of 200\n",
      "building tree 161 of 200\n",
      "building tree 162 of 200\n",
      "building tree 163 of 200\n",
      "building tree 164 of 200\n",
      "building tree 165 of 200\n",
      "building tree 166 of 200\n",
      "building tree 167 of 200\n",
      "building tree 168 of 200\n",
      "building tree 169 of 200\n",
      "building tree 170 of 200\n",
      "building tree 171 of 200\n",
      "building tree 172 of 200\n",
      "building tree 173 of 200\n",
      "building tree 174 of 200\n",
      "building tree 175 of 200\n",
      "building tree 176 of 200\n",
      "building tree 177 of 200\n",
      "building tree 178 of 200\n",
      "building tree 179 of 200\n",
      "building tree 180 of 200\n",
      "building tree 181 of 200\n",
      "building tree 182 of 200\n",
      "building tree 183 of 200\n",
      "building tree 184 of 200\n",
      "building tree 185 of 200\n",
      "building tree 186 of 200\n",
      "building tree 187 of 200\n",
      "building tree 188 of 200\n",
      "building tree 189 of 200\n",
      "building tree 190 of 200\n",
      "building tree 191 of 200\n",
      "building tree 192 of 200\n",
      "building tree 193 of 200\n",
      "building tree 194 of 200\n",
      "building tree 195 of 200\n",
      "building tree 196 of 200\n",
      "building tree 197 of 200\n",
      "building tree 198 of 200\n",
      "building tree 199 of 200\n",
      "building tree 200 of 200\n"
     ]
    },
    {
     "name": "stderr",
     "output_type": "stream",
     "text": [
      "[Parallel(n_jobs=-1)]: Done 200 out of 200 | elapsed: 47.6min finished\n"
     ]
    }
   ],
   "source": [
    "# Treinar o modelo\n",
    "modelo_random_forest = RandomForestRegressor(**parametros)\n",
    "start_time = time.time()\n",
    "modelo_random_forest.fit(X_train[:amostra], y_train['NUM_NOTA_CH'][:amostra])\n",
    "tempo_treino = time.time() - start_time"
   ]
  },
  {
   "cell_type": "code",
   "execution_count": 9,
   "id": "75785ab1",
   "metadata": {},
   "outputs": [
    {
     "name": "stderr",
     "output_type": "stream",
     "text": [
      "[Parallel(n_jobs=8)]: Using backend ThreadingBackend with 8 concurrent workers.\n",
      "[Parallel(n_jobs=8)]: Done  25 tasks      | elapsed:    0.5s\n",
      "[Parallel(n_jobs=8)]: Done 146 tasks      | elapsed:    2.9s\n",
      "[Parallel(n_jobs=8)]: Done 200 out of 200 | elapsed:    3.9s finished\n"
     ]
    }
   ],
   "source": [
    "# Avaliação do modelo final\n",
    "y_pred_rf = modelo_random_forest.predict(X_test)"
   ]
  },
  {
   "cell_type": "code",
   "execution_count": 10,
   "id": "4cab3398",
   "metadata": {},
   "outputs": [
    {
     "name": "stdout",
     "output_type": "stream",
     "text": [
      "Erro ao registrar o modelo no MLflow: API request to http://127.0.0.1:9080/api/2.0/mlflow/experiments/get-by-name failed with exception HTTPConnectionPool(host='127.0.0.1', port=9080): Max retries exceeded with url: /api/2.0/mlflow/experiments/get-by-name?experiment_name=Notas+CH+ENEM+2023 (Caused by NewConnectionError('<urllib3.connection.HTTPConnection object at 0x00000251D9023890>: Failed to establish a new connection: [WinError 10061] Nenhuma conexão pôde ser feita porque a máquina de destino as recusou ativamente'))\n",
      "Rastreamento do MLflow finalizado.\n"
     ]
    }
   ],
   "source": [
    "nome_experimento = 'Notas CH ENEM 2023'\n",
    "\n",
    "registrar_modelo(experimento=nome_experimento, \n",
    "                 parametros={**parametros, 'amostra': amostra, \"tempo\": tempo_treino}, \n",
    "                 X_train=X_train[:amostra], \n",
    "                 y_train=y_train[:amostra], \n",
    "                 y_test=y_test, \n",
    "                 y_pred=y_pred_rf,\n",
    "                 variavel_alvo='NUM_NOTA_CH',\n",
    "                 modelo=modelo_random_forest, \n",
    "                 nome_modelo='modelo_random_forest',\n",
    "                 descricao_modelo='Modelo Random Forest')"
   ]
  },
  {
   "cell_type": "code",
   "execution_count": 11,
   "id": "24de69d1",
   "metadata": {},
   "outputs": [
    {
     "name": "stderr",
     "output_type": "stream",
     "text": [
      "[Parallel(n_jobs=8)]: Using backend ThreadingBackend with 8 concurrent workers.\n",
      "[Parallel(n_jobs=8)]: Done  25 tasks      | elapsed:    0.4s\n",
      "[Parallel(n_jobs=8)]: Done 146 tasks      | elapsed:    2.0s\n"
     ]
    },
    {
     "name": "stdout",
     "output_type": "stream",
     "text": [
      "MAE (treino): 37.5994\n",
      "RMSE (treino): 49.3668\n",
      "R2 (treino): 0.6579\n",
      "MAE (teste): 55.8744\n",
      "RMSE (teste): 70.7671\n",
      "R2 (teste): 0.2975\n"
     ]
    },
    {
     "name": "stderr",
     "output_type": "stream",
     "text": [
      "[Parallel(n_jobs=8)]: Done 200 out of 200 | elapsed:    2.6s finished\n"
     ]
    }
   ],
   "source": [
    "# Avaliação grupo treino\n",
    "avaliar_modelo(y_train['NUM_NOTA_CH'][:amostra], modelo_random_forest.predict(X_train[:amostra]), \"treino\")\n",
    "\n",
    "# Avaliação grupo teste\n",
    "avaliar_modelo(y_test['NUM_NOTA_CH'], y_pred_rf, \"teste\")"
   ]
  },
  {
   "cell_type": "code",
   "execution_count": 12,
   "id": "f053d53b",
   "metadata": {},
   "outputs": [
    {
     "data": {
      "text/plain": [
       "['Modelos\\\\modelo_random_forest_base.pkl']"
      ]
     },
     "execution_count": 12,
     "metadata": {},
     "output_type": "execute_result"
    }
   ],
   "source": [
    "# Salvar o modelo base como um arquivo pickle\n",
    "joblib.dump(modelo_random_forest, 'Modelos\\\\modelo_random_forest_base.pkl')"
   ]
  },
  {
   "cell_type": "markdown",
   "id": "77df2ab6",
   "metadata": {},
   "source": [
    "#### 4. Aplicar Otimização com Random Search"
   ]
  },
  {
   "cell_type": "code",
   "execution_count": 13,
   "id": "2700f144",
   "metadata": {},
   "outputs": [],
   "source": [
    "len(X_train)\n",
    "amostra = 10000 # Até 10 mil o processamento é rápido: aproximadamente 20 mibutos"
   ]
  },
  {
   "cell_type": "code",
   "execution_count": 14,
   "id": "0419d9a4",
   "metadata": {},
   "outputs": [],
   "source": [
    "param_distributions = {\n",
    "    'n_estimators': [100, 300, 500],                  # Número de árvores\n",
    "    'max_depth': range(50, 100, 10),                  # Profundidade máxima das árvores\n",
    "    'min_samples_split': [2, 5, 10],                  # Número mínimo de amostras para dividir um nó\n",
    "    'min_samples_leaf': [1, 2, 5],                    # Número mínimo de amostras em uma folha\n",
    "    'max_features': ['sqrt', 'log2'],                 # Número de features consideradas para divisão\n",
    "    'bootstrap': [True],                              # Usar bootstrap ou não\n",
    "    'criterion': ['absolute_error'],                  # Critério de divisão\n",
    "    'ccp_alpha': [0.2, 0.3436, 0.4]                   # Parâmetro de poda de complexidade de custo\n",
    "}"
   ]
  },
  {
   "cell_type": "code",
   "execution_count": 15,
   "id": "a26029bf",
   "metadata": {},
   "outputs": [],
   "source": [
    "# Configurar o RandomizedSearchCV: este métodos testa combinações aleatórias de hiperparâmetros\n",
    "\n",
    "n_iter = 5  # Número de combinações a serem testadas\n",
    "kf = KFold(n_splits=4, shuffle=True, random_state=42)  # Divisão em partes para validação cruzada\n",
    "\n",
    "random_search = RandomizedSearchCV(\n",
    "    estimator=RandomForestRegressor(random_state=42),\n",
    "    param_distributions=param_distributions,\n",
    "    n_iter=n_iter,\n",
    "    cv=kf,\n",
    "    scoring='neg_mean_absolute_error',\n",
    "    verbose=2,\n",
    "    n_jobs=-1,\n",
    "    random_state=42\n",
    ")"
   ]
  },
  {
   "cell_type": "code",
   "execution_count": 16,
   "id": "7e2ca556",
   "metadata": {},
   "outputs": [
    {
     "name": "stdout",
     "output_type": "stream",
     "text": [
      "Fitting 4 folds for each of 5 candidates, totalling 20 fits\n",
      "Tempo de execução do Random Search: 637.11 segundos\n"
     ]
    }
   ],
   "source": [
    "# Executar o Random Search\n",
    "start_time_search = time.time()\n",
    "random_search.fit(X_train[:amostra], y_train['NUM_NOTA_CH'][:amostra])\n",
    "tempo_search = time.time() - start_time_search\n",
    "\n",
    "print(f\"Tempo de execução do Random Search: {tempo_search:.2f} segundos\")"
   ]
  },
  {
   "cell_type": "code",
   "execution_count": 17,
   "id": "4f8bc352",
   "metadata": {},
   "outputs": [
    {
     "name": "stdout",
     "output_type": "stream",
     "text": [
      "Melhores parâmetros encontrados:  {'n_estimators': 500, 'min_samples_split': 10, 'min_samples_leaf': 2, 'max_features': 'sqrt', 'max_depth': 60, 'criterion': 'absolute_error', 'ccp_alpha': 0.2, 'bootstrap': True}\n"
     ]
    }
   ],
   "source": [
    "# Melhores parâmetros encontrados\n",
    "try:\n",
    "    best_params = random_search.best_params_\n",
    "    print(\"Melhores parâmetros encontrados: \", best_params)\n",
    "except:\n",
    "    best_params = {'n_estimators': 500, 'min_samples_split': 10, 'min_samples_leaf': 2, 'max_features': 'sqrt', 'max_depth': 60, 'criterion': 'absolute_error', 'ccp_alpha': 0.2, 'bootstrap': True}\n",
    "    print(f\"Erro ao obter melhores parâmetros, usando valores calculados anteriormente:\\n {best_params}\")"
   ]
  },
  {
   "cell_type": "code",
   "execution_count": 18,
   "id": "dd3f8be3",
   "metadata": {},
   "outputs": [],
   "source": [
    "# Treinar o modelo com os melhores parâmetros\n",
    "modelo_random_forest_random_search = RandomForestRegressor(**best_params, n_jobs=-1, random_state=42)\n",
    "\n",
    "start_time = time.time()\n",
    "modelo_random_forest_random_search.fit(X_train[:amostra], y_train['NUM_NOTA_CH'][:amostra])\n",
    "tempo_treino = time.time() - start_time"
   ]
  },
  {
   "cell_type": "code",
   "execution_count": 19,
   "id": "4eab892e",
   "metadata": {},
   "outputs": [],
   "source": [
    "# Avaliação do modelo final\n",
    "y_pred_rf_rs = modelo_random_forest_random_search.predict(X_test)"
   ]
  },
  {
   "cell_type": "code",
   "execution_count": 20,
   "id": "5b6215bf",
   "metadata": {},
   "outputs": [
    {
     "name": "stdout",
     "output_type": "stream",
     "text": [
      "Erro ao registrar o modelo no MLflow: API request to http://127.0.0.1:9080/api/2.0/mlflow/experiments/get-by-name failed with exception HTTPConnectionPool(host='127.0.0.1', port=9080): Max retries exceeded with url: /api/2.0/mlflow/experiments/get-by-name?experiment_name=Notas+CH+ENEM+2023 (Caused by NewConnectionError('<urllib3.connection.HTTPConnection object at 0x00000251D9018F50>: Failed to establish a new connection: [WinError 10061] Nenhuma conexão pôde ser feita porque a máquina de destino as recusou ativamente'))\n",
      "Rastreamento do MLflow finalizado.\n"
     ]
    }
   ],
   "source": [
    "nome_experimento = 'Notas CH ENEM 2023'\n",
    "\n",
    "registrar_modelo(experimento=nome_experimento, \n",
    "                     parametros={**best_params, 'amostra': amostra, \"tempo\": tempo_treino}, \n",
    "                     X_train=X_train[:amostra], \n",
    "                     y_train=y_train[:amostra], \n",
    "                     y_test=y_test, \n",
    "                     y_pred=y_pred_rf_rs, \n",
    "                     variavel_alvo='NUM_NOTA_CH', \n",
    "                     modelo=modelo_random_forest_random_search, \n",
    "                     nome_modelo='modelo_random_forest_random_search',\n",
    "                     descricao_modelo='Modelo Random Forest com RandomizedSearchCV')"
   ]
  },
  {
   "cell_type": "code",
   "execution_count": 21,
   "id": "35c9050e",
   "metadata": {},
   "outputs": [
    {
     "name": "stdout",
     "output_type": "stream",
     "text": [
      "MAE (treino): 58.1375\n",
      "RMSE (treino): 73.7055\n",
      "R2 (treino): 0.2503\n",
      "MAE (teste): 57.8502\n",
      "RMSE (teste): 73.3496\n",
      "R2 (teste): 0.2453\n"
     ]
    }
   ],
   "source": [
    "# Avaliação grupo treino\n",
    "avaliar_modelo(y_train['NUM_NOTA_CH'][:amostra], modelo_random_forest_random_search.predict(X_train[:amostra]), \"treino\")\n",
    "\n",
    "# Avaliação grupo teste\n",
    "avaliar_modelo(y_test['NUM_NOTA_CH'], y_pred_rf_rs, \"teste\")"
   ]
  },
  {
   "cell_type": "code",
   "execution_count": 22,
   "id": "6ee679d5",
   "metadata": {},
   "outputs": [
    {
     "data": {
      "text/plain": [
       "['Modelos\\\\modelo_random_forest_random_search.pkl']"
      ]
     },
     "execution_count": 22,
     "metadata": {},
     "output_type": "execute_result"
    }
   ],
   "source": [
    "# Salvar o modelo otimizado como um arquivo pickle\n",
    "joblib.dump(modelo_random_forest_random_search, 'Modelos\\\\modelo_random_forest_random_search.pkl')"
   ]
  }
 ],
 "metadata": {
  "kernelspec": {
   "display_name": ".venv (3.11.4)",
   "language": "python",
   "name": "python3"
  },
  "language_info": {
   "codemirror_mode": {
    "name": "ipython",
    "version": 3
   },
   "file_extension": ".py",
   "mimetype": "text/x-python",
   "name": "python",
   "nbconvert_exporter": "python",
   "pygments_lexer": "ipython3",
   "version": "3.11.4"
  }
 },
 "nbformat": 4,
 "nbformat_minor": 5
}
