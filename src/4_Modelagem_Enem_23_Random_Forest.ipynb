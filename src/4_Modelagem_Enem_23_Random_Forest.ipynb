{
 "cells": [
  {
   "cell_type": "code",
   "execution_count": 1,
   "id": "ceb0998f",
   "metadata": {},
   "outputs": [],
   "source": [
    "import pandas as pd\n",
    "import joblib\n",
    "import time\n",
    "\n",
    "from sklearn.model_selection import train_test_split, RandomizedSearchCV, KFold\n",
    "from sklearn.preprocessing import LabelEncoder\n",
    "from sklearn.ensemble import RandomForestRegressor\n",
    "\n",
    "from Funcoes_Comuns import avaliar_modelo, registrar_modelo"
   ]
  },
  {
   "cell_type": "code",
   "execution_count": 2,
   "id": "b038cae0",
   "metadata": {},
   "outputs": [],
   "source": [
    "# Obter dados\n",
    "df_enem = pd.read_pickle('Bases\\Finais\\enem_2023_full.pkl')"
   ]
  },
  {
   "cell_type": "markdown",
   "id": "ecddb3f0",
   "metadata": {},
   "source": [
    "Label Encoding: apenas transforma variáveis categóricas em numéricas, não há significado numérico\n",
    "\n",
    "- Processamento necessário para modelos aplicados: random forest baseado em árvore de decisão"
   ]
  },
  {
   "cell_type": "code",
   "execution_count": 3,
   "id": "99a8fe53",
   "metadata": {},
   "outputs": [],
   "source": [
    "# Aplicar o LabelEncoder para converter as colunas categóricas em numéricas\n",
    "label_encoder = LabelEncoder()\n",
    "categorical_columns = df_enem.select_dtypes(include=['category']).columns\n",
    "\n",
    "for col in categorical_columns:\n",
    "    df_enem[col] = label_encoder.fit_transform(df_enem[col])"
   ]
  },
  {
   "cell_type": "code",
   "execution_count": 4,
   "id": "91c1fd79",
   "metadata": {},
   "outputs": [
    {
     "data": {
      "application/vnd.microsoft.datawrangler.viewer.v0+json": {
       "columns": [
        {
         "name": "index",
         "rawType": "int64",
         "type": "integer"
        },
        {
         "name": "NUM_NOTA_CH",
         "rawType": "float64",
         "type": "float"
        },
        {
         "name": "NUM_NOTA_CN",
         "rawType": "float64",
         "type": "float"
        },
        {
         "name": "NUM_NOTA_LC",
         "rawType": "float64",
         "type": "float"
        },
        {
         "name": "NUM_NOTA_MT",
         "rawType": "float64",
         "type": "float"
        },
        {
         "name": "NUM_NOTA_REDACAO",
         "rawType": "float64",
         "type": "float"
        },
        {
         "name": "BIN_Q001_DUMMY_H",
         "rawType": "bool",
         "type": "boolean"
        },
        {
         "name": "BIN_Q002_DUMMY_H",
         "rawType": "bool",
         "type": "boolean"
        },
        {
         "name": "BIN_Q018",
         "rawType": "bool",
         "type": "boolean"
        },
        {
         "name": "BIN_Q020",
         "rawType": "bool",
         "type": "boolean"
        },
        {
         "name": "BIN_Q021",
         "rawType": "bool",
         "type": "boolean"
        },
        {
         "name": "BIN_Q023",
         "rawType": "bool",
         "type": "boolean"
        },
        {
         "name": "BIN_Q025",
         "rawType": "bool",
         "type": "boolean"
        },
        {
         "name": "CAT_COR_RACA",
         "rawType": "int64",
         "type": "integer"
        },
        {
         "name": "CAT_CO_MUNICIPIO_ESC",
         "rawType": "int64",
         "type": "integer"
        },
        {
         "name": "CAT_CO_UF_ESC",
         "rawType": "int64",
         "type": "integer"
        },
        {
         "name": "CAT_DEPENDENCIA_ADM_ESC",
         "rawType": "int64",
         "type": "integer"
        },
        {
         "name": "CAT_ENSINO",
         "rawType": "int64",
         "type": "integer"
        },
        {
         "name": "CAT_ESCOLA",
         "rawType": "int64",
         "type": "integer"
        },
        {
         "name": "CAT_ESTADO_CIVIL",
         "rawType": "int64",
         "type": "integer"
        },
        {
         "name": "CAT_FAIXA_ETARIA",
         "rawType": "int64",
         "type": "integer"
        },
        {
         "name": "CAT_LINGUA",
         "rawType": "int64",
         "type": "integer"
        },
        {
         "name": "CAT_LOCALIZACAO_ESC",
         "rawType": "int64",
         "type": "integer"
        },
        {
         "name": "CAT_NACIONALIDADE",
         "rawType": "int64",
         "type": "integer"
        },
        {
         "name": "CAT_Q003",
         "rawType": "int64",
         "type": "integer"
        },
        {
         "name": "CAT_Q004",
         "rawType": "int64",
         "type": "integer"
        },
        {
         "name": "CAT_SEXO",
         "rawType": "int64",
         "type": "integer"
        },
        {
         "name": "CAT_SIT_FUNC_ESC",
         "rawType": "int64",
         "type": "integer"
        },
        {
         "name": "NUM_Q001",
         "rawType": "int64",
         "type": "integer"
        },
        {
         "name": "NUM_Q002",
         "rawType": "int64",
         "type": "integer"
        },
        {
         "name": "NUM_Q005",
         "rawType": "int64",
         "type": "integer"
        },
        {
         "name": "NUM_Q006",
         "rawType": "int64",
         "type": "integer"
        },
        {
         "name": "NUM_Q007",
         "rawType": "int64",
         "type": "integer"
        },
        {
         "name": "NUM_Q008",
         "rawType": "int64",
         "type": "integer"
        },
        {
         "name": "NUM_Q009",
         "rawType": "int64",
         "type": "integer"
        },
        {
         "name": "NUM_Q010",
         "rawType": "int64",
         "type": "integer"
        },
        {
         "name": "NUM_Q011",
         "rawType": "int64",
         "type": "integer"
        },
        {
         "name": "NUM_Q012",
         "rawType": "int64",
         "type": "integer"
        },
        {
         "name": "NUM_Q013",
         "rawType": "int64",
         "type": "integer"
        },
        {
         "name": "NUM_Q014",
         "rawType": "int64",
         "type": "integer"
        },
        {
         "name": "NUM_Q015",
         "rawType": "int64",
         "type": "integer"
        },
        {
         "name": "NUM_Q016",
         "rawType": "int64",
         "type": "integer"
        },
        {
         "name": "NUM_Q017",
         "rawType": "int64",
         "type": "integer"
        },
        {
         "name": "NUM_Q019",
         "rawType": "int64",
         "type": "integer"
        },
        {
         "name": "NUM_Q022",
         "rawType": "int64",
         "type": "integer"
        },
        {
         "name": "NUM_Q024",
         "rawType": "int64",
         "type": "integer"
        }
       ],
       "ref": "1bf547a6-60e3-4de3-985b-3d26ad552fe5",
       "rows": [
        [
         "0",
         "508.5",
         "459.0",
         "507.2",
         "466.7",
         "880.0",
         "False",
         "False",
         "False",
         "False",
         "False",
         "False",
         "True",
         "3",
         "941",
         "9",
         "1",
         "1",
         "0",
         "1",
         "1",
         "0",
         "0",
         "0",
         "1",
         "1",
         "0",
         "0",
         "3",
         "3",
         "5",
         "2",
         "0",
         "1",
         "1",
         "0",
         "0",
         "1",
         "0",
         "0",
         "0",
         "0",
         "0",
         "1",
         "3",
         "0"
        ],
        [
         "1",
         "379.2",
         "402.5",
         "446.9",
         "338.3",
         "560.0",
         "False",
         "False",
         "False",
         "False",
         "False",
         "False",
         "False",
         "3",
         "1031",
         "9",
         "1",
         "1",
         "0",
         "1",
         "2",
         "0",
         "0",
         "0",
         "0",
         "0",
         "0",
         "0",
         "1",
         "1",
         "4",
         "1",
         "0",
         "1",
         "0",
         "0",
         "0",
         "1",
         "0",
         "0",
         "0",
         "0",
         "0",
         "1",
         "1",
         "0"
        ],
        [
         "2",
         "667.6",
         "608.2",
         "607.9",
         "691.9",
         "780.0",
         "False",
         "False",
         "False",
         "False",
         "False",
         "False",
         "True",
         "3",
         "4232",
         "20",
         "1",
         "1",
         "0",
         "1",
         "2",
         "0",
         "0",
         "3",
         "0",
         "1",
         "1",
         "0",
         "3",
         "4",
         "5",
         "3",
         "0",
         "1",
         "1",
         "1",
         "0",
         "1",
         "0",
         "1",
         "0",
         "0",
         "0",
         "1",
         "1",
         "1"
        ],
        [
         "3",
         "553.1",
         "515.7",
         "544.4",
         "437.0",
         "880.0",
         "False",
         "False",
         "False",
         "False",
         "False",
         "True",
         "True",
         "1",
         "169",
         "4",
         "1",
         "1",
         "0",
         "1",
         "3",
         "0",
         "0",
         "0",
         "2",
         "1",
         "0",
         "0",
         "4",
         "4",
         "4",
         "1",
         "0",
         "1",
         "2",
         "0",
         "0",
         "1",
         "0",
         "0",
         "0",
         "0",
         "0",
         "1",
         "3",
         "0"
        ],
        [
         "4",
         "576.3",
         "523.8",
         "596.5",
         "628.1",
         "600.0",
         "False",
         "False",
         "False",
         "False",
         "False",
         "False",
         "True",
         "1",
         "3770",
         "19",
         "1",
         "1",
         "0",
         "1",
         "2",
         "0",
         "0",
         "0",
         "2",
         "1",
         "1",
         "0",
         "2",
         "2",
         "2",
         "3",
         "0",
         "1",
         "1",
         "0",
         "0",
         "1",
         "0",
         "1",
         "0",
         "0",
         "0",
         "1",
         "1",
         "0"
        ]
       ],
       "shape": {
        "columns": 45,
        "rows": 5
       }
      },
      "text/html": [
       "<div>\n",
       "<style scoped>\n",
       "    .dataframe tbody tr th:only-of-type {\n",
       "        vertical-align: middle;\n",
       "    }\n",
       "\n",
       "    .dataframe tbody tr th {\n",
       "        vertical-align: top;\n",
       "    }\n",
       "\n",
       "    .dataframe thead th {\n",
       "        text-align: right;\n",
       "    }\n",
       "</style>\n",
       "<table border=\"1\" class=\"dataframe\">\n",
       "  <thead>\n",
       "    <tr style=\"text-align: right;\">\n",
       "      <th></th>\n",
       "      <th>NUM_NOTA_CH</th>\n",
       "      <th>NUM_NOTA_CN</th>\n",
       "      <th>NUM_NOTA_LC</th>\n",
       "      <th>NUM_NOTA_MT</th>\n",
       "      <th>NUM_NOTA_REDACAO</th>\n",
       "      <th>BIN_Q001_DUMMY_H</th>\n",
       "      <th>BIN_Q002_DUMMY_H</th>\n",
       "      <th>BIN_Q018</th>\n",
       "      <th>BIN_Q020</th>\n",
       "      <th>BIN_Q021</th>\n",
       "      <th>...</th>\n",
       "      <th>NUM_Q011</th>\n",
       "      <th>NUM_Q012</th>\n",
       "      <th>NUM_Q013</th>\n",
       "      <th>NUM_Q014</th>\n",
       "      <th>NUM_Q015</th>\n",
       "      <th>NUM_Q016</th>\n",
       "      <th>NUM_Q017</th>\n",
       "      <th>NUM_Q019</th>\n",
       "      <th>NUM_Q022</th>\n",
       "      <th>NUM_Q024</th>\n",
       "    </tr>\n",
       "  </thead>\n",
       "  <tbody>\n",
       "    <tr>\n",
       "      <th>0</th>\n",
       "      <td>508.5</td>\n",
       "      <td>459.0</td>\n",
       "      <td>507.2</td>\n",
       "      <td>466.7</td>\n",
       "      <td>880.0</td>\n",
       "      <td>False</td>\n",
       "      <td>False</td>\n",
       "      <td>False</td>\n",
       "      <td>False</td>\n",
       "      <td>False</td>\n",
       "      <td>...</td>\n",
       "      <td>0</td>\n",
       "      <td>1</td>\n",
       "      <td>0</td>\n",
       "      <td>0</td>\n",
       "      <td>0</td>\n",
       "      <td>0</td>\n",
       "      <td>0</td>\n",
       "      <td>1</td>\n",
       "      <td>3</td>\n",
       "      <td>0</td>\n",
       "    </tr>\n",
       "    <tr>\n",
       "      <th>1</th>\n",
       "      <td>379.2</td>\n",
       "      <td>402.5</td>\n",
       "      <td>446.9</td>\n",
       "      <td>338.3</td>\n",
       "      <td>560.0</td>\n",
       "      <td>False</td>\n",
       "      <td>False</td>\n",
       "      <td>False</td>\n",
       "      <td>False</td>\n",
       "      <td>False</td>\n",
       "      <td>...</td>\n",
       "      <td>0</td>\n",
       "      <td>1</td>\n",
       "      <td>0</td>\n",
       "      <td>0</td>\n",
       "      <td>0</td>\n",
       "      <td>0</td>\n",
       "      <td>0</td>\n",
       "      <td>1</td>\n",
       "      <td>1</td>\n",
       "      <td>0</td>\n",
       "    </tr>\n",
       "    <tr>\n",
       "      <th>2</th>\n",
       "      <td>667.6</td>\n",
       "      <td>608.2</td>\n",
       "      <td>607.9</td>\n",
       "      <td>691.9</td>\n",
       "      <td>780.0</td>\n",
       "      <td>False</td>\n",
       "      <td>False</td>\n",
       "      <td>False</td>\n",
       "      <td>False</td>\n",
       "      <td>False</td>\n",
       "      <td>...</td>\n",
       "      <td>0</td>\n",
       "      <td>1</td>\n",
       "      <td>0</td>\n",
       "      <td>1</td>\n",
       "      <td>0</td>\n",
       "      <td>0</td>\n",
       "      <td>0</td>\n",
       "      <td>1</td>\n",
       "      <td>1</td>\n",
       "      <td>1</td>\n",
       "    </tr>\n",
       "    <tr>\n",
       "      <th>3</th>\n",
       "      <td>553.1</td>\n",
       "      <td>515.7</td>\n",
       "      <td>544.4</td>\n",
       "      <td>437.0</td>\n",
       "      <td>880.0</td>\n",
       "      <td>False</td>\n",
       "      <td>False</td>\n",
       "      <td>False</td>\n",
       "      <td>False</td>\n",
       "      <td>False</td>\n",
       "      <td>...</td>\n",
       "      <td>0</td>\n",
       "      <td>1</td>\n",
       "      <td>0</td>\n",
       "      <td>0</td>\n",
       "      <td>0</td>\n",
       "      <td>0</td>\n",
       "      <td>0</td>\n",
       "      <td>1</td>\n",
       "      <td>3</td>\n",
       "      <td>0</td>\n",
       "    </tr>\n",
       "    <tr>\n",
       "      <th>4</th>\n",
       "      <td>576.3</td>\n",
       "      <td>523.8</td>\n",
       "      <td>596.5</td>\n",
       "      <td>628.1</td>\n",
       "      <td>600.0</td>\n",
       "      <td>False</td>\n",
       "      <td>False</td>\n",
       "      <td>False</td>\n",
       "      <td>False</td>\n",
       "      <td>False</td>\n",
       "      <td>...</td>\n",
       "      <td>0</td>\n",
       "      <td>1</td>\n",
       "      <td>0</td>\n",
       "      <td>1</td>\n",
       "      <td>0</td>\n",
       "      <td>0</td>\n",
       "      <td>0</td>\n",
       "      <td>1</td>\n",
       "      <td>1</td>\n",
       "      <td>0</td>\n",
       "    </tr>\n",
       "  </tbody>\n",
       "</table>\n",
       "<p>5 rows × 45 columns</p>\n",
       "</div>"
      ],
      "text/plain": [
       "   NUM_NOTA_CH  NUM_NOTA_CN  NUM_NOTA_LC  NUM_NOTA_MT  NUM_NOTA_REDACAO  \\\n",
       "0        508.5        459.0        507.2        466.7             880.0   \n",
       "1        379.2        402.5        446.9        338.3             560.0   \n",
       "2        667.6        608.2        607.9        691.9             780.0   \n",
       "3        553.1        515.7        544.4        437.0             880.0   \n",
       "4        576.3        523.8        596.5        628.1             600.0   \n",
       "\n",
       "   BIN_Q001_DUMMY_H  BIN_Q002_DUMMY_H  BIN_Q018  BIN_Q020  BIN_Q021  ...  \\\n",
       "0             False             False     False     False     False  ...   \n",
       "1             False             False     False     False     False  ...   \n",
       "2             False             False     False     False     False  ...   \n",
       "3             False             False     False     False     False  ...   \n",
       "4             False             False     False     False     False  ...   \n",
       "\n",
       "   NUM_Q011  NUM_Q012  NUM_Q013  NUM_Q014  NUM_Q015  NUM_Q016  NUM_Q017  \\\n",
       "0         0         1         0         0         0         0         0   \n",
       "1         0         1         0         0         0         0         0   \n",
       "2         0         1         0         1         0         0         0   \n",
       "3         0         1         0         0         0         0         0   \n",
       "4         0         1         0         1         0         0         0   \n",
       "\n",
       "   NUM_Q019  NUM_Q022  NUM_Q024  \n",
       "0         1         3         0  \n",
       "1         1         1         0  \n",
       "2         1         1         1  \n",
       "3         1         3         0  \n",
       "4         1         1         0  \n",
       "\n",
       "[5 rows x 45 columns]"
      ]
     },
     "execution_count": 4,
     "metadata": {},
     "output_type": "execute_result"
    }
   ],
   "source": [
    "df_enem.head()"
   ]
  },
  {
   "cell_type": "code",
   "execution_count": 5,
   "id": "d596afa6",
   "metadata": {},
   "outputs": [],
   "source": [
    "variaveis_alvo = ['NUM_NOTA_MT', 'NUM_NOTA_LC', 'NUM_NOTA_CN', 'NUM_NOTA_CH', 'NUM_NOTA_REDACAO']\n",
    "\n",
    "# separar em treino e teste\n",
    "X = df_enem.drop(columns=variaveis_alvo)\n",
    "y = df_enem[variaveis_alvo]\n",
    "X_train, X_test, y_train, y_test = train_test_split(X, y, test_size=0.2, random_state=42)"
   ]
  },
  {
   "cell_type": "code",
   "execution_count": 6,
   "id": "74bac535",
   "metadata": {},
   "outputs": [],
   "source": [
    "# Ajuste de tipo para MLflow\n",
    "# Converter colunas inteiras para float\n",
    "X_train = X_train.astype({col: 'float' for col in X_train.select_dtypes('int').columns})\n",
    "X_test = X_test.astype({col: 'float' for col in X_test.select_dtypes('int').columns})"
   ]
  },
  {
   "cell_type": "markdown",
   "id": "bfe2bf9c",
   "metadata": {},
   "source": [
    "Modelo Base Random Forest"
   ]
  },
  {
   "cell_type": "code",
   "execution_count": 7,
   "id": "7c35f912",
   "metadata": {},
   "outputs": [],
   "source": [
    "len(X_train)\n",
    "amostra = 50000  # Até 50 mil o processamento é rápido: aproximadamente 8 minutos com 200 árvores"
   ]
  },
  {
   "cell_type": "markdown",
   "id": "b66e6152",
   "metadata": {},
   "source": [
    "    Utilizar amostras menores para testes rápidos\n",
    "    max_features como None deixa mais lento o treinamento"
   ]
  },
  {
   "cell_type": "code",
   "execution_count": 8,
   "id": "e7020047",
   "metadata": {},
   "outputs": [],
   "source": [
    "parametros = {\n",
    "    'n_estimators': 400,\n",
    "    'max_depth': 50,\n",
    "    'min_samples_split': 5,\n",
    "    'min_samples_leaf': 2,\n",
    "    'max_features': 'sqrt',\n",
    "    'bootstrap': True,\n",
    "    'criterion': 'absolute_error',\n",
    "    'random_state': 42,\n",
    "    'verbose': 2,\n",
    "    'n_jobs': -1,\n",
    "}"
   ]
  },
  {
   "cell_type": "code",
   "execution_count": 22,
   "id": "51747129",
   "metadata": {},
   "outputs": [
    {
     "name": "stderr",
     "output_type": "stream",
     "text": [
      "[Parallel(n_jobs=-1)]: Using backend ThreadingBackend with 8 concurrent workers.\n"
     ]
    },
    {
     "name": "stdout",
     "output_type": "stream",
     "text": [
      "building tree 1 of 400building tree 2 of 400\n",
      "building tree 3 of 400\n",
      "building tree 4 of 400\n",
      "building tree 5 of 400\n",
      "\n",
      "building tree 6 of 400\n",
      "building tree 7 of 400\n",
      "building tree 8 of 400\n",
      "building tree 9 of 400\n",
      "building tree 10 of 400\n",
      "building tree 11 of 400\n",
      "building tree 12 of 400\n",
      "building tree 13 of 400\n",
      "building tree 14 of 400\n",
      "building tree 15 of 400\n",
      "building tree 16 of 400\n",
      "building tree 17 of 400\n",
      "building tree 18 of 400\n",
      "building tree 19 of 400\n",
      "building tree 20 of 400\n",
      "building tree 21 of 400\n",
      "building tree 22 of 400\n",
      "building tree 23 of 400\n",
      "building tree 24 of 400\n",
      "building tree 25 of 400\n",
      "building tree 26 of 400\n",
      "building tree 27 of 400\n",
      "building tree 28 of 400\n",
      "building tree 29 of 400\n",
      "building tree 31 of 400building tree 30 of 400\n",
      "\n",
      "building tree 32 of 400\n",
      "building tree 33 of 400\n",
      "building tree 34 of 400\n",
      "building tree 35 of 400\n",
      "building tree 36 of 400\n"
     ]
    },
    {
     "name": "stderr",
     "output_type": "stream",
     "text": [
      "[Parallel(n_jobs=-1)]: Done  25 tasks      | elapsed:    4.7s\n"
     ]
    },
    {
     "name": "stdout",
     "output_type": "stream",
     "text": [
      "building tree 37 of 400\n",
      "building tree 38 of 400\n",
      "building tree 39 of 400\n",
      "building tree 40 of 400\n",
      "building tree 41 of 400\n",
      "building tree 42 of 400\n",
      "building tree 43 of 400\n",
      "building tree 44 of 400\n",
      "building tree 45 of 400\n",
      "building tree 46 of 400\n",
      "building tree 47 of 400\n",
      "building tree 48 of 400\n",
      "building tree 49 of 400\n",
      "building tree 50 of 400\n",
      "building tree 51 of 400\n",
      "building tree 52 of 400\n",
      "building tree 53 of 400\n",
      "building tree 54 of 400\n",
      "building tree 55 of 400\n",
      "building tree 56 of 400\n",
      "building tree 57 of 400\n",
      "building tree 58 of 400\n",
      "building tree 59 of 400\n",
      "building tree 60 of 400\n",
      "building tree 61 of 400\n",
      "building tree 62 of 400building tree 63 of 400\n",
      "\n",
      "building tree 64 of 400\n",
      "building tree 65 of 400\n",
      "building tree 66 of 400\n",
      "building tree 67 of 400building tree 68 of 400\n",
      "\n",
      "building tree 69 of 400\n",
      "building tree 70 of 400\n",
      "building tree 71 of 400\n",
      "building tree 72 of 400\n",
      "building tree 73 of 400\n",
      "building tree 74 of 400\n",
      "building tree 76 of 400\n",
      "building tree 75 of 400\n",
      "building tree 77 of 400\n",
      "building tree 78 of 400\n",
      "building tree 79 of 400\n",
      "building tree 80 of 400\n",
      "building tree 81 of 400\n",
      "building tree 82 of 400\n",
      "building tree 83 of 400\n",
      "building tree 84 of 400\n",
      "building tree 85 of 400\n",
      "building tree 86 of 400\n",
      "building tree 87 of 400\n",
      "building tree 88 of 400\n",
      "building tree 89 of 400\n",
      "building tree 90 of 400\n",
      "building tree 91 of 400\n",
      "building tree 92 of 400\n",
      "building tree 93 of 400\n",
      "building tree 94 of 400\n",
      "building tree 95 of 400\n",
      "building tree 96 of 400\n",
      "building tree 97 of 400\n",
      "building tree 98 of 400\n",
      "building tree 99 of 400\n",
      "building tree 100 of 400\n",
      "building tree 101 of 400\n",
      "building tree 102 of 400\n",
      "building tree 103 of 400\n",
      "building tree 104 of 400\n",
      "building tree 105 of 400\n",
      "building tree 106 of 400\n",
      "building tree 107 of 400\n",
      "building tree 108 of 400\n",
      "building tree 109 of 400\n",
      "building tree 110 of 400\n",
      "building tree 111 of 400\n",
      "building tree 112 of 400\n",
      "building tree 113 of 400\n",
      "building tree 114 of 400\n",
      "building tree 115 of 400\n",
      "building tree 116 of 400\n",
      "building tree 117 of 400\n",
      "building tree 118 of 400\n",
      "building tree 119 of 400\n",
      "building tree 120 of 400\n",
      "building tree 121 of 400\n",
      "building tree 122 of 400\n",
      "building tree 123 of 400\n",
      "building tree 124 of 400\n",
      "building tree 125 of 400\n",
      "building tree 126 of 400\n",
      "building tree 127 of 400\n",
      "building tree 128 of 400\n",
      "building tree 129 of 400\n",
      "building tree 130 of 400\n",
      "building tree 131 of 400\n",
      "building tree 132 of 400\n",
      "building tree 133 of 400\n",
      "building tree 134 of 400\n",
      "building tree 135 of 400\n",
      "building tree 136 of 400\n",
      "building tree 137 of 400\n",
      "building tree 138 of 400\n",
      "building tree 139 of 400\n",
      "building tree 140 of 400\n",
      "building tree 141 of 400\n",
      "building tree 142 of 400\n",
      "building tree 143 of 400\n",
      "building tree 144 of 400\n",
      "building tree 145 of 400\n",
      "building tree 146 of 400\n",
      "building tree 147 of 400\n",
      "building tree 148 of 400\n",
      "building tree 149 of 400\n",
      "building tree 150 of 400\n",
      "building tree 151 of 400\n",
      "building tree 152 of 400\n",
      "building tree 153 of 400\n",
      "building tree 154 of 400\n"
     ]
    },
    {
     "name": "stderr",
     "output_type": "stream",
     "text": [
      "[Parallel(n_jobs=-1)]: Done 146 tasks      | elapsed:   26.0s\n"
     ]
    },
    {
     "name": "stdout",
     "output_type": "stream",
     "text": [
      "building tree 155 of 400\n",
      "building tree 156 of 400\n",
      "building tree 157 of 400\n",
      "building tree 158 of 400\n",
      "building tree 159 of 400\n",
      "building tree 160 of 400\n",
      "building tree 161 of 400\n",
      "building tree 162 of 400\n",
      "building tree 163 of 400\n",
      "building tree 164 of 400\n",
      "building tree 165 of 400\n",
      "building tree 166 of 400\n",
      "building tree 167 of 400\n",
      "building tree 168 of 400\n",
      "building tree 169 of 400\n",
      "building tree 170 of 400\n",
      "building tree 171 of 400\n",
      "building tree 172 of 400\n",
      "building tree 173 of 400\n",
      "building tree 174 of 400\n",
      "building tree 175 of 400\n",
      "building tree 176 of 400\n",
      "building tree 177 of 400\n",
      "building tree 178 of 400\n",
      "building tree 179 of 400\n",
      "building tree 180 of 400\n",
      "building tree 181 of 400\n",
      "building tree 182 of 400\n",
      "building tree 183 of 400\n",
      "building tree 184 of 400\n",
      "building tree 185 of 400\n",
      "building tree 186 of 400\n",
      "building tree 187 of 400\n",
      "building tree 188 of 400\n",
      "building tree 189 of 400\n",
      "building tree 190 of 400\n",
      "building tree 191 of 400\n",
      "building tree 192 of 400\n",
      "building tree 193 of 400\n",
      "building tree 194 of 400\n",
      "building tree 195 of 400\n",
      "building tree 196 of 400\n",
      "building tree 197 of 400\n",
      "building tree 198 of 400\n",
      "building tree 199 of 400\n",
      "building tree 200 of 400\n",
      "building tree 201 of 400\n",
      "building tree 202 of 400\n",
      "building tree 203 of 400\n",
      "building tree 204 of 400\n",
      "building tree 205 of 400\n",
      "building tree 206 of 400\n",
      "building tree 207 of 400\n",
      "building tree 208 of 400\n",
      "building tree 209 of 400\n",
      "building tree 210 of 400\n",
      "building tree 211 of 400\n",
      "building tree 212 of 400\n",
      "building tree 213 of 400\n",
      "building tree 214 of 400\n",
      "building tree 215 of 400\n",
      "building tree 216 of 400\n",
      "building tree 217 of 400\n",
      "building tree 218 of 400\n",
      "building tree 219 of 400\n",
      "building tree 220 of 400\n",
      "building tree 221 of 400\n",
      "building tree 222 of 400\n",
      "building tree 223 of 400\n",
      "building tree 224 of 400\n",
      "building tree 225 of 400\n",
      "building tree 226 of 400\n",
      "building tree 227 of 400\n",
      "building tree 228 of 400\n",
      "building tree 229 of 400\n",
      "building tree 230 of 400\n",
      "building tree 231 of 400\n",
      "building tree 232 of 400\n",
      "building tree 233 of 400\n",
      "building tree 234 of 400\n",
      "building tree 235 of 400\n",
      "building tree 236 of 400\n",
      "building tree 237 of 400\n",
      "building tree 238 of 400\n",
      "building tree 239 of 400\n",
      "building tree 240 of 400\n",
      "building tree 241 of 400\n",
      "building tree 242 of 400\n",
      "building tree 243 of 400\n",
      "building tree 244 of 400\n",
      "building tree 245 of 400\n",
      "building tree 246 of 400\n",
      "building tree 247 of 400\n",
      "building tree 248 of 400\n",
      "building tree 249 of 400\n",
      "building tree 250 of 400\n",
      "building tree 251 of 400\n",
      "building tree 252 of 400\n",
      "building tree 253 of 400\n",
      "building tree 254 of 400\n",
      "building tree 255 of 400\n",
      "building tree 256 of 400\n",
      "building tree 257 of 400\n",
      "building tree 258 of 400\n",
      "building tree 259 of 400\n",
      "building tree 260 of 400\n",
      "building tree 261 of 400\n",
      "building tree 262 of 400\n",
      "building tree 263 of 400\n",
      "building tree 264 of 400\n",
      "building tree 265 of 400\n",
      "building tree 266 of 400\n",
      "building tree 267 of 400\n",
      "building tree 268 of 400\n",
      "building tree 269 of 400\n",
      "building tree 270 of 400\n",
      "building tree 271 of 400\n",
      "building tree 272 of 400\n",
      "building tree 273 of 400\n",
      "building tree 274 of 400\n",
      "building tree 275 of 400\n",
      "building tree 276 of 400\n",
      "building tree 277 of 400\n",
      "building tree 278 of 400\n",
      "building tree 279 of 400\n",
      "building tree 280 of 400\n",
      "building tree 281 of 400\n",
      "building tree 282 of 400\n",
      "building tree 283 of 400\n",
      "building tree 284 of 400\n",
      "building tree 285 of 400\n",
      "building tree 286 of 400\n",
      "building tree 287 of 400\n",
      "building tree 288 of 400\n",
      "building tree 289 of 400\n",
      "building tree 290 of 400\n",
      "building tree 291 of 400\n",
      "building tree 292 of 400\n",
      "building tree 293 of 400\n",
      "building tree 294 of 400\n",
      "building tree 295 of 400\n",
      "building tree 296 of 400\n",
      "building tree 297 of 400\n",
      "building tree 298 of 400\n",
      "building tree 299 of 400\n",
      "building tree 300 of 400\n",
      "building tree 301 of 400\n",
      "building tree 302 of 400\n",
      "building tree 303 of 400\n",
      "building tree 304 of 400\n",
      "building tree 305 of 400\n",
      "building tree 306 of 400\n",
      "building tree 307 of 400\n",
      "building tree 308 of 400\n",
      "building tree 309 of 400\n",
      "building tree 310 of 400\n",
      "building tree 311 of 400\n",
      "building tree 312 of 400\n",
      "building tree 313 of 400\n",
      "building tree 314 of 400\n",
      "building tree 315 of 400\n",
      "building tree 316 of 400\n",
      "building tree 317 of 400\n",
      "building tree 318 of 400\n",
      "building tree 319 of 400\n",
      "building tree 320 of 400\n",
      "building tree 321 of 400\n",
      "building tree 322 of 400\n",
      "building tree 323 of 400\n",
      "building tree 324 of 400\n",
      "building tree 325 of 400\n",
      "building tree 326 of 400\n",
      "building tree 327 of 400\n",
      "building tree 328 of 400\n",
      "building tree 329 of 400\n",
      "building tree 330 of 400\n",
      "building tree 331 of 400\n",
      "building tree 332 of 400\n",
      "building tree 333 of 400\n",
      "building tree 334 of 400\n",
      "building tree 335 of 400\n",
      "building tree 336 of 400\n",
      "building tree 337 of 400\n",
      "building tree 338 of 400\n",
      "building tree 339 of 400\n",
      "building tree 340 of 400\n",
      "building tree 341 of 400\n",
      "building tree 342 of 400\n",
      "building tree 343 of 400\n",
      "building tree 344 of 400\n",
      "building tree 345 of 400\n",
      "building tree 346 of 400\n",
      "building tree 347 of 400\n",
      "building tree 348 of 400\n",
      "building tree 349 of 400\n",
      "building tree 350 of 400\n",
      "building tree 351 of 400\n",
      "building tree 352 of 400\n",
      "building tree 353 of 400\n",
      "building tree 354 of 400\n",
      "building tree 355 of 400\n",
      "building tree 356 of 400\n",
      "building tree 357 of 400\n"
     ]
    },
    {
     "name": "stderr",
     "output_type": "stream",
     "text": [
      "[Parallel(n_jobs=-1)]: Done 349 tasks      | elapsed:  1.0min\n"
     ]
    },
    {
     "name": "stdout",
     "output_type": "stream",
     "text": [
      "building tree 358 of 400\n",
      "building tree 359 of 400\n",
      "building tree 360 of 400\n",
      "building tree 361 of 400\n",
      "building tree 362 of 400\n",
      "building tree 363 of 400\n",
      "building tree 364 of 400\n",
      "building tree 365 of 400\n",
      "building tree 366 of 400\n",
      "building tree 367 of 400\n",
      "building tree 368 of 400\n",
      "building tree 369 of 400\n",
      "building tree 370 of 400\n",
      "building tree 371 of 400\n",
      "building tree 372 of 400\n",
      "building tree 373 of 400\n",
      "building tree 374 of 400\n",
      "building tree 375 of 400\n",
      "building tree 376 of 400\n",
      "building tree 377 of 400\n",
      "building tree 378 of 400\n",
      "building tree 379 of 400\n",
      "building tree 380 of 400\n",
      "building tree 381 of 400\n",
      "building tree 382 of 400\n",
      "building tree 383 of 400\n",
      "building tree 384 of 400\n",
      "building tree 385 of 400\n",
      "building tree 386 of 400\n",
      "building tree 387 of 400\n",
      "building tree 388 of 400\n",
      "building tree 389 of 400\n",
      "building tree 390 of 400\n",
      "building tree 391 of 400\n",
      "building tree 392 of 400\n",
      "building tree 393 of 400\n",
      "building tree 394 of 400\n",
      "building tree 395 of 400\n",
      "building tree 396 of 400\n",
      "building tree 397 of 400\n",
      "building tree 398 of 400\n",
      "building tree 399 of 400\n",
      "building tree 400 of 400\n"
     ]
    },
    {
     "name": "stderr",
     "output_type": "stream",
     "text": [
      "[Parallel(n_jobs=-1)]: Done 400 out of 400 | elapsed:  1.2min finished\n"
     ]
    }
   ],
   "source": [
    "# Treinar o modelo\n",
    "modelo_random_forest = RandomForestRegressor(**parametros)\n",
    "start_time = time.time()\n",
    "modelo_random_forest.fit(X_train[:amostra], y_train['NUM_NOTA_CH'][:amostra])\n",
    "tempo_treino = time.time() - start_time"
   ]
  },
  {
   "cell_type": "code",
   "execution_count": 23,
   "id": "75785ab1",
   "metadata": {},
   "outputs": [
    {
     "name": "stderr",
     "output_type": "stream",
     "text": [
      "[Parallel(n_jobs=8)]: Using backend ThreadingBackend with 8 concurrent workers.\n",
      "[Parallel(n_jobs=8)]: Done  25 tasks      | elapsed:    0.3s\n",
      "[Parallel(n_jobs=8)]: Done 146 tasks      | elapsed:    1.5s\n",
      "[Parallel(n_jobs=8)]: Done 349 tasks      | elapsed:    3.5s\n",
      "[Parallel(n_jobs=8)]: Done 400 out of 400 | elapsed:    4.0s finished\n"
     ]
    }
   ],
   "source": [
    "# Avaliação do modelo final\n",
    "y_pred_rf = modelo_random_forest.predict(X_test)"
   ]
  },
  {
   "cell_type": "code",
   "execution_count": 24,
   "id": "4cab3398",
   "metadata": {},
   "outputs": [
    {
     "name": "stderr",
     "output_type": "stream",
     "text": [
      "Registered model 'modelo_random_forest' already exists. Creating a new version of this model...\n",
      "2025/06/07 22:28:39 INFO mlflow.store.model_registry.abstract_store: Waiting up to 300 seconds for model version to finish creation. Model name: modelo_random_forest, version 4\n",
      "Created version '4' of model 'modelo_random_forest'.\n"
     ]
    },
    {
     "name": "stdout",
     "output_type": "stream",
     "text": [
      "🏃 View run sincere-sponge-18 at: http://127.0.0.1:9080/#/experiments/957135083854196683/runs/2b4114a9856a4d30bafdc6943b166a28\n",
      "🧪 View experiment at: http://127.0.0.1:9080/#/experiments/957135083854196683\n",
      "Modelo registrado com sucesso no MLflow: modelo_random_forest\n",
      "Rastreamento do MLflow finalizado.\n"
     ]
    }
   ],
   "source": [
    "nome_experimento = 'Notas CH ENEM 2023'\n",
    "\n",
    "registrar_modelo(experimento=nome_experimento, \n",
    "                     parametros={**parametros, 'amostra': amostra, \"tempo\": tempo_treino}, \n",
    "                     X_train=X_train[:amostra], \n",
    "                     y_train=y_train[:amostra], \n",
    "                     y_test=y_test, \n",
    "                     y_pred=y_pred_rf,\n",
    "                     variavel_alvo='NUM_NOTA_CH',\n",
    "                     modelo=modelo_random_forest, \n",
    "                     nome_modelo='modelo_random_forest',\n",
    "                     descricao_modelo='Modelo Random Forest')"
   ]
  },
  {
   "cell_type": "code",
   "execution_count": 25,
   "id": "24de69d1",
   "metadata": {},
   "outputs": [
    {
     "name": "stderr",
     "output_type": "stream",
     "text": [
      "[Parallel(n_jobs=8)]: Using backend ThreadingBackend with 8 concurrent workers.\n",
      "[Parallel(n_jobs=8)]: Done  25 tasks      | elapsed:    1.0s\n",
      "[Parallel(n_jobs=8)]: Done 146 tasks      | elapsed:    4.9s\n",
      "[Parallel(n_jobs=8)]: Done 349 tasks      | elapsed:   11.3s\n"
     ]
    },
    {
     "name": "stdout",
     "output_type": "stream",
     "text": [
      "MAE (treino): 56.4623\n",
      "RMSE (treino): 71.3579\n",
      "R2 (treino): 0.2895\n",
      "MAE (teste): 56.6246\n",
      "RMSE (teste): 71.4458\n",
      "R2 (teste): 0.2840\n"
     ]
    },
    {
     "name": "stderr",
     "output_type": "stream",
     "text": [
      "[Parallel(n_jobs=8)]: Done 400 out of 400 | elapsed:   12.9s finished\n"
     ]
    }
   ],
   "source": [
    "# Avaliação grupo treino\n",
    "avaliar_modelo(y_train['NUM_NOTA_CH'], modelo_random_forest.predict(X_train), \"treino\")\n",
    "\n",
    "# Avaliação grupo teste\n",
    "avaliar_modelo(y_test['NUM_NOTA_CH'], y_pred_rf, \"teste\")"
   ]
  },
  {
   "cell_type": "code",
   "execution_count": 29,
   "id": "f053d53b",
   "metadata": {},
   "outputs": [
    {
     "data": {
      "text/plain": [
       "['Modelos\\\\modelo_random_forest_base.pkl']"
      ]
     },
     "execution_count": 29,
     "metadata": {},
     "output_type": "execute_result"
    }
   ],
   "source": [
    "# Salvar o modelo otimizado como um arquivo pickle\n",
    "joblib.dump(modelo_random_forest, 'Modelos\\modelo_random_forest_base.pkl')"
   ]
  },
  {
   "cell_type": "markdown",
   "id": "77df2ab6",
   "metadata": {},
   "source": [
    "Aplicar Random Search"
   ]
  },
  {
   "cell_type": "code",
   "execution_count": 9,
   "id": "2700f144",
   "metadata": {},
   "outputs": [],
   "source": [
    "len(X_train)\n",
    "amostra = 10000"
   ]
  },
  {
   "cell_type": "code",
   "execution_count": 10,
   "id": "0419d9a4",
   "metadata": {},
   "outputs": [],
   "source": [
    "param_distributions = {\n",
    "    'n_estimators': [100, 300, 500],                  # Número de árvores\n",
    "    'max_depth': range(50, 100, 10),                  # Profundidade máxima das árvores\n",
    "    'min_samples_split': [2, 5, 10],                  # Número mínimo de amostras para dividir um nó\n",
    "    'min_samples_leaf': [1, 2, 5],                    # Número mínimo de amostras em uma folha\n",
    "    'max_features': ['sqrt', 'log2'],                 # Número de features consideradas para divisão\n",
    "    'bootstrap': [True],                              # Usar bootstrap ou não\n",
    "    'criterion': ['absolute_error'],                  # Critério de divisão\n",
    "    'ccp_alpha': [0.2, 0.3436, 0.4]                   # Parâmetro de poda de complexidade de custo\n",
    "}"
   ]
  },
  {
   "cell_type": "code",
   "execution_count": 11,
   "id": "a26029bf",
   "metadata": {},
   "outputs": [],
   "source": [
    "# Configurar o RandomizedSearchCV: este métodos testa combinações aleatórias de hiperparâmetros\n",
    "\n",
    "n_iter = 5  # Número de combinações a serem testadas\n",
    "kf = KFold(n_splits=4, shuffle=True, random_state=42)  # Divisão em partes para validação cruzada\n",
    "\n",
    "random_search = RandomizedSearchCV(\n",
    "    estimator=RandomForestRegressor(random_state=42),\n",
    "    param_distributions=param_distributions,\n",
    "    n_iter=n_iter,\n",
    "    cv=kf,\n",
    "    scoring='neg_mean_absolute_error',\n",
    "    verbose=2,\n",
    "    n_jobs=-1,\n",
    "    random_state=42\n",
    ")"
   ]
  },
  {
   "cell_type": "code",
   "execution_count": null,
   "id": "7e2ca556",
   "metadata": {},
   "outputs": [
    {
     "name": "stdout",
     "output_type": "stream",
     "text": [
      "Fitting 4 folds for each of 5 candidates, totalling 20 fits\n"
     ]
    }
   ],
   "source": [
    "# Executar o Random Search\n",
    "start_time_search = time.time()\n",
    "random_search.fit(X_train[:amostra], y_train['NUM_NOTA_CH'][:amostra])\n",
    "tempo_search = time.time() - start_time\n",
    "\n",
    "print(f\"Tempo de execução do Random Search: {tempo_search:.2f} segundos\")"
   ]
  },
  {
   "cell_type": "code",
   "execution_count": 16,
   "id": "4f8bc352",
   "metadata": {},
   "outputs": [
    {
     "name": "stdout",
     "output_type": "stream",
     "text": [
      "Erro ao obter melhores parâmetros, usando valores calculados anteriormente:\n",
      " {'n_estimators': 500, 'min_samples_split': 10, 'min_samples_leaf': 2, 'max_features': 'sqrt', 'max_depth': 60, 'criterion': 'absolute_error', 'ccp_alpha': 0.2, 'bootstrap': True}\n"
     ]
    }
   ],
   "source": [
    "# Melhores parâmetros encontrados\n",
    "try:\n",
    "    best_params = random_search.best_params_\n",
    "    print(\"Melhores parâmetros encontrados: \", best_params)\n",
    "except:\n",
    "    best_params = {'n_estimators': 500, 'min_samples_split': 10, 'min_samples_leaf': 2, 'max_features': 'sqrt', 'max_depth': 60, 'criterion': 'absolute_error', 'ccp_alpha': 0.2, 'bootstrap': True}\n",
    "    print(f\"Erro ao obter melhores parâmetros, usando valores calculados anteriormente:\\n {best_params}\")"
   ]
  },
  {
   "cell_type": "code",
   "execution_count": 17,
   "id": "dd3f8be3",
   "metadata": {},
   "outputs": [],
   "source": [
    "# Treinar o modelo com os melhores parâmetros\n",
    "modelo_random_forest_random_search = RandomForestRegressor(**best_params, n_jobs=-1, random_state=42)\n",
    "\n",
    "start_time = time.time()\n",
    "modelo_random_forest_random_search.fit(X_train[:amostra], y_train['NUM_NOTA_CH'][:amostra])\n",
    "tempo_treino = time.time() - start_time"
   ]
  },
  {
   "cell_type": "code",
   "execution_count": 18,
   "id": "4eab892e",
   "metadata": {},
   "outputs": [],
   "source": [
    "# Avaliação do modelo final\n",
    "y_pred_rf_rs = modelo_random_forest_random_search.predict(X_test)"
   ]
  },
  {
   "cell_type": "code",
   "execution_count": 19,
   "id": "5b6215bf",
   "metadata": {},
   "outputs": [
    {
     "name": "stderr",
     "output_type": "stream",
     "text": [
      "Registered model 'modelo_random_forest_random_search' already exists. Creating a new version of this model...\n",
      "2025/06/07 21:29:13 INFO mlflow.store.model_registry.abstract_store: Waiting up to 300 seconds for model version to finish creation. Model name: modelo_random_forest_random_search, version 21\n"
     ]
    },
    {
     "name": "stdout",
     "output_type": "stream",
     "text": [
      "🏃 View run exultant-snipe-285 at: http://127.0.0.1:9080/#/experiments/957135083854196683/runs/070e7fac4049486d9a05ad99fb03c4c2\n",
      "🧪 View experiment at: http://127.0.0.1:9080/#/experiments/957135083854196683\n",
      "Modelo registrado com sucesso no MLflow: modelo_random_forest_random_search\n",
      "Rastreamento do MLflow finalizado.\n"
     ]
    },
    {
     "name": "stderr",
     "output_type": "stream",
     "text": [
      "Created version '21' of model 'modelo_random_forest_random_search'.\n"
     ]
    }
   ],
   "source": [
    "nome_experimento = 'Notas CH ENEM 2023'\n",
    "\n",
    "registrar_modelo(experimento=nome_experimento, \n",
    "                     parametros={**best_params, 'amostra': amostra, \"tempo\": tempo_treino}, \n",
    "                     X_train=X_train[:amostra], \n",
    "                     y_train=y_train[:amostra], \n",
    "                     y_test=y_test, \n",
    "                     y_pred=y_pred_rf_rs, \n",
    "                     variavel_alvo='NUM_NOTA_CH', \n",
    "                     modelo=modelo_random_forest_random_search, \n",
    "                     nome_modelo='modelo_random_forest_random_search',\n",
    "                     descricao_modelo='Modelo Random Forest com RandomizedSearchCV')"
   ]
  },
  {
   "cell_type": "code",
   "execution_count": 20,
   "id": "35c9050e",
   "metadata": {},
   "outputs": [
    {
     "name": "stdout",
     "output_type": "stream",
     "text": [
      "MAE (treino): 58.0406\n",
      "RMSE (treino): 73.5842\n",
      "R2 (treino): 0.2445\n",
      "MAE (teste): 57.8502\n",
      "RMSE (teste): 73.3496\n",
      "R2 (teste): 0.2453\n"
     ]
    }
   ],
   "source": [
    "# Avaliação grupo treino\n",
    "avaliar_modelo(y_train['NUM_NOTA_CH'], modelo_random_forest_random_search.predict(X_train), \"treino\")\n",
    "\n",
    "# Avaliação grupo teste\n",
    "avaliar_modelo(y_test['NUM_NOTA_CH'], y_pred_rf_rs, \"teste\")"
   ]
  },
  {
   "cell_type": "code",
   "execution_count": 21,
   "id": "6ee679d5",
   "metadata": {},
   "outputs": [
    {
     "data": {
      "text/plain": [
       "['Modelos\\\\modelo_random_forest_random_search.pkl']"
      ]
     },
     "execution_count": 21,
     "metadata": {},
     "output_type": "execute_result"
    }
   ],
   "source": [
    "# Salvar o modelo otimizado como um arquivo pickle\n",
    "joblib.dump(modelo_random_forest_random_search, 'Modelos\\modelo_random_forest_random_search.pkl')"
   ]
  }
 ],
 "metadata": {
  "kernelspec": {
   "display_name": ".venv",
   "language": "python",
   "name": "python3"
  },
  "language_info": {
   "codemirror_mode": {
    "name": "ipython",
    "version": 3
   },
   "file_extension": ".py",
   "mimetype": "text/x-python",
   "name": "python",
   "nbconvert_exporter": "python",
   "pygments_lexer": "ipython3",
   "version": "3.11.4"
  }
 },
 "nbformat": 4,
 "nbformat_minor": 5
}
