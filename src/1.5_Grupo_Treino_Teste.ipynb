{
 "cells": [
  {
   "cell_type": "code",
   "execution_count": 1,
   "id": "7dd9ca0b",
   "metadata": {},
   "outputs": [],
   "source": [
    "import pandas as pd\n",
    "from sklearn.model_selection import train_test_split"
   ]
  },
  {
   "cell_type": "code",
   "execution_count": 2,
   "id": "98279ef8",
   "metadata": {},
   "outputs": [],
   "source": [
    "# Ler base unificada do ENEM 2023 + Censo Escolar 2023\n",
    "df_enem_censo = pd.read_pickle('Bases\\microdados_enem_censo_2023.pkl')\n",
    "\n",
    "# 5 Variáveis alvo\n",
    "# 40 Variáveis preditoras socioeconômicas ENEM\n",
    "# 66 Variáveis preditoras escolares"
   ]
  },
  {
   "cell_type": "markdown",
   "id": "fcb2c0a4",
   "metadata": {},
   "source": [
    "Variáveis"
   ]
  },
  {
   "cell_type": "code",
   "execution_count": 3,
   "id": "d0def0c9",
   "metadata": {},
   "outputs": [],
   "source": [
    "colunas_alvo = ['NUM_NOTA_CH', 'NUM_NOTA_CN', 'NUM_NOTA_LC', 'NUM_NOTA_MT', 'NUM_NOTA_REDACAO']\n",
    "\n",
    "colunas_socioeconomicas = [\n",
    "    \"BIN_Q001_DUMMY_H\", \"BIN_Q002_DUMMY_H\", \"BIN_Q018\",\n",
    "    \"BIN_Q020\", \"BIN_Q021\", \"BIN_Q023\", \"BIN_Q025\", \"CAT_COR_RACA\", \"CAT_CO_MUNICIPIO_ESC\", \n",
    "    \"CAT_CO_UF_ESC\", \"CAT_DEPENDENCIA_ADM_ESC\", \"CAT_ENSINO\", \"CAT_ESCOLA\", \"CAT_ESTADO_CIVIL\", \"CAT_FAIXA_ETARIA\",\n",
    "    \"CAT_LINGUA\", \"CAT_LOCALIZACAO_ESC\", \"CAT_NACIONALIDADE\", \"CAT_Q003\", \"CAT_Q004\", \"CAT_SEXO\", \"CAT_SIT_FUNC_ESC\",\n",
    "    \"NUM_Q001\", \"NUM_Q002\", \"NUM_Q005\", \"NUM_Q006\", \"NUM_Q007\", \"NUM_Q008\", \"NUM_Q009\", \"NUM_Q010\", \"NUM_Q011\",\n",
    "    \"NUM_Q012\", \"NUM_Q013\", \"NUM_Q014\", \"NUM_Q015\", \"NUM_Q016\", \"NUM_Q017\", \"NUM_Q019\", \"NUM_Q022\", \"NUM_Q024\"\n",
    "]\n",
    "\n",
    "colunas_censo_escolar = [\n",
    "    \"CAT_MODE_CATEGORIA_ESCOLA_PRIVADA\", \"CAT_MODE_EXAME_SELECAO\", \"CAT_MODE_LOCALIZACAO_DIFERENCIADA\", \"CAT_MODE_OCUPACAO_GALPAO\",\n",
    "    \"CAT_MODE_OCUPACAO_PREDIO_ESCOLAR\", \"CAT_MODE_ORGAO_REGIONAL\", \"CAT_MODE_PROPOSTA_PEDAGOGICA\", \"CAT_MODE_REGIAO\",\n",
    "    \"CAT_MODE_TRATAMENTO_LIXO_INEXISTENTE\",\n",
    "    \"NUM_MEAN_COMP_PORTATIL_ALUNO\", \"NUM_MEAN_DESKTOP_ALUNO\", \"NUM_MEAN_DOC_MED\", \"NUM_MEAN_EQUIP_LOUSA_DIGITAL\",\n",
    "    \"NUM_MEAN_EQUIP_MULTIMIDIA\", \"NUM_MEAN_EQUIP_TV\", \"NUM_MEAN_MAT_MED\", \"NUM_MEAN_MAT_MED_INT\",\n",
    "    \"NUM_MEAN_MAT_MED_NM\", \"NUM_MEAN_PROF_BIBLIOTECARIO\", \"NUM_MEAN_PROF_MONITORES\", \"NUM_MEAN_PROF_PEDAGOGIA\",\n",
    "    \"NUM_MEAN_PROF_PSICOLOGO\", \"NUM_MEAN_SALAS_UTILIZADAS\", \"NUM_MEAN_TABLET_ALUNO\", \"NUM_MEAN_TUR_MED\",\n",
    "    \"NUM_MEAN_TUR_MED_INT\", \"NUM_PERC_AGUA_INEXISTENTE\", \"NUM_PERC_AGUA_POTAVEL\", \"NUM_PERC_AREA_VERDE\",\n",
    "    \"NUM_PERC_AUDITORIO\", \"NUM_PERC_BANHEIRO\", \"NUM_PERC_BIBLIOTECA\", \"NUM_PERC_ENERGIA_INEXISTENTE\",\n",
    "    \"NUM_PERC_ESGOTO_INEXISTENTE\", \"NUM_PERC_INTERNET_ALUNOS\", \"NUM_PERC_INTERNET_APRENDIZAGEM\", \"NUM_PERC_LABORATORIO_CIENCIAS\",\n",
    "    \"NUM_PERC_LABORATORIO_INFORMATICA\", \"NUM_PERC_LOCAL_FUNC_GALPAO\", \"NUM_PERC_LOCAL_FUNC_OUTROS\", \"NUM_PERC_LOCAL_FUNC_PREDIO_ESCOLAR\",\n",
    "    \"NUM_PERC_LOCAL_FUNC_PRISIONAL_SOCIO\", \"NUM_PERC_LOCAL_FUNC_SALAS_OUTRA_ESC\", \"NUM_PERC_LOCAL_FUNC_SOCIOEDUCATIVO\", \"NUM_PERC_LOCAL_FUNC_UNID_PRISIONAL\",\n",
    "    \"NUM_PERC_MANT_ESCOLA_PRIVADA_EMP\", \"NUM_PERC_MANT_ESCOLA_PRIVADA_ONG\", \"NUM_PERC_MANT_ESCOLA_PRIVADA_OSCIP\", \"NUM_PERC_MANT_ESCOLA_PRIVADA_SIND\",\n",
    "    \"NUM_PERC_MANT_ESCOLA_PRIVADA_SIST_S\", \"NUM_PERC_MANT_ESCOLA_PRIVADA_S_FINS\", \"NUM_PERC_MANT_ESCOLA_PRIV_ONG_OSCIP\", \"NUM_PERC_MATERIAL_PED_NENHUM\",\n",
    "    \"NUM_PERC_MEDIACAO_EAD\", \"NUM_PERC_MEDIACAO_PRESENCIAL\", \"NUM_PERC_MEDIACAO_SEMIPRESENCIAL\", \"NUM_PERC_PISCINA\",\n",
    "    \"NUM_PERC_PODER_PUBLICO_PARCERIA\", \"NUM_PERC_PROF_TEC\", \"NUM_PERC_QUADRA_ESPORTES\", \"NUM_PERC_SALA_ATELIE_ARTES\",\n",
    "    \"NUM_PERC_SALA_MUSICA_CORAL\", \"NUM_PERC_VINCULO_OUTRO_ORGAO\", \"NUM_PERC_VINCULO_SECRETARIA_EDUCACAO\", \"NUM_PERC_VINCULO_SECRETARIA_SAUDE\",\n",
    "    \"NUM_PERC_VINCULO_SEGURANCA_PUBLICA\"\n",
    "]"
   ]
  },
  {
   "cell_type": "markdown",
   "id": "91b690a3",
   "metadata": {},
   "source": [
    "Salvar bases completas"
   ]
  },
  {
   "cell_type": "code",
   "execution_count": 4,
   "id": "f47a985b",
   "metadata": {},
   "outputs": [],
   "source": [
    "# Salvar base full\n",
    "df_enem_censo.to_pickle('Bases\\Finais\\enem_censo_2023_full.pkl')"
   ]
  },
  {
   "cell_type": "code",
   "execution_count": 5,
   "id": "b48fdd27",
   "metadata": {},
   "outputs": [],
   "source": [
    "# Salvar base full apenas socioeconomicos\n",
    "df_enem_censo_socioeconomicos = df_enem_censo[colunas_alvo + colunas_socioeconomicas]\n",
    "df_enem_censo_socioeconomicos.to_pickle('Bases\\Finais\\enem_2023_full.pkl')"
   ]
  },
  {
   "cell_type": "markdown",
   "id": "46ca3d68",
   "metadata": {},
   "source": [
    "Salvar treino e teste sem pré-processamento"
   ]
  },
  {
   "cell_type": "code",
   "execution_count": 6,
   "id": "d79a3cf0",
   "metadata": {},
   "outputs": [],
   "source": [
    "# separar em treino e teste\n",
    "X = df_enem_censo.drop(columns=colunas_alvo)\n",
    "y = df_enem_censo[colunas_alvo]\n",
    "X_train, X_test, y_train, y_test = train_test_split(X, y, test_size=0.2, random_state=42)"
   ]
  },
  {
   "cell_type": "code",
   "execution_count": 7,
   "id": "b305a91f",
   "metadata": {},
   "outputs": [],
   "source": [
    "# Salvar base features de treino e teste completa (variáveis socioeconômicas + censo escolar)\n",
    "X_train.to_pickle('Bases\\Finais\\X_train_enem_censo_2023.pkl')\n",
    "X_test.to_pickle('Bases\\Finais\\X_test_enem_censo_2023.pkl')"
   ]
  },
  {
   "cell_type": "code",
   "execution_count": 8,
   "id": "0c7c191b",
   "metadata": {},
   "outputs": [],
   "source": [
    "# Salvar bases features de treino apenas variáveis socioeconômicas\n",
    "X_train_socio = X_train[colunas_socioeconomicas]\n",
    "X_test_socio = X_test[colunas_socioeconomicas]\n",
    "\n",
    "X_train_socio.to_pickle('Bases\\Finais\\X_train_enem_2023.pkl')\n",
    "X_test_socio.to_pickle('Bases\\Finais\\X_test_enem_2023.pkl')"
   ]
  },
  {
   "cell_type": "code",
   "execution_count": 9,
   "id": "f682d5cb",
   "metadata": {},
   "outputs": [],
   "source": [
    "# Salvar base variáveis alvo de treino e teste\n",
    "y_train.to_pickle('Bases\\Finais\\y_train_2023.pkl')\n",
    "y_test.to_pickle('Bases\\Finais\\y_test_2023.pkl')"
   ]
  },
  {
   "cell_type": "code",
   "execution_count": 10,
   "id": "61bf43fd",
   "metadata": {},
   "outputs": [
    {
     "name": "stdout",
     "output_type": "stream",
     "text": [
      "106 variáveis preditoras de treino salvas.\n",
      "106 variáveis preditoras de teste salvas.\n",
      "40 variáveis socioeconômicas de treino salvas.\n",
      "40 variáveis socioeconômicas de teste salvas.\n",
      "5 variáveis alvo de treino salvas.\n",
      "5 variáveis alvo de teste salvas.\n",
      "Bases salvas com sucesso!\n"
     ]
    }
   ],
   "source": [
    "print(len(X_train.columns), \"variáveis preditoras de treino salvas.\")\n",
    "print(len(X_test.columns), \"variáveis preditoras de teste salvas.\")\n",
    "print(len(X_train_socio.columns), \"variáveis socioeconômicas de treino salvas.\")\n",
    "print(len(X_test_socio.columns), \"variáveis socioeconômicas de teste salvas.\")\n",
    "print(len(y_train.columns), \"variáveis alvo de treino salvas.\")\n",
    "print(len(y_test.columns), \"variáveis alvo de teste salvas.\")\n",
    "print(\"Bases salvas com sucesso!\")"
   ]
  },
  {
   "cell_type": "code",
   "execution_count": 11,
   "id": "65ef6538",
   "metadata": {},
   "outputs": [
    {
     "name": "stdout",
     "output_type": "stream",
     "text": [
      "573194 variáveis preditoras de treino.\n",
      "143299 variáveis preditoras de teste.\n",
      "573194 variáveis socioeconômicas de treino.\n",
      "143299 variáveis socioeconômicas de teste.\n",
      "573194 variáveis alvo de treino.\n",
      "143299 variáveis alvo de teste.\n"
     ]
    }
   ],
   "source": [
    "print(len(X_train), \"variáveis preditoras de treino.\")\n",
    "print(len(X_test), \"variáveis preditoras de teste.\")\n",
    "print(len(X_train_socio), \"variáveis socioeconômicas de treino.\")\n",
    "print(len(X_test_socio), \"variáveis socioeconômicas de teste.\")\n",
    "print(len(y_train), \"variáveis alvo de treino.\")\n",
    "print(len(y_test), \"variáveis alvo de teste.\")"
   ]
  },
  {
   "cell_type": "markdown",
   "id": "42b84c41",
   "metadata": {},
   "source": [
    "Testando..."
   ]
  },
  {
   "cell_type": "code",
   "execution_count": null,
   "id": "71cffa5e",
   "metadata": {},
   "outputs": [],
   "source": [
    "# Aplicar o LabelEncoder para converter as colunas categóricas em numéricas\n",
    "label_encoder = LabelEncoder()\n",
    "categorical_columns = df_enem.select_dtypes(include=['category']).columns\n",
    "\n",
    "for col in categorical_columns:\n",
    "    df_enem[col] = label_encoder.fit_transform(df_enem[col])"
   ]
  }
 ],
 "metadata": {
  "kernelspec": {
   "display_name": ".venv",
   "language": "python",
   "name": "python3"
  },
  "language_info": {
   "codemirror_mode": {
    "name": "ipython",
    "version": 3
   },
   "file_extension": ".py",
   "mimetype": "text/x-python",
   "name": "python",
   "nbconvert_exporter": "python",
   "pygments_lexer": "ipython3",
   "version": "3.11.4"
  }
 },
 "nbformat": 4,
 "nbformat_minor": 5
}
