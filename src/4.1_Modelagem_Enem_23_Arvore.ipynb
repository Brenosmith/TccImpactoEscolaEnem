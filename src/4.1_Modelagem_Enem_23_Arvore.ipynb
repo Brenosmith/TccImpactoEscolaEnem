{
 "cells": [
  {
   "cell_type": "code",
   "execution_count": 1,
   "id": "268a7ade",
   "metadata": {},
   "outputs": [],
   "source": [
    "import pandas as pd\n",
    "import joblib\n",
    "import time\n",
    "\n",
    "from sklearn.model_selection import train_test_split\n",
    "from sklearn.preprocessing import LabelEncoder\n",
    "from sklearn.tree import DecisionTreeRegressor\n",
    "from sklearn.model_selection import GridSearchCV, KFold\n",
    "from sklearn.metrics import mean_absolute_error\n",
    "\n",
    "from Funcoes_Comuns import avaliar_modelo, registrar_modelo"
   ]
  },
  {
   "cell_type": "markdown",
   "id": "4b6df2be",
   "metadata": {},
   "source": [
    "#### 1. Recuperar base já pré-processada"
   ]
  },
  {
   "cell_type": "code",
   "execution_count": 2,
   "id": "87585d84",
   "metadata": {},
   "outputs": [],
   "source": [
    "# Obter dados\n",
    "df_enem = pd.read_pickle('Bases\\\\Finais\\\\enem_microdados_2023.pkl')"
   ]
  },
  {
   "cell_type": "markdown",
   "id": "6f3e7eed",
   "metadata": {},
   "source": [
    "#### 2. Label Encoding\n",
    "- Apenas transforma variáveis categóricas em numéricas, não há significado numérico\n",
    "- Processamento necessário para modelos aplicados: árvore de decisão"
   ]
  },
  {
   "cell_type": "code",
   "execution_count": 3,
   "id": "0f166544",
   "metadata": {},
   "outputs": [],
   "source": [
    "# Aplicar o LabelEncoder para converter as colunas categóricas em numéricas\n",
    "# Salvar os encoders para possível uso posterior\n",
    "label_encoders = {}\n",
    "categorical_columns = df_enem.select_dtypes(include=['category']).columns\n",
    "\n",
    "for col in categorical_columns:\n",
    "    le = LabelEncoder()\n",
    "    df_enem[col] = le.fit_transform(df_enem[col])\n",
    "    label_encoders[col] = le  # Salvar o encoder para a coluna"
   ]
  },
  {
   "cell_type": "code",
   "execution_count": 4,
   "id": "a5c1accd",
   "metadata": {},
   "outputs": [
    {
     "name": "stdout",
     "output_type": "stream",
     "text": [
      "Verificação de valores faltantes:\n",
      "Total de valores nulos: 0\n"
     ]
    }
   ],
   "source": [
    "# Verificar valores faltantes após Label Encoding\n",
    "print(\"Verificação de valores faltantes:\")\n",
    "print(f\"Total de valores nulos: {df_enem.isnull().sum().sum()}\")"
   ]
  },
  {
   "cell_type": "code",
   "execution_count": 5,
   "id": "11d08b76",
   "metadata": {},
   "outputs": [
    {
     "data": {
      "application/vnd.microsoft.datawrangler.viewer.v0+json": {
       "columns": [
        {
         "name": "index",
         "rawType": "int64",
         "type": "integer"
        },
        {
         "name": "NUM_NOTA_CH",
         "rawType": "float64",
         "type": "float"
        },
        {
         "name": "NUM_NOTA_CN",
         "rawType": "float64",
         "type": "float"
        },
        {
         "name": "NUM_NOTA_LC",
         "rawType": "float64",
         "type": "float"
        },
        {
         "name": "NUM_NOTA_MT",
         "rawType": "float64",
         "type": "float"
        },
        {
         "name": "NUM_NOTA_REDACAO",
         "rawType": "float64",
         "type": "float"
        },
        {
         "name": "BIN_Q001_DUMMY_H",
         "rawType": "bool",
         "type": "boolean"
        },
        {
         "name": "BIN_Q002_DUMMY_H",
         "rawType": "bool",
         "type": "boolean"
        },
        {
         "name": "BIN_Q018",
         "rawType": "bool",
         "type": "boolean"
        },
        {
         "name": "BIN_Q020",
         "rawType": "bool",
         "type": "boolean"
        },
        {
         "name": "BIN_Q021",
         "rawType": "bool",
         "type": "boolean"
        },
        {
         "name": "BIN_Q023",
         "rawType": "bool",
         "type": "boolean"
        },
        {
         "name": "BIN_Q025",
         "rawType": "bool",
         "type": "boolean"
        },
        {
         "name": "CAT_COR_RACA",
         "rawType": "int64",
         "type": "integer"
        },
        {
         "name": "CAT_CO_MUNICIPIO_ESC",
         "rawType": "int64",
         "type": "integer"
        },
        {
         "name": "CAT_CO_UF_ESC",
         "rawType": "int64",
         "type": "integer"
        },
        {
         "name": "CAT_DEPENDENCIA_ADM_ESC",
         "rawType": "int64",
         "type": "integer"
        },
        {
         "name": "CAT_ENSINO",
         "rawType": "int64",
         "type": "integer"
        },
        {
         "name": "CAT_ESCOLA",
         "rawType": "int64",
         "type": "integer"
        },
        {
         "name": "CAT_ESTADO_CIVIL",
         "rawType": "int64",
         "type": "integer"
        },
        {
         "name": "CAT_FAIXA_ETARIA",
         "rawType": "int64",
         "type": "integer"
        },
        {
         "name": "CAT_LINGUA",
         "rawType": "int64",
         "type": "integer"
        },
        {
         "name": "CAT_LOCALIZACAO_ESC",
         "rawType": "int64",
         "type": "integer"
        },
        {
         "name": "CAT_NACIONALIDADE",
         "rawType": "int64",
         "type": "integer"
        },
        {
         "name": "CAT_Q003",
         "rawType": "int64",
         "type": "integer"
        },
        {
         "name": "CAT_Q004",
         "rawType": "int64",
         "type": "integer"
        },
        {
         "name": "CAT_SEXO",
         "rawType": "int64",
         "type": "integer"
        },
        {
         "name": "CAT_SIT_FUNC_ESC",
         "rawType": "int64",
         "type": "integer"
        },
        {
         "name": "NUM_Q001",
         "rawType": "int64",
         "type": "integer"
        },
        {
         "name": "NUM_Q002",
         "rawType": "int64",
         "type": "integer"
        },
        {
         "name": "NUM_Q005",
         "rawType": "int64",
         "type": "integer"
        },
        {
         "name": "NUM_Q006",
         "rawType": "int64",
         "type": "integer"
        },
        {
         "name": "NUM_Q007",
         "rawType": "int64",
         "type": "integer"
        },
        {
         "name": "NUM_Q008",
         "rawType": "int64",
         "type": "integer"
        },
        {
         "name": "NUM_Q009",
         "rawType": "int64",
         "type": "integer"
        },
        {
         "name": "NUM_Q010",
         "rawType": "int64",
         "type": "integer"
        },
        {
         "name": "NUM_Q011",
         "rawType": "int64",
         "type": "integer"
        },
        {
         "name": "NUM_Q012",
         "rawType": "int64",
         "type": "integer"
        },
        {
         "name": "NUM_Q013",
         "rawType": "int64",
         "type": "integer"
        },
        {
         "name": "NUM_Q014",
         "rawType": "int64",
         "type": "integer"
        },
        {
         "name": "NUM_Q015",
         "rawType": "int64",
         "type": "integer"
        },
        {
         "name": "NUM_Q016",
         "rawType": "int64",
         "type": "integer"
        },
        {
         "name": "NUM_Q017",
         "rawType": "int64",
         "type": "integer"
        },
        {
         "name": "NUM_Q019",
         "rawType": "int64",
         "type": "integer"
        },
        {
         "name": "NUM_Q022",
         "rawType": "int64",
         "type": "integer"
        },
        {
         "name": "NUM_Q024",
         "rawType": "int64",
         "type": "integer"
        }
       ],
       "ref": "297ed48c-9777-42d4-be3e-6a323f153e77",
       "rows": [
        [
         "0",
         "508.5",
         "459.0",
         "507.2",
         "466.7",
         "880.0",
         "False",
         "False",
         "False",
         "False",
         "False",
         "False",
         "True",
         "3",
         "941",
         "9",
         "1",
         "1",
         "0",
         "1",
         "1",
         "0",
         "0",
         "0",
         "1",
         "1",
         "0",
         "0",
         "3",
         "3",
         "5",
         "2",
         "0",
         "1",
         "1",
         "0",
         "0",
         "1",
         "0",
         "0",
         "0",
         "0",
         "0",
         "1",
         "3",
         "0"
        ],
        [
         "1",
         "379.2",
         "402.5",
         "446.9",
         "338.3",
         "560.0",
         "False",
         "False",
         "False",
         "False",
         "False",
         "False",
         "False",
         "3",
         "1031",
         "9",
         "1",
         "1",
         "0",
         "1",
         "2",
         "0",
         "0",
         "0",
         "0",
         "0",
         "0",
         "0",
         "1",
         "1",
         "4",
         "1",
         "0",
         "1",
         "0",
         "0",
         "0",
         "1",
         "0",
         "0",
         "0",
         "0",
         "0",
         "1",
         "1",
         "0"
        ],
        [
         "2",
         "667.6",
         "608.2",
         "607.9",
         "691.9",
         "780.0",
         "False",
         "False",
         "False",
         "False",
         "False",
         "False",
         "True",
         "3",
         "4232",
         "20",
         "1",
         "1",
         "0",
         "1",
         "2",
         "0",
         "0",
         "3",
         "0",
         "1",
         "1",
         "0",
         "3",
         "4",
         "5",
         "3",
         "0",
         "1",
         "1",
         "1",
         "0",
         "1",
         "0",
         "1",
         "0",
         "0",
         "0",
         "1",
         "1",
         "1"
        ],
        [
         "3",
         "553.1",
         "515.7",
         "544.4",
         "437.0",
         "880.0",
         "False",
         "False",
         "False",
         "False",
         "False",
         "True",
         "True",
         "1",
         "169",
         "4",
         "1",
         "1",
         "0",
         "1",
         "3",
         "0",
         "0",
         "0",
         "2",
         "1",
         "0",
         "0",
         "4",
         "4",
         "4",
         "1",
         "0",
         "1",
         "2",
         "0",
         "0",
         "1",
         "0",
         "0",
         "0",
         "0",
         "0",
         "1",
         "3",
         "0"
        ],
        [
         "4",
         "576.3",
         "523.8",
         "596.5",
         "628.1",
         "600.0",
         "False",
         "False",
         "False",
         "False",
         "False",
         "False",
         "True",
         "1",
         "3770",
         "19",
         "1",
         "1",
         "0",
         "1",
         "2",
         "0",
         "0",
         "0",
         "2",
         "1",
         "1",
         "0",
         "2",
         "2",
         "2",
         "3",
         "0",
         "1",
         "1",
         "0",
         "0",
         "1",
         "0",
         "1",
         "0",
         "0",
         "0",
         "1",
         "1",
         "0"
        ]
       ],
       "shape": {
        "columns": 45,
        "rows": 5
       }
      },
      "text/html": [
       "<div>\n",
       "<style scoped>\n",
       "    .dataframe tbody tr th:only-of-type {\n",
       "        vertical-align: middle;\n",
       "    }\n",
       "\n",
       "    .dataframe tbody tr th {\n",
       "        vertical-align: top;\n",
       "    }\n",
       "\n",
       "    .dataframe thead th {\n",
       "        text-align: right;\n",
       "    }\n",
       "</style>\n",
       "<table border=\"1\" class=\"dataframe\">\n",
       "  <thead>\n",
       "    <tr style=\"text-align: right;\">\n",
       "      <th></th>\n",
       "      <th>NUM_NOTA_CH</th>\n",
       "      <th>NUM_NOTA_CN</th>\n",
       "      <th>NUM_NOTA_LC</th>\n",
       "      <th>NUM_NOTA_MT</th>\n",
       "      <th>NUM_NOTA_REDACAO</th>\n",
       "      <th>BIN_Q001_DUMMY_H</th>\n",
       "      <th>BIN_Q002_DUMMY_H</th>\n",
       "      <th>BIN_Q018</th>\n",
       "      <th>BIN_Q020</th>\n",
       "      <th>BIN_Q021</th>\n",
       "      <th>...</th>\n",
       "      <th>NUM_Q011</th>\n",
       "      <th>NUM_Q012</th>\n",
       "      <th>NUM_Q013</th>\n",
       "      <th>NUM_Q014</th>\n",
       "      <th>NUM_Q015</th>\n",
       "      <th>NUM_Q016</th>\n",
       "      <th>NUM_Q017</th>\n",
       "      <th>NUM_Q019</th>\n",
       "      <th>NUM_Q022</th>\n",
       "      <th>NUM_Q024</th>\n",
       "    </tr>\n",
       "  </thead>\n",
       "  <tbody>\n",
       "    <tr>\n",
       "      <th>0</th>\n",
       "      <td>508.5</td>\n",
       "      <td>459.0</td>\n",
       "      <td>507.2</td>\n",
       "      <td>466.7</td>\n",
       "      <td>880.0</td>\n",
       "      <td>False</td>\n",
       "      <td>False</td>\n",
       "      <td>False</td>\n",
       "      <td>False</td>\n",
       "      <td>False</td>\n",
       "      <td>...</td>\n",
       "      <td>0</td>\n",
       "      <td>1</td>\n",
       "      <td>0</td>\n",
       "      <td>0</td>\n",
       "      <td>0</td>\n",
       "      <td>0</td>\n",
       "      <td>0</td>\n",
       "      <td>1</td>\n",
       "      <td>3</td>\n",
       "      <td>0</td>\n",
       "    </tr>\n",
       "    <tr>\n",
       "      <th>1</th>\n",
       "      <td>379.2</td>\n",
       "      <td>402.5</td>\n",
       "      <td>446.9</td>\n",
       "      <td>338.3</td>\n",
       "      <td>560.0</td>\n",
       "      <td>False</td>\n",
       "      <td>False</td>\n",
       "      <td>False</td>\n",
       "      <td>False</td>\n",
       "      <td>False</td>\n",
       "      <td>...</td>\n",
       "      <td>0</td>\n",
       "      <td>1</td>\n",
       "      <td>0</td>\n",
       "      <td>0</td>\n",
       "      <td>0</td>\n",
       "      <td>0</td>\n",
       "      <td>0</td>\n",
       "      <td>1</td>\n",
       "      <td>1</td>\n",
       "      <td>0</td>\n",
       "    </tr>\n",
       "    <tr>\n",
       "      <th>2</th>\n",
       "      <td>667.6</td>\n",
       "      <td>608.2</td>\n",
       "      <td>607.9</td>\n",
       "      <td>691.9</td>\n",
       "      <td>780.0</td>\n",
       "      <td>False</td>\n",
       "      <td>False</td>\n",
       "      <td>False</td>\n",
       "      <td>False</td>\n",
       "      <td>False</td>\n",
       "      <td>...</td>\n",
       "      <td>0</td>\n",
       "      <td>1</td>\n",
       "      <td>0</td>\n",
       "      <td>1</td>\n",
       "      <td>0</td>\n",
       "      <td>0</td>\n",
       "      <td>0</td>\n",
       "      <td>1</td>\n",
       "      <td>1</td>\n",
       "      <td>1</td>\n",
       "    </tr>\n",
       "    <tr>\n",
       "      <th>3</th>\n",
       "      <td>553.1</td>\n",
       "      <td>515.7</td>\n",
       "      <td>544.4</td>\n",
       "      <td>437.0</td>\n",
       "      <td>880.0</td>\n",
       "      <td>False</td>\n",
       "      <td>False</td>\n",
       "      <td>False</td>\n",
       "      <td>False</td>\n",
       "      <td>False</td>\n",
       "      <td>...</td>\n",
       "      <td>0</td>\n",
       "      <td>1</td>\n",
       "      <td>0</td>\n",
       "      <td>0</td>\n",
       "      <td>0</td>\n",
       "      <td>0</td>\n",
       "      <td>0</td>\n",
       "      <td>1</td>\n",
       "      <td>3</td>\n",
       "      <td>0</td>\n",
       "    </tr>\n",
       "    <tr>\n",
       "      <th>4</th>\n",
       "      <td>576.3</td>\n",
       "      <td>523.8</td>\n",
       "      <td>596.5</td>\n",
       "      <td>628.1</td>\n",
       "      <td>600.0</td>\n",
       "      <td>False</td>\n",
       "      <td>False</td>\n",
       "      <td>False</td>\n",
       "      <td>False</td>\n",
       "      <td>False</td>\n",
       "      <td>...</td>\n",
       "      <td>0</td>\n",
       "      <td>1</td>\n",
       "      <td>0</td>\n",
       "      <td>1</td>\n",
       "      <td>0</td>\n",
       "      <td>0</td>\n",
       "      <td>0</td>\n",
       "      <td>1</td>\n",
       "      <td>1</td>\n",
       "      <td>0</td>\n",
       "    </tr>\n",
       "  </tbody>\n",
       "</table>\n",
       "<p>5 rows × 45 columns</p>\n",
       "</div>"
      ],
      "text/plain": [
       "   NUM_NOTA_CH  NUM_NOTA_CN  NUM_NOTA_LC  NUM_NOTA_MT  NUM_NOTA_REDACAO  \\\n",
       "0        508.5        459.0        507.2        466.7             880.0   \n",
       "1        379.2        402.5        446.9        338.3             560.0   \n",
       "2        667.6        608.2        607.9        691.9             780.0   \n",
       "3        553.1        515.7        544.4        437.0             880.0   \n",
       "4        576.3        523.8        596.5        628.1             600.0   \n",
       "\n",
       "   BIN_Q001_DUMMY_H  BIN_Q002_DUMMY_H  BIN_Q018  BIN_Q020  BIN_Q021  ...  \\\n",
       "0             False             False     False     False     False  ...   \n",
       "1             False             False     False     False     False  ...   \n",
       "2             False             False     False     False     False  ...   \n",
       "3             False             False     False     False     False  ...   \n",
       "4             False             False     False     False     False  ...   \n",
       "\n",
       "   NUM_Q011  NUM_Q012  NUM_Q013  NUM_Q014  NUM_Q015  NUM_Q016  NUM_Q017  \\\n",
       "0         0         1         0         0         0         0         0   \n",
       "1         0         1         0         0         0         0         0   \n",
       "2         0         1         0         1         0         0         0   \n",
       "3         0         1         0         0         0         0         0   \n",
       "4         0         1         0         1         0         0         0   \n",
       "\n",
       "   NUM_Q019  NUM_Q022  NUM_Q024  \n",
       "0         1         3         0  \n",
       "1         1         1         0  \n",
       "2         1         1         1  \n",
       "3         1         3         0  \n",
       "4         1         1         0  \n",
       "\n",
       "[5 rows x 45 columns]"
      ]
     },
     "execution_count": 5,
     "metadata": {},
     "output_type": "execute_result"
    }
   ],
   "source": [
    "df_enem.head()"
   ]
  },
  {
   "cell_type": "code",
   "execution_count": 6,
   "id": "3b972929",
   "metadata": {},
   "outputs": [],
   "source": [
    "variaveis_alvo = ['NUM_NOTA_MT', 'NUM_NOTA_LC', 'NUM_NOTA_CN', 'NUM_NOTA_CH', 'NUM_NOTA_REDACAO']\n",
    "\n",
    "# separar em treino e teste\n",
    "X = df_enem.drop(columns=variaveis_alvo)\n",
    "y = df_enem[variaveis_alvo]\n",
    "X_train, X_test, y_train, y_test = train_test_split(X, y, test_size=0.2, random_state=42)\n",
    "\n",
    "# Ajuste de tipo para MLflow\n",
    "# Converter colunas inteiras para float\n",
    "X_train = X_train.astype({col: 'float' for col in X_train.select_dtypes('int').columns})\n",
    "X_test = X_test.astype({col: 'float' for col in X_test.select_dtypes('int').columns})"
   ]
  },
  {
   "cell_type": "markdown",
   "id": "5ddc7542",
   "metadata": {},
   "source": [
    "#### 3. Modelo de Árvore simples como base"
   ]
  },
  {
   "cell_type": "code",
   "execution_count": 7,
   "id": "892f7da7",
   "metadata": {},
   "outputs": [],
   "source": [
    "# Treinar modelos de árvore de decisão para regressão\n",
    "modelo_arvore_decisao = DecisionTreeRegressor(random_state=42,\n",
    "                                               max_depth=5, \n",
    "                                               min_samples_split=10, \n",
    "                                               min_samples_leaf=5,\n",
    "                                               splitter='best')\n",
    "\n",
    "start_time = time.time()\n",
    "\n",
    "modelo_arvore_decisao.fit(X_train, y_train['NUM_NOTA_CH'])\n",
    "\n",
    "tempo_treino = time.time() - start_time"
   ]
  },
  {
   "cell_type": "code",
   "execution_count": 8,
   "id": "d082eb34",
   "metadata": {},
   "outputs": [],
   "source": [
    "# Avaliação do modelo\n",
    "y_pred_arvore_decisao = modelo_arvore_decisao.predict(X_test)"
   ]
  },
  {
   "cell_type": "code",
   "execution_count": 9,
   "id": "0efbc378",
   "metadata": {},
   "outputs": [
    {
     "name": "stdout",
     "output_type": "stream",
     "text": [
      "Erro ao registrar o modelo no MLflow: API request to http://127.0.0.1:9080/api/2.0/mlflow/experiments/get-by-name failed with exception HTTPConnectionPool(host='127.0.0.1', port=9080): Max retries exceeded with url: /api/2.0/mlflow/experiments/get-by-name?experiment_name=Notas+CH+ENEM+2023 (Caused by NewConnectionError('<urllib3.connection.HTTPConnection object at 0x000002B68D56C250>: Failed to establish a new connection: [WinError 10061] Nenhuma conexão pôde ser feita porque a máquina de destino as recusou ativamente'))\n",
      "Rastreamento do MLflow finalizado.\n"
     ]
    }
   ],
   "source": [
    "nome_experimento = 'Notas CH ENEM 2023'\n",
    "\n",
    "registrar_modelo(experimento=nome_experimento,\n",
    "                    parametros={**modelo_arvore_decisao.get_params(), \"amostra\": X_train.shape[0], \"tempo\": tempo_treino},\n",
    "                    X_train=X_train,\n",
    "                    y_train=y_train,\n",
    "                    y_test=y_test,\n",
    "                    y_pred=y_pred_arvore_decisao,\n",
    "                    variavel_alvo='NUM_NOTA_CH', \n",
    "                    modelo=modelo_arvore_decisao,\n",
    "                    nome_modelo='modelo_arvore_decisao_base',\n",
    "                    descricao_modelo='Decision Tree Regressor')"
   ]
  },
  {
   "cell_type": "code",
   "execution_count": 10,
   "id": "e78809d1",
   "metadata": {},
   "outputs": [
    {
     "name": "stdout",
     "output_type": "stream",
     "text": [
      "MAE (treino): 57.7430\n",
      "RMSE (treino): 72.8224\n",
      "R2 (treino): 0.2601\n",
      "MAE (teste): 57.6438\n",
      "RMSE (teste): 72.6746\n",
      "R2 (teste): 0.2591\n"
     ]
    }
   ],
   "source": [
    "# Avaliação grupo treino\n",
    "avaliar_modelo(y_train['NUM_NOTA_CH'], modelo_arvore_decisao.predict(X_train), \"treino\")\n",
    "\n",
    "# Avaliação grupo teste\n",
    "avaliar_modelo(y_test['NUM_NOTA_CH'], y_pred_arvore_decisao, \"teste\")"
   ]
  },
  {
   "cell_type": "code",
   "execution_count": 11,
   "id": "24d6dd7c",
   "metadata": {},
   "outputs": [
    {
     "data": {
      "text/plain": [
       "['Modelos\\\\modelo_arvore_decisao_base.pkl']"
      ]
     },
     "execution_count": 11,
     "metadata": {},
     "output_type": "execute_result"
    }
   ],
   "source": [
    "# Salvar o modelo otimizado como um arquivo pickle\n",
    "joblib.dump(modelo_arvore_decisao, 'Modelos\\\\modelo_arvore_decisao_base.pkl')"
   ]
  },
  {
   "cell_type": "markdown",
   "id": "be304de9",
   "metadata": {},
   "source": [
    "#### Busca melhor ccp_alpha"
   ]
  },
  {
   "cell_type": "markdown",
   "id": "687c43b4",
   "metadata": {},
   "source": [
    "##### ccp_alpha:\n",
    "\n",
    "- Controla a poda da árvore, removendo nós com impacto mínimo no erro.\n",
    "- Valores maiores resultam em árvores mais simples e generalizáveis.\n",
    "- O método cost_complexity_pruning_path é usado para calcular os valores possíveis de ccp_alpha."
   ]
  },
  {
   "cell_type": "code",
   "execution_count": 12,
   "id": "f472505a",
   "metadata": {},
   "outputs": [],
   "source": [
    "path = modelo_arvore_decisao.cost_complexity_pruning_path(X_train, y_train['NUM_NOTA_CH'])  # CCP Path na base de treino\n",
    "ccp_alphas, impurities = path.ccp_alphas, path.impurities"
   ]
  },
  {
   "cell_type": "code",
   "execution_count": 13,
   "id": "ac0a097d",
   "metadata": {},
   "outputs": [
    {
     "data": {
      "text/plain": [
       "array([0.00000000e+00, 7.86228603e-02, 1.67620614e-01, 3.61391307e-01,\n",
       "       6.81614093e-01, 9.75407282e-01, 1.14725498e+00, 1.27219204e+00,\n",
       "       1.55189437e+00, 1.77448604e+00, 2.68224813e+00, 2.94715202e+00,\n",
       "       4.37682104e+00, 4.47340671e+00, 5.17929702e+00, 5.31924231e+00,\n",
       "       6.04964765e+00, 7.51181432e+00, 1.04898993e+01, 1.56790651e+01,\n",
       "       1.69540100e+01, 2.01405984e+01, 2.50485001e+01, 2.72318991e+01,\n",
       "       3.73134523e+01, 4.55326390e+01, 6.31282810e+01, 8.98753766e+01,\n",
       "       9.38742721e+01, 9.42068882e+01, 2.89662230e+02, 9.88193098e+02])"
      ]
     },
     "execution_count": 13,
     "metadata": {},
     "output_type": "execute_result"
    }
   ],
   "source": [
    "ccp_alphas = pd.Series(ccp_alphas).unique()\n",
    "ccp_alphas"
   ]
  },
  {
   "cell_type": "code",
   "execution_count": 14,
   "id": "61bf2416",
   "metadata": {},
   "outputs": [
    {
     "data": {
      "text/plain": [
       "[np.float64(0.0),\n",
       " np.float64(0.07862286029428978),\n",
       " np.float64(0.16762061358154057),\n",
       " np.float64(0.36139130731795177),\n",
       " np.float64(0.6816140931796966),\n",
       " np.float64(0.9754072815338191),\n",
       " np.float64(1.1472549784255648),\n",
       " np.float64(1.2721920404640485),\n",
       " np.float64(1.5518943696056553),\n",
       " np.float64(1.7744860430268545),\n",
       " np.float64(2.682248126403337),\n",
       " np.float64(2.9471520233014843),\n",
       " np.float64(4.376821037894729),\n",
       " np.float64(4.473406714650537),\n",
       " np.float64(5.179297015841996),\n",
       " np.float64(5.319242309856861),\n",
       " np.float64(6.049647649577594),\n",
       " np.float64(7.511814320948247),\n",
       " np.float64(10.489899343926254),\n",
       " np.float64(15.679065144324113),\n",
       " np.float64(16.954010029821575),\n",
       " np.float64(20.14059841320045),\n",
       " np.float64(25.048500144516765),\n",
       " np.float64(27.231899051805385),\n",
       " np.float64(37.31345226609392),\n",
       " np.float64(45.53263902688332),\n",
       " np.float64(63.12828095102441),\n",
       " np.float64(89.87537657716507),\n",
       " np.float64(93.87427210788564),\n",
       " np.float64(94.20688820779878),\n",
       " np.float64(289.6622301897323),\n",
       " np.float64(988.1930984375113)]"
      ]
     },
     "execution_count": 14,
     "metadata": {},
     "output_type": "execute_result"
    }
   ],
   "source": [
    "# order the values of ccp_alphas\n",
    "ccp_alphas = sorted(ccp_alphas, reverse=False)\n",
    "ccp_alphas"
   ]
  },
  {
   "cell_type": "code",
   "execution_count": 15,
   "id": "2e67c67c",
   "metadata": {},
   "outputs": [
    {
     "data": {
      "text/plain": [
       "32"
      ]
     },
     "execution_count": 15,
     "metadata": {},
     "output_type": "execute_result"
    }
   ],
   "source": [
    "len(ccp_alphas)  # Número de valores únicos de alpha"
   ]
  },
  {
   "cell_type": "code",
   "execution_count": 16,
   "id": "d4b43b19",
   "metadata": {},
   "outputs": [],
   "source": [
    "obter_melhor_alpha = False"
   ]
  },
  {
   "cell_type": "code",
   "execution_count": 17,
   "id": "6181ac06",
   "metadata": {},
   "outputs": [],
   "source": [
    "if obter_melhor_alpha:\n",
    "    metricas_calculadas = []\n",
    "    contador = 0\n",
    "\n",
    "    for ccp_alpha in ccp_alphas:\n",
    "        print(f\"Iteração {contador} de {len(ccp_alphas)}\")\n",
    "        contador += 1\n",
    "\n",
    "        # Treinar o modelo de árvore de decisão com o valor de ccp_alpha atual\n",
    "        modelo_arvore_decisao = DecisionTreeRegressor(random_state=42, ccp_alpha=ccp_alpha)\n",
    "        modelo_arvore_decisao.fit(X_train, y_train['NUM_NOTA_CH'])\n",
    "        y_pred_arvore_decisao = modelo_arvore_decisao.predict(X_test)\n",
    "\n",
    "        # Avaliação do modelo\n",
    "        mae_arvore_decisao_teste = mean_absolute_error(y_test['NUM_NOTA_CH'], y_pred_arvore_decisao)\n",
    "        print(f\"MAE (teste): {mae_arvore_decisao_teste:.2f}\")\n",
    "        # rmse_arvore_decisao_teste = root_mean_squared_error(y_test['NUM_NOTA_CH'], y_pred_arvore_decisao)\n",
    "        # r2_arvore_decisao_teste = r2_score(y_test['NUM_NOTA_CH'], y_pred_arvore_decisao)\n",
    "\n",
    "        # Salvar métricas\n",
    "        metricas_calculadas.append({\n",
    "            'ccp_alpha': ccp_alpha,\n",
    "            'MAE': mae_arvore_decisao_teste,\n",
    "            # 'RMSE': rmse_arvore_decisao_teste,\n",
    "            # 'R2': r2_arvore_decisao_teste\n",
    "        })\n",
    "\n",
    "        # MAE atual maior que os dois anteriores parar processamento\n",
    "        if contador > 2 and metricas_calculadas[-1]['MAE'] > metricas_calculadas[-2]['MAE'] and metricas_calculadas[-2]['MAE'] > metricas_calculadas[-3]['MAE']:\n",
    "            print(f\"Parando o loop no alpha {ccp_alpha} com MAE {mae_arvore_decisao_teste:.2f}\")\n",
    "            break"
   ]
  },
  {
   "cell_type": "code",
   "execution_count": 18,
   "id": "21716303",
   "metadata": {},
   "outputs": [],
   "source": [
    "if obter_melhor_alpha:\n",
    "    # Melhor valor de alpha para MAE mínimo\n",
    "    melhor_mae = min(metricas_calculadas, key=lambda x: x['MAE'])\n",
    "\n",
    "    # Melhor valor de alpha para RMSE mínimo\n",
    "    # melhor_rmse = min(metricas_calculadas, key=lambda x: x['RMSE'])\n",
    "\n",
    "    # Melhor valor de alpha para R2 máximo\n",
    "    # melhor_r2 = max(metricas_calculadas, key=lambda x: x['R2'])\n",
    "\n",
    "    # Melhores valores de alpha\n",
    "    print(f\"Melhor alpha: {melhor_mae['ccp_alpha']:.4f}, com MAE: {melhor_mae['MAE']:.2f}\")\n",
    "    # print(f\"Melhor alpha: {melhor_rmse['ccp_alpha']:.4f}, com RMSE: {melhor_rmse['RMSE']:.2f}\")\n",
    "    # print(f\"Melhor alpha: {melhor_r2['ccp_alpha']:.4f}, com R2: {melhor_r2['R2']:.2f}\")"
   ]
  },
  {
   "cell_type": "markdown",
   "id": "04892287",
   "metadata": {},
   "source": [
    "Melhor CCP Alpha para menor MAE: 0.3436"
   ]
  },
  {
   "cell_type": "code",
   "execution_count": 19,
   "id": "8c1ce472",
   "metadata": {},
   "outputs": [],
   "source": [
    "if not obter_melhor_alpha:\n",
    "    ccp_alpha = 0.3436"
   ]
  },
  {
   "cell_type": "code",
   "execution_count": 20,
   "id": "50167d77",
   "metadata": {},
   "outputs": [],
   "source": [
    "# Treinar árvore de decisão com o melhor alpha\n",
    "modelo_arvore_decisao_alpha = DecisionTreeRegressor(random_state=42,\n",
    "                                                    max_depth=5,\n",
    "                                                    min_samples_split=10, \n",
    "                                                    min_samples_leaf=5,\n",
    "                                                    splitter='best',\n",
    "                                                    # ccp_alpha=melhor_mae['ccp_alpha'])\n",
    "                                                    ccp_alpha=ccp_alpha)\n",
    "\n",
    "start_time = time.time()\n",
    "\n",
    "modelo_arvore_decisao_alpha.fit(X_train, y_train['NUM_NOTA_CH'])\n",
    "\n",
    "tempo_treino = time.time() - start_time"
   ]
  },
  {
   "cell_type": "code",
   "execution_count": 21,
   "id": "79a1ae6c",
   "metadata": {},
   "outputs": [],
   "source": [
    "# Avaliação do modelo\n",
    "y_pred_arvore_decisao_alpha = modelo_arvore_decisao_alpha.predict(X_test)"
   ]
  },
  {
   "cell_type": "code",
   "execution_count": 22,
   "id": "18cb0679",
   "metadata": {},
   "outputs": [
    {
     "name": "stdout",
     "output_type": "stream",
     "text": [
      "Erro ao registrar o modelo no MLflow: API request to http://127.0.0.1:9080/api/2.0/mlflow/experiments/get-by-name failed with exception HTTPConnectionPool(host='127.0.0.1', port=9080): Max retries exceeded with url: /api/2.0/mlflow/experiments/get-by-name?experiment_name=Notas+CH+ENEM+2023 (Caused by NewConnectionError('<urllib3.connection.HTTPConnection object at 0x000002B68D5268D0>: Failed to establish a new connection: [WinError 10061] Nenhuma conexão pôde ser feita porque a máquina de destino as recusou ativamente'))\n",
      "Rastreamento do MLflow finalizado.\n"
     ]
    }
   ],
   "source": [
    "nome_experimento = 'Notas CH ENEM 2023'\n",
    "\n",
    "registrar_modelo(experimento=nome_experimento,\n",
    "                 parametros={**modelo_arvore_decisao_alpha.get_params(), \"amostra\": X_train.shape[0], \"tempo\": tempo_treino},\n",
    "                    X_train=X_train,\n",
    "                    y_train=y_train,\n",
    "                    y_test=y_test,\n",
    "                    y_pred=y_pred_arvore_decisao_alpha,\n",
    "                    variavel_alvo='NUM_NOTA_CH',\n",
    "                    modelo=modelo_arvore_decisao_alpha,\n",
    "                    nome_modelo='modelo_arvore_decisao_alpha',\n",
    "                    descricao_modelo='Decision Tree Regressor com alpha otimizado')"
   ]
  },
  {
   "cell_type": "code",
   "execution_count": 23,
   "id": "b992b3af",
   "metadata": {},
   "outputs": [
    {
     "name": "stdout",
     "output_type": "stream",
     "text": [
      "MAE (treino): 57.7446\n",
      "RMSE (treino): 72.8241\n",
      "R2 (treino): 0.2600\n",
      "MAE (teste): 57.6427\n",
      "RMSE (teste): 72.6738\n",
      "R2 (teste): 0.2592\n"
     ]
    }
   ],
   "source": [
    "# Avaliação grupo treino\n",
    "avaliar_modelo(y_train['NUM_NOTA_CH'], modelo_arvore_decisao_alpha.predict(X_train), \"treino\")\n",
    "\n",
    "# Avaliação grupo teste\n",
    "avaliar_modelo(y_test['NUM_NOTA_CH'], y_pred_arvore_decisao_alpha, \"teste\")"
   ]
  },
  {
   "cell_type": "code",
   "execution_count": 24,
   "id": "0b1fdfb0",
   "metadata": {},
   "outputs": [
    {
     "data": {
      "text/plain": [
       "['Modelos\\\\modelo_arvore_decisao_alpha.pkl']"
      ]
     },
     "execution_count": 24,
     "metadata": {},
     "output_type": "execute_result"
    }
   ],
   "source": [
    "# Salvar o modelo otimizado como um arquivo pickle\n",
    "joblib.dump(modelo_arvore_decisao_alpha, 'Modelos\\\\modelo_arvore_decisao_alpha.pkl')"
   ]
  },
  {
   "cell_type": "markdown",
   "id": "cea96fe5",
   "metadata": {},
   "source": [
    "Grid Search"
   ]
  },
  {
   "cell_type": "code",
   "execution_count": 25,
   "id": "b1ce5757",
   "metadata": {},
   "outputs": [],
   "source": [
    "# Configurar os parâmetros para o GridSearchCV\n",
    "\n",
    "param_grid = {\n",
    "    'ccp_alpha': [0.2, 0.3436, 0.4],\n",
    "    'max_depth': [3, 5, 7, 10],\n",
    "    'min_samples_split': [2, 5, 10],\n",
    "    'min_samples_leaf': [1, 2, 5],\n",
    "    'splitter': ['best', 'random']\n",
    "}"
   ]
  },
  {
   "cell_type": "code",
   "execution_count": 26,
   "id": "ca1775b6",
   "metadata": {},
   "outputs": [],
   "source": [
    "# Validação cruzada para regressão\n",
    "kf = KFold(n_splits=5, shuffle=True, random_state=42)\n",
    "\n",
    "# Criar o modelo de árvore de decisão\n",
    "modelo_arvore_decisao_grid = DecisionTreeRegressor(random_state=42)"
   ]
  },
  {
   "cell_type": "code",
   "execution_count": 27,
   "id": "55fb9c78",
   "metadata": {},
   "outputs": [],
   "source": [
    "# Realizar o GridSearchCV\n",
    "grid_search = GridSearchCV(estimator=modelo_arvore_decisao_grid,\n",
    "                           param_grid=param_grid,\n",
    "                           scoring='r2',\n",
    "                           cv=kf,\n",
    "                           return_train_score=True,\n",
    "                           n_jobs=-1,\n",
    "                           verbose=1)"
   ]
  },
  {
   "cell_type": "code",
   "execution_count": 28,
   "id": "88ad953d",
   "metadata": {},
   "outputs": [
    {
     "name": "stdout",
     "output_type": "stream",
     "text": [
      "Fitting 5 folds for each of 216 candidates, totalling 1080 fits\n"
     ]
    },
    {
     "data": {
      "text/html": [
       "<style>#sk-container-id-1 {\n",
       "  /* Definition of color scheme common for light and dark mode */\n",
       "  --sklearn-color-text: #000;\n",
       "  --sklearn-color-text-muted: #666;\n",
       "  --sklearn-color-line: gray;\n",
       "  /* Definition of color scheme for unfitted estimators */\n",
       "  --sklearn-color-unfitted-level-0: #fff5e6;\n",
       "  --sklearn-color-unfitted-level-1: #f6e4d2;\n",
       "  --sklearn-color-unfitted-level-2: #ffe0b3;\n",
       "  --sklearn-color-unfitted-level-3: chocolate;\n",
       "  /* Definition of color scheme for fitted estimators */\n",
       "  --sklearn-color-fitted-level-0: #f0f8ff;\n",
       "  --sklearn-color-fitted-level-1: #d4ebff;\n",
       "  --sklearn-color-fitted-level-2: #b3dbfd;\n",
       "  --sklearn-color-fitted-level-3: cornflowerblue;\n",
       "\n",
       "  /* Specific color for light theme */\n",
       "  --sklearn-color-text-on-default-background: var(--sg-text-color, var(--theme-code-foreground, var(--jp-content-font-color1, black)));\n",
       "  --sklearn-color-background: var(--sg-background-color, var(--theme-background, var(--jp-layout-color0, white)));\n",
       "  --sklearn-color-border-box: var(--sg-text-color, var(--theme-code-foreground, var(--jp-content-font-color1, black)));\n",
       "  --sklearn-color-icon: #696969;\n",
       "\n",
       "  @media (prefers-color-scheme: dark) {\n",
       "    /* Redefinition of color scheme for dark theme */\n",
       "    --sklearn-color-text-on-default-background: var(--sg-text-color, var(--theme-code-foreground, var(--jp-content-font-color1, white)));\n",
       "    --sklearn-color-background: var(--sg-background-color, var(--theme-background, var(--jp-layout-color0, #111)));\n",
       "    --sklearn-color-border-box: var(--sg-text-color, var(--theme-code-foreground, var(--jp-content-font-color1, white)));\n",
       "    --sklearn-color-icon: #878787;\n",
       "  }\n",
       "}\n",
       "\n",
       "#sk-container-id-1 {\n",
       "  color: var(--sklearn-color-text);\n",
       "}\n",
       "\n",
       "#sk-container-id-1 pre {\n",
       "  padding: 0;\n",
       "}\n",
       "\n",
       "#sk-container-id-1 input.sk-hidden--visually {\n",
       "  border: 0;\n",
       "  clip: rect(1px 1px 1px 1px);\n",
       "  clip: rect(1px, 1px, 1px, 1px);\n",
       "  height: 1px;\n",
       "  margin: -1px;\n",
       "  overflow: hidden;\n",
       "  padding: 0;\n",
       "  position: absolute;\n",
       "  width: 1px;\n",
       "}\n",
       "\n",
       "#sk-container-id-1 div.sk-dashed-wrapped {\n",
       "  border: 1px dashed var(--sklearn-color-line);\n",
       "  margin: 0 0.4em 0.5em 0.4em;\n",
       "  box-sizing: border-box;\n",
       "  padding-bottom: 0.4em;\n",
       "  background-color: var(--sklearn-color-background);\n",
       "}\n",
       "\n",
       "#sk-container-id-1 div.sk-container {\n",
       "  /* jupyter's `normalize.less` sets `[hidden] { display: none; }`\n",
       "     but bootstrap.min.css set `[hidden] { display: none !important; }`\n",
       "     so we also need the `!important` here to be able to override the\n",
       "     default hidden behavior on the sphinx rendered scikit-learn.org.\n",
       "     See: https://github.com/scikit-learn/scikit-learn/issues/21755 */\n",
       "  display: inline-block !important;\n",
       "  position: relative;\n",
       "}\n",
       "\n",
       "#sk-container-id-1 div.sk-text-repr-fallback {\n",
       "  display: none;\n",
       "}\n",
       "\n",
       "div.sk-parallel-item,\n",
       "div.sk-serial,\n",
       "div.sk-item {\n",
       "  /* draw centered vertical line to link estimators */\n",
       "  background-image: linear-gradient(var(--sklearn-color-text-on-default-background), var(--sklearn-color-text-on-default-background));\n",
       "  background-size: 2px 100%;\n",
       "  background-repeat: no-repeat;\n",
       "  background-position: center center;\n",
       "}\n",
       "\n",
       "/* Parallel-specific style estimator block */\n",
       "\n",
       "#sk-container-id-1 div.sk-parallel-item::after {\n",
       "  content: \"\";\n",
       "  width: 100%;\n",
       "  border-bottom: 2px solid var(--sklearn-color-text-on-default-background);\n",
       "  flex-grow: 1;\n",
       "}\n",
       "\n",
       "#sk-container-id-1 div.sk-parallel {\n",
       "  display: flex;\n",
       "  align-items: stretch;\n",
       "  justify-content: center;\n",
       "  background-color: var(--sklearn-color-background);\n",
       "  position: relative;\n",
       "}\n",
       "\n",
       "#sk-container-id-1 div.sk-parallel-item {\n",
       "  display: flex;\n",
       "  flex-direction: column;\n",
       "}\n",
       "\n",
       "#sk-container-id-1 div.sk-parallel-item:first-child::after {\n",
       "  align-self: flex-end;\n",
       "  width: 50%;\n",
       "}\n",
       "\n",
       "#sk-container-id-1 div.sk-parallel-item:last-child::after {\n",
       "  align-self: flex-start;\n",
       "  width: 50%;\n",
       "}\n",
       "\n",
       "#sk-container-id-1 div.sk-parallel-item:only-child::after {\n",
       "  width: 0;\n",
       "}\n",
       "\n",
       "/* Serial-specific style estimator block */\n",
       "\n",
       "#sk-container-id-1 div.sk-serial {\n",
       "  display: flex;\n",
       "  flex-direction: column;\n",
       "  align-items: center;\n",
       "  background-color: var(--sklearn-color-background);\n",
       "  padding-right: 1em;\n",
       "  padding-left: 1em;\n",
       "}\n",
       "\n",
       "\n",
       "/* Toggleable style: style used for estimator/Pipeline/ColumnTransformer box that is\n",
       "clickable and can be expanded/collapsed.\n",
       "- Pipeline and ColumnTransformer use this feature and define the default style\n",
       "- Estimators will overwrite some part of the style using the `sk-estimator` class\n",
       "*/\n",
       "\n",
       "/* Pipeline and ColumnTransformer style (default) */\n",
       "\n",
       "#sk-container-id-1 div.sk-toggleable {\n",
       "  /* Default theme specific background. It is overwritten whether we have a\n",
       "  specific estimator or a Pipeline/ColumnTransformer */\n",
       "  background-color: var(--sklearn-color-background);\n",
       "}\n",
       "\n",
       "/* Toggleable label */\n",
       "#sk-container-id-1 label.sk-toggleable__label {\n",
       "  cursor: pointer;\n",
       "  display: flex;\n",
       "  width: 100%;\n",
       "  margin-bottom: 0;\n",
       "  padding: 0.5em;\n",
       "  box-sizing: border-box;\n",
       "  text-align: center;\n",
       "  align-items: start;\n",
       "  justify-content: space-between;\n",
       "  gap: 0.5em;\n",
       "}\n",
       "\n",
       "#sk-container-id-1 label.sk-toggleable__label .caption {\n",
       "  font-size: 0.6rem;\n",
       "  font-weight: lighter;\n",
       "  color: var(--sklearn-color-text-muted);\n",
       "}\n",
       "\n",
       "#sk-container-id-1 label.sk-toggleable__label-arrow:before {\n",
       "  /* Arrow on the left of the label */\n",
       "  content: \"▸\";\n",
       "  float: left;\n",
       "  margin-right: 0.25em;\n",
       "  color: var(--sklearn-color-icon);\n",
       "}\n",
       "\n",
       "#sk-container-id-1 label.sk-toggleable__label-arrow:hover:before {\n",
       "  color: var(--sklearn-color-text);\n",
       "}\n",
       "\n",
       "/* Toggleable content - dropdown */\n",
       "\n",
       "#sk-container-id-1 div.sk-toggleable__content {\n",
       "  max-height: 0;\n",
       "  max-width: 0;\n",
       "  overflow: hidden;\n",
       "  text-align: left;\n",
       "  /* unfitted */\n",
       "  background-color: var(--sklearn-color-unfitted-level-0);\n",
       "}\n",
       "\n",
       "#sk-container-id-1 div.sk-toggleable__content.fitted {\n",
       "  /* fitted */\n",
       "  background-color: var(--sklearn-color-fitted-level-0);\n",
       "}\n",
       "\n",
       "#sk-container-id-1 div.sk-toggleable__content pre {\n",
       "  margin: 0.2em;\n",
       "  border-radius: 0.25em;\n",
       "  color: var(--sklearn-color-text);\n",
       "  /* unfitted */\n",
       "  background-color: var(--sklearn-color-unfitted-level-0);\n",
       "}\n",
       "\n",
       "#sk-container-id-1 div.sk-toggleable__content.fitted pre {\n",
       "  /* unfitted */\n",
       "  background-color: var(--sklearn-color-fitted-level-0);\n",
       "}\n",
       "\n",
       "#sk-container-id-1 input.sk-toggleable__control:checked~div.sk-toggleable__content {\n",
       "  /* Expand drop-down */\n",
       "  max-height: 200px;\n",
       "  max-width: 100%;\n",
       "  overflow: auto;\n",
       "}\n",
       "\n",
       "#sk-container-id-1 input.sk-toggleable__control:checked~label.sk-toggleable__label-arrow:before {\n",
       "  content: \"▾\";\n",
       "}\n",
       "\n",
       "/* Pipeline/ColumnTransformer-specific style */\n",
       "\n",
       "#sk-container-id-1 div.sk-label input.sk-toggleable__control:checked~label.sk-toggleable__label {\n",
       "  color: var(--sklearn-color-text);\n",
       "  background-color: var(--sklearn-color-unfitted-level-2);\n",
       "}\n",
       "\n",
       "#sk-container-id-1 div.sk-label.fitted input.sk-toggleable__control:checked~label.sk-toggleable__label {\n",
       "  background-color: var(--sklearn-color-fitted-level-2);\n",
       "}\n",
       "\n",
       "/* Estimator-specific style */\n",
       "\n",
       "/* Colorize estimator box */\n",
       "#sk-container-id-1 div.sk-estimator input.sk-toggleable__control:checked~label.sk-toggleable__label {\n",
       "  /* unfitted */\n",
       "  background-color: var(--sklearn-color-unfitted-level-2);\n",
       "}\n",
       "\n",
       "#sk-container-id-1 div.sk-estimator.fitted input.sk-toggleable__control:checked~label.sk-toggleable__label {\n",
       "  /* fitted */\n",
       "  background-color: var(--sklearn-color-fitted-level-2);\n",
       "}\n",
       "\n",
       "#sk-container-id-1 div.sk-label label.sk-toggleable__label,\n",
       "#sk-container-id-1 div.sk-label label {\n",
       "  /* The background is the default theme color */\n",
       "  color: var(--sklearn-color-text-on-default-background);\n",
       "}\n",
       "\n",
       "/* On hover, darken the color of the background */\n",
       "#sk-container-id-1 div.sk-label:hover label.sk-toggleable__label {\n",
       "  color: var(--sklearn-color-text);\n",
       "  background-color: var(--sklearn-color-unfitted-level-2);\n",
       "}\n",
       "\n",
       "/* Label box, darken color on hover, fitted */\n",
       "#sk-container-id-1 div.sk-label.fitted:hover label.sk-toggleable__label.fitted {\n",
       "  color: var(--sklearn-color-text);\n",
       "  background-color: var(--sklearn-color-fitted-level-2);\n",
       "}\n",
       "\n",
       "/* Estimator label */\n",
       "\n",
       "#sk-container-id-1 div.sk-label label {\n",
       "  font-family: monospace;\n",
       "  font-weight: bold;\n",
       "  display: inline-block;\n",
       "  line-height: 1.2em;\n",
       "}\n",
       "\n",
       "#sk-container-id-1 div.sk-label-container {\n",
       "  text-align: center;\n",
       "}\n",
       "\n",
       "/* Estimator-specific */\n",
       "#sk-container-id-1 div.sk-estimator {\n",
       "  font-family: monospace;\n",
       "  border: 1px dotted var(--sklearn-color-border-box);\n",
       "  border-radius: 0.25em;\n",
       "  box-sizing: border-box;\n",
       "  margin-bottom: 0.5em;\n",
       "  /* unfitted */\n",
       "  background-color: var(--sklearn-color-unfitted-level-0);\n",
       "}\n",
       "\n",
       "#sk-container-id-1 div.sk-estimator.fitted {\n",
       "  /* fitted */\n",
       "  background-color: var(--sklearn-color-fitted-level-0);\n",
       "}\n",
       "\n",
       "/* on hover */\n",
       "#sk-container-id-1 div.sk-estimator:hover {\n",
       "  /* unfitted */\n",
       "  background-color: var(--sklearn-color-unfitted-level-2);\n",
       "}\n",
       "\n",
       "#sk-container-id-1 div.sk-estimator.fitted:hover {\n",
       "  /* fitted */\n",
       "  background-color: var(--sklearn-color-fitted-level-2);\n",
       "}\n",
       "\n",
       "/* Specification for estimator info (e.g. \"i\" and \"?\") */\n",
       "\n",
       "/* Common style for \"i\" and \"?\" */\n",
       "\n",
       ".sk-estimator-doc-link,\n",
       "a:link.sk-estimator-doc-link,\n",
       "a:visited.sk-estimator-doc-link {\n",
       "  float: right;\n",
       "  font-size: smaller;\n",
       "  line-height: 1em;\n",
       "  font-family: monospace;\n",
       "  background-color: var(--sklearn-color-background);\n",
       "  border-radius: 1em;\n",
       "  height: 1em;\n",
       "  width: 1em;\n",
       "  text-decoration: none !important;\n",
       "  margin-left: 0.5em;\n",
       "  text-align: center;\n",
       "  /* unfitted */\n",
       "  border: var(--sklearn-color-unfitted-level-1) 1pt solid;\n",
       "  color: var(--sklearn-color-unfitted-level-1);\n",
       "}\n",
       "\n",
       ".sk-estimator-doc-link.fitted,\n",
       "a:link.sk-estimator-doc-link.fitted,\n",
       "a:visited.sk-estimator-doc-link.fitted {\n",
       "  /* fitted */\n",
       "  border: var(--sklearn-color-fitted-level-1) 1pt solid;\n",
       "  color: var(--sklearn-color-fitted-level-1);\n",
       "}\n",
       "\n",
       "/* On hover */\n",
       "div.sk-estimator:hover .sk-estimator-doc-link:hover,\n",
       ".sk-estimator-doc-link:hover,\n",
       "div.sk-label-container:hover .sk-estimator-doc-link:hover,\n",
       ".sk-estimator-doc-link:hover {\n",
       "  /* unfitted */\n",
       "  background-color: var(--sklearn-color-unfitted-level-3);\n",
       "  color: var(--sklearn-color-background);\n",
       "  text-decoration: none;\n",
       "}\n",
       "\n",
       "div.sk-estimator.fitted:hover .sk-estimator-doc-link.fitted:hover,\n",
       ".sk-estimator-doc-link.fitted:hover,\n",
       "div.sk-label-container:hover .sk-estimator-doc-link.fitted:hover,\n",
       ".sk-estimator-doc-link.fitted:hover {\n",
       "  /* fitted */\n",
       "  background-color: var(--sklearn-color-fitted-level-3);\n",
       "  color: var(--sklearn-color-background);\n",
       "  text-decoration: none;\n",
       "}\n",
       "\n",
       "/* Span, style for the box shown on hovering the info icon */\n",
       ".sk-estimator-doc-link span {\n",
       "  display: none;\n",
       "  z-index: 9999;\n",
       "  position: relative;\n",
       "  font-weight: normal;\n",
       "  right: .2ex;\n",
       "  padding: .5ex;\n",
       "  margin: .5ex;\n",
       "  width: min-content;\n",
       "  min-width: 20ex;\n",
       "  max-width: 50ex;\n",
       "  color: var(--sklearn-color-text);\n",
       "  box-shadow: 2pt 2pt 4pt #999;\n",
       "  /* unfitted */\n",
       "  background: var(--sklearn-color-unfitted-level-0);\n",
       "  border: .5pt solid var(--sklearn-color-unfitted-level-3);\n",
       "}\n",
       "\n",
       ".sk-estimator-doc-link.fitted span {\n",
       "  /* fitted */\n",
       "  background: var(--sklearn-color-fitted-level-0);\n",
       "  border: var(--sklearn-color-fitted-level-3);\n",
       "}\n",
       "\n",
       ".sk-estimator-doc-link:hover span {\n",
       "  display: block;\n",
       "}\n",
       "\n",
       "/* \"?\"-specific style due to the `<a>` HTML tag */\n",
       "\n",
       "#sk-container-id-1 a.estimator_doc_link {\n",
       "  float: right;\n",
       "  font-size: 1rem;\n",
       "  line-height: 1em;\n",
       "  font-family: monospace;\n",
       "  background-color: var(--sklearn-color-background);\n",
       "  border-radius: 1rem;\n",
       "  height: 1rem;\n",
       "  width: 1rem;\n",
       "  text-decoration: none;\n",
       "  /* unfitted */\n",
       "  color: var(--sklearn-color-unfitted-level-1);\n",
       "  border: var(--sklearn-color-unfitted-level-1) 1pt solid;\n",
       "}\n",
       "\n",
       "#sk-container-id-1 a.estimator_doc_link.fitted {\n",
       "  /* fitted */\n",
       "  border: var(--sklearn-color-fitted-level-1) 1pt solid;\n",
       "  color: var(--sklearn-color-fitted-level-1);\n",
       "}\n",
       "\n",
       "/* On hover */\n",
       "#sk-container-id-1 a.estimator_doc_link:hover {\n",
       "  /* unfitted */\n",
       "  background-color: var(--sklearn-color-unfitted-level-3);\n",
       "  color: var(--sklearn-color-background);\n",
       "  text-decoration: none;\n",
       "}\n",
       "\n",
       "#sk-container-id-1 a.estimator_doc_link.fitted:hover {\n",
       "  /* fitted */\n",
       "  background-color: var(--sklearn-color-fitted-level-3);\n",
       "}\n",
       "</style><div id=\"sk-container-id-1\" class=\"sk-top-container\"><div class=\"sk-text-repr-fallback\"><pre>GridSearchCV(cv=KFold(n_splits=5, random_state=42, shuffle=True),\n",
       "             estimator=DecisionTreeRegressor(random_state=42), n_jobs=-1,\n",
       "             param_grid={&#x27;ccp_alpha&#x27;: [0.2, 0.3436, 0.4],\n",
       "                         &#x27;max_depth&#x27;: [3, 5, 7, 10],\n",
       "                         &#x27;min_samples_leaf&#x27;: [1, 2, 5],\n",
       "                         &#x27;min_samples_split&#x27;: [2, 5, 10],\n",
       "                         &#x27;splitter&#x27;: [&#x27;best&#x27;, &#x27;random&#x27;]},\n",
       "             return_train_score=True, scoring=&#x27;r2&#x27;, verbose=1)</pre><b>In a Jupyter environment, please rerun this cell to show the HTML representation or trust the notebook. <br />On GitHub, the HTML representation is unable to render, please try loading this page with nbviewer.org.</b></div><div class=\"sk-container\" hidden><div class=\"sk-item sk-dashed-wrapped\"><div class=\"sk-label-container\"><div class=\"sk-label fitted sk-toggleable\"><input class=\"sk-toggleable__control sk-hidden--visually\" id=\"sk-estimator-id-1\" type=\"checkbox\" ><label for=\"sk-estimator-id-1\" class=\"sk-toggleable__label fitted sk-toggleable__label-arrow\"><div><div>GridSearchCV</div></div><div><a class=\"sk-estimator-doc-link fitted\" rel=\"noreferrer\" target=\"_blank\" href=\"https://scikit-learn.org/1.6/modules/generated/sklearn.model_selection.GridSearchCV.html\">?<span>Documentation for GridSearchCV</span></a><span class=\"sk-estimator-doc-link fitted\">i<span>Fitted</span></span></div></label><div class=\"sk-toggleable__content fitted\"><pre>GridSearchCV(cv=KFold(n_splits=5, random_state=42, shuffle=True),\n",
       "             estimator=DecisionTreeRegressor(random_state=42), n_jobs=-1,\n",
       "             param_grid={&#x27;ccp_alpha&#x27;: [0.2, 0.3436, 0.4],\n",
       "                         &#x27;max_depth&#x27;: [3, 5, 7, 10],\n",
       "                         &#x27;min_samples_leaf&#x27;: [1, 2, 5],\n",
       "                         &#x27;min_samples_split&#x27;: [2, 5, 10],\n",
       "                         &#x27;splitter&#x27;: [&#x27;best&#x27;, &#x27;random&#x27;]},\n",
       "             return_train_score=True, scoring=&#x27;r2&#x27;, verbose=1)</pre></div> </div></div><div class=\"sk-parallel\"><div class=\"sk-parallel-item\"><div class=\"sk-item\"><div class=\"sk-label-container\"><div class=\"sk-label fitted sk-toggleable\"><input class=\"sk-toggleable__control sk-hidden--visually\" id=\"sk-estimator-id-2\" type=\"checkbox\" ><label for=\"sk-estimator-id-2\" class=\"sk-toggleable__label fitted sk-toggleable__label-arrow\"><div><div>best_estimator_: DecisionTreeRegressor</div></div></label><div class=\"sk-toggleable__content fitted\"><pre>DecisionTreeRegressor(ccp_alpha=0.2, max_depth=10, min_samples_leaf=5,\n",
       "                      random_state=42)</pre></div> </div></div><div class=\"sk-serial\"><div class=\"sk-item\"><div class=\"sk-estimator fitted sk-toggleable\"><input class=\"sk-toggleable__control sk-hidden--visually\" id=\"sk-estimator-id-3\" type=\"checkbox\" ><label for=\"sk-estimator-id-3\" class=\"sk-toggleable__label fitted sk-toggleable__label-arrow\"><div><div>DecisionTreeRegressor</div></div><div><a class=\"sk-estimator-doc-link fitted\" rel=\"noreferrer\" target=\"_blank\" href=\"https://scikit-learn.org/1.6/modules/generated/sklearn.tree.DecisionTreeRegressor.html\">?<span>Documentation for DecisionTreeRegressor</span></a></div></label><div class=\"sk-toggleable__content fitted\"><pre>DecisionTreeRegressor(ccp_alpha=0.2, max_depth=10, min_samples_leaf=5,\n",
       "                      random_state=42)</pre></div> </div></div></div></div></div></div></div></div></div>"
      ],
      "text/plain": [
       "GridSearchCV(cv=KFold(n_splits=5, random_state=42, shuffle=True),\n",
       "             estimator=DecisionTreeRegressor(random_state=42), n_jobs=-1,\n",
       "             param_grid={'ccp_alpha': [0.2, 0.3436, 0.4],\n",
       "                         'max_depth': [3, 5, 7, 10],\n",
       "                         'min_samples_leaf': [1, 2, 5],\n",
       "                         'min_samples_split': [2, 5, 10],\n",
       "                         'splitter': ['best', 'random']},\n",
       "             return_train_score=True, scoring='r2', verbose=1)"
      ]
     },
     "execution_count": 28,
     "metadata": {},
     "output_type": "execute_result"
    }
   ],
   "source": [
    "# Executar o GridSearchCV\n",
    "grid_search.fit(X_train, y_train['NUM_NOTA_CH'])"
   ]
  },
  {
   "cell_type": "code",
   "execution_count": 29,
   "id": "6bf26e81",
   "metadata": {},
   "outputs": [
    {
     "name": "stdout",
     "output_type": "stream",
     "text": [
      "Melhores parâmetros: {'ccp_alpha': 0.2, 'max_depth': 10, 'min_samples_leaf': 5, 'min_samples_split': 2, 'splitter': 'best'}\n"
     ]
    }
   ],
   "source": [
    "# Melhores parâmetros encontrados\n",
    "try:\n",
    "    melhores_parametros = grid_search.best_params_\n",
    "    print(f\"Melhores parâmetros: {melhores_parametros}\")\n",
    "except:\n",
    "    melhores_parametros = {'ccp_alpha': 0.2, 'max_depth': 10, 'min_samples_leaf': 5, 'min_samples_split': 2, 'splitter': 'best'}\n",
    "    print(f\"Erro ao obter melhores parâmetros, usando valores calculados anteriormente:\\n {melhores_parametros}\")"
   ]
  },
  {
   "cell_type": "code",
   "execution_count": 30,
   "id": "61b33336",
   "metadata": {},
   "outputs": [],
   "source": [
    "# Treinar o modelo com os melhores parâmetros\n",
    "modelo_arvore_decisao_best = DecisionTreeRegressor(random_state=42, **melhores_parametros)\n",
    "\n",
    "start_time = time.time()\n",
    "\n",
    "modelo_arvore_decisao_best.fit(X_train, y_train['NUM_NOTA_CH'])\n",
    "\n",
    "tempo_treino = time.time() - start_time"
   ]
  },
  {
   "cell_type": "code",
   "execution_count": 31,
   "id": "f9382fbc",
   "metadata": {},
   "outputs": [],
   "source": [
    "# Avaliação do modelo final\n",
    "y_pred_arvore_decisao_best = modelo_arvore_decisao_best.predict(X_test)"
   ]
  },
  {
   "cell_type": "code",
   "execution_count": 32,
   "id": "02e5c248",
   "metadata": {},
   "outputs": [
    {
     "name": "stdout",
     "output_type": "stream",
     "text": [
      "Erro ao registrar o modelo no MLflow: API request to http://127.0.0.1:9080/api/2.0/mlflow/experiments/get-by-name failed with exception HTTPConnectionPool(host='127.0.0.1', port=9080): Max retries exceeded with url: /api/2.0/mlflow/experiments/get-by-name?experiment_name=Notas+CH+ENEM+2023 (Caused by NewConnectionError('<urllib3.connection.HTTPConnection object at 0x000002B6A779EC50>: Failed to establish a new connection: [WinError 10061] Nenhuma conexão pôde ser feita porque a máquina de destino as recusou ativamente'))\n",
      "Rastreamento do MLflow finalizado.\n"
     ]
    }
   ],
   "source": [
    "nome_experimento = 'Notas CH ENEM 2023'\n",
    "\n",
    "registrar_modelo(experimento=nome_experimento,\n",
    "                     parametros={**modelo_arvore_decisao_best.get_params(), \"amostra\": X_train.shape[0], \"tempo\": tempo_treino},\n",
    "                     X_train=X_train,\n",
    "                     y_train=y_train,\n",
    "                     y_test=y_test,\n",
    "                     y_pred=y_pred_arvore_decisao_best,\n",
    "                     variavel_alvo='NUM_NOTA_CH',\n",
    "                     modelo=modelo_arvore_decisao_best,\n",
    "                     nome_modelo='modelo_arvore_decisao_grid',\n",
    "                     descricao_modelo='Decision Tree Regressor com GridSearchCV')"
   ]
  },
  {
   "cell_type": "code",
   "execution_count": 33,
   "id": "7aef9410",
   "metadata": {},
   "outputs": [
    {
     "name": "stdout",
     "output_type": "stream",
     "text": [
      "MAE (treino): 56.5474\n",
      "RMSE (treino): 71.5282\n",
      "R2 (treino): 0.2861\n",
      "MAE (teste): 56.5914\n",
      "RMSE (teste): 71.5510\n",
      "R2 (teste): 0.2819\n"
     ]
    }
   ],
   "source": [
    "# Avaliação grupo treino\n",
    "avaliar_modelo(y_train['NUM_NOTA_CH'], modelo_arvore_decisao_best.predict(X_train), \"treino\")\n",
    "\n",
    "# Avaliação grupo teste\n",
    "avaliar_modelo(y_test['NUM_NOTA_CH'], y_pred_arvore_decisao_best, \"teste\")"
   ]
  },
  {
   "cell_type": "code",
   "execution_count": 34,
   "id": "1104bec5",
   "metadata": {},
   "outputs": [
    {
     "data": {
      "text/plain": [
       "['Modelos\\\\modelo_arvore_decisao_best.pkl']"
      ]
     },
     "execution_count": 34,
     "metadata": {},
     "output_type": "execute_result"
    }
   ],
   "source": [
    "# Salvar o modelo otimizado como um arquivo pickle\n",
    "joblib.dump(modelo_arvore_decisao_best, 'Modelos\\\\modelo_arvore_decisao_best.pkl')"
   ]
  }
 ],
 "metadata": {
  "kernelspec": {
   "display_name": ".venv (3.11.4)",
   "language": "python",
   "name": "python3"
  },
  "language_info": {
   "codemirror_mode": {
    "name": "ipython",
    "version": 3
   },
   "file_extension": ".py",
   "mimetype": "text/x-python",
   "name": "python",
   "nbconvert_exporter": "python",
   "pygments_lexer": "ipython3",
   "version": "3.11.4"
  }
 },
 "nbformat": 4,
 "nbformat_minor": 5
}
