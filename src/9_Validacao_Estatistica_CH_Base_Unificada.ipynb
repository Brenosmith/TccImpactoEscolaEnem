{
 "cells": [
  {
   "cell_type": "code",
   "execution_count": 57,
   "id": "3376fb97",
   "metadata": {},
   "outputs": [],
   "source": [
    "import joblib\n",
    "import numpy as np\n",
    "import pandas as pd\n",
    "from sklearn.model_selection import train_test_split\n",
    "from sklearn.metrics import mean_absolute_error\n",
    "\n",
    "from Funcoes_Comuns import avaliar_modelo"
   ]
  },
  {
   "cell_type": "code",
   "execution_count": 58,
   "id": "ff9c30a2",
   "metadata": {},
   "outputs": [],
   "source": [
    "def permutation_test_mae(y_true, y_pred_model1, y_pred_model2, n_permutations=10000):\n",
    "    \"\"\"\n",
    "    Realiza um teste de permutação para comparar duas previsões de modelo usando o MAE.\n",
    "\n",
    "    Args:\n",
    "        y_true (array-like): Valores reais do conjunto de teste.\n",
    "        y_pred_model1 (array-like): Previsões do Modelo 1 (ex: apenas socioeconômicos).\n",
    "        y_pred_model2 (array-like): Previsões do Modelo 2 (ex: socioeconômicos + escolares).\n",
    "        n_permutations (int): Número de permutações a serem realizadas.\n",
    "\n",
    "    Returns:\n",
    "        tuple: (p_value, observed_mae_diff)\n",
    "               p_value: O p-valor do teste.\n",
    "               observed_mae_diff: A diferença observada de MAE (MAE_model1 - MAE_model2).\n",
    "                                  Um valor positivo indica que o Modelo 2 é melhor.\n",
    "    \"\"\"\n",
    "\n",
    "    # 1. Calcular a diferença observada no MAE\n",
    "    mae_model1 = mean_absolute_error(y_true, y_pred_model1)\n",
    "    mae_model2 = mean_absolute_error(y_true, y_pred_model2)\n",
    "    observed_mae_diff = mae_model1 - mae_model2 # Se positivo, significa que o Modelo 2 tem MAE menor\n",
    "\n",
    "    permutation_diffs = []\n",
    "    n_samples = len(y_true)\n",
    "\n",
    "    # Obter os erros absolutos para cada ponto de dados e cada modelo\n",
    "    abs_errors_model1 = np.abs(y_true - y_pred_model1)\n",
    "    abs_errors_model2 = np.abs(y_true - y_pred_model2)\n",
    "\n",
    "    for _ in range(n_permutations):\n",
    "        # Cria uma máscara booleana para decidir quais erros absolutos \"trocar\"\n",
    "        # entre os modelos para simular a hipótese nula (onde os erros vêm da mesma distribuição).\n",
    "        swap_mask = np.random.rand(n_samples) < 0.5 # 50% de chance de trocar para cada ponto\n",
    "\n",
    "        # Cria cópias dos erros absolutos para a permutação\n",
    "        permuted_errors_model1 = np.copy(abs_errors_model1)\n",
    "        permuted_errors_model2 = np.copy(abs_errors_model2)\n",
    "\n",
    "        # Realiza a troca dos erros absolutos com base na máscara\n",
    "        permuted_errors_model1[swap_mask] = abs_errors_model2[swap_mask]\n",
    "        permuted_errors_model2[swap_mask] = abs_errors_model1[swap_mask]\n",
    "\n",
    "        # Recalcula o MAE para os conjuntos de erros permutados\n",
    "        perm_mae_model1 = np.mean(permuted_errors_model1)\n",
    "        perm_mae_model2 = np.mean(permuted_errors_model2)\n",
    "\n",
    "        # Calcula a diferença permutada\n",
    "        perm_diff = perm_mae_model1 - perm_mae_model2\n",
    "        permutation_diffs.append(perm_diff)\n",
    "\n",
    "    permutation_diffs = np.array(permutation_diffs)\n",
    "\n",
    "    # 4. Calcular o p-valor\n",
    "    # Estamos testando se a diferença observada (MAE_model1 - MAE_model2) é POSITIVA\n",
    "    # e significativa (ou seja, se MAE_model2 é significativamente menor que MAE_model1).\n",
    "    # O p-valor é a proporção de diferenças permutadas que são maiores ou iguais à diferença observada.\n",
    "    p_value = (np.sum(permutation_diffs >= observed_mae_diff) + 1) / (n_permutations + 1)\n",
    "\n",
    "    return p_value, observed_mae_diff"
   ]
  },
  {
   "cell_type": "code",
   "execution_count": 59,
   "id": "244497e2",
   "metadata": {},
   "outputs": [],
   "source": [
    "# Ler base unificada do ENEM 2023 + Censo Escolar 2023\n",
    "df_enem = pd.read_pickle('Bases\\microdados_enem_censo_2023.pkl')\n",
    "\n",
    "# 5 Variáveis alvo\n",
    "# 40 Variáveis preditoras socioeconômicas ENEM\n",
    "# 66 Variáveis preditoras escolares"
   ]
  },
  {
   "cell_type": "code",
   "execution_count": 60,
   "id": "1be9fce4",
   "metadata": {},
   "outputs": [],
   "source": [
    "colunas_alvo = ['NUM_NOTA_CH', 'NUM_NOTA_CN', 'NUM_NOTA_LC', 'NUM_NOTA_MT', 'NUM_NOTA_REDACAO']\n",
    "\n",
    "colunas_socioeconomicas = [\n",
    "    \"BIN_Q001_DUMMY_H\", \"BIN_Q002_DUMMY_H\", \"BIN_Q018\",\n",
    "    \"BIN_Q020\", \"BIN_Q021\", \"BIN_Q023\", \"BIN_Q025\", \"CAT_COR_RACA\", \"CAT_CO_MUNICIPIO_ESC\", \n",
    "    \"CAT_CO_UF_ESC\", \"CAT_DEPENDENCIA_ADM_ESC\", \"CAT_ENSINO\", \"CAT_ESCOLA\", \"CAT_ESTADO_CIVIL\", \"CAT_FAIXA_ETARIA\",\n",
    "    \"CAT_LINGUA\", \"CAT_LOCALIZACAO_ESC\", \"CAT_NACIONALIDADE\", \"CAT_Q003\", \"CAT_Q004\", \"CAT_SEXO\", \"CAT_SIT_FUNC_ESC\",\n",
    "    \"NUM_Q001\", \"NUM_Q002\", \"NUM_Q005\", \"NUM_Q006\", \"NUM_Q007\", \"NUM_Q008\", \"NUM_Q009\", \"NUM_Q010\", \"NUM_Q011\",\n",
    "    \"NUM_Q012\", \"NUM_Q013\", \"NUM_Q014\", \"NUM_Q015\", \"NUM_Q016\", \"NUM_Q017\", \"NUM_Q019\", \"NUM_Q022\", \"NUM_Q024\"\n",
    "]\n",
    "\n",
    "colunas_censo_escolar = [\n",
    "    \"CAT_MODE_CATEGORIA_ESCOLA_PRIVADA\", \"CAT_MODE_EXAME_SELECAO\", \"CAT_MODE_LOCALIZACAO_DIFERENCIADA\", \"CAT_MODE_OCUPACAO_GALPAO\",\n",
    "    \"CAT_MODE_OCUPACAO_PREDIO_ESCOLAR\", \"CAT_MODE_ORGAO_REGIONAL\", \"CAT_MODE_PROPOSTA_PEDAGOGICA\", \"CAT_MODE_REGIAO\",\n",
    "    \"CAT_MODE_TRATAMENTO_LIXO_INEXISTENTE\",\n",
    "    \"NUM_MEAN_COMP_PORTATIL_ALUNO\", \"NUM_MEAN_DESKTOP_ALUNO\", \"NUM_MEAN_DOC_MED\", \"NUM_MEAN_EQUIP_LOUSA_DIGITAL\",\n",
    "    \"NUM_MEAN_EQUIP_MULTIMIDIA\", \"NUM_MEAN_EQUIP_TV\", \"NUM_MEAN_MAT_MED\", \"NUM_MEAN_MAT_MED_INT\",\n",
    "    \"NUM_MEAN_MAT_MED_NM\", \"NUM_MEAN_PROF_BIBLIOTECARIO\", \"NUM_MEAN_PROF_MONITORES\", \"NUM_MEAN_PROF_PEDAGOGIA\",\n",
    "    \"NUM_MEAN_PROF_PSICOLOGO\", \"NUM_MEAN_SALAS_UTILIZADAS\", \"NUM_MEAN_TABLET_ALUNO\", \"NUM_MEAN_TUR_MED\",\n",
    "    \"NUM_MEAN_TUR_MED_INT\", \"NUM_PERC_AGUA_INEXISTENTE\", \"NUM_PERC_AGUA_POTAVEL\", \"NUM_PERC_AREA_VERDE\",\n",
    "    \"NUM_PERC_AUDITORIO\", \"NUM_PERC_BANHEIRO\", \"NUM_PERC_BIBLIOTECA\", \"NUM_PERC_ENERGIA_INEXISTENTE\",\n",
    "    \"NUM_PERC_ESGOTO_INEXISTENTE\", \"NUM_PERC_INTERNET_ALUNOS\", \"NUM_PERC_INTERNET_APRENDIZAGEM\", \"NUM_PERC_LABORATORIO_CIENCIAS\",\n",
    "    \"NUM_PERC_LABORATORIO_INFORMATICA\", \"NUM_PERC_LOCAL_FUNC_GALPAO\", \"NUM_PERC_LOCAL_FUNC_OUTROS\", \"NUM_PERC_LOCAL_FUNC_PREDIO_ESCOLAR\",\n",
    "    \"NUM_PERC_LOCAL_FUNC_PRISIONAL_SOCIO\", \"NUM_PERC_LOCAL_FUNC_SALAS_OUTRA_ESC\", \"NUM_PERC_LOCAL_FUNC_SOCIOEDUCATIVO\", \"NUM_PERC_LOCAL_FUNC_UNID_PRISIONAL\",\n",
    "    \"NUM_PERC_MANT_ESCOLA_PRIVADA_EMP\", \"NUM_PERC_MANT_ESCOLA_PRIVADA_ONG\", \"NUM_PERC_MANT_ESCOLA_PRIVADA_OSCIP\", \"NUM_PERC_MANT_ESCOLA_PRIVADA_SIND\",\n",
    "    \"NUM_PERC_MANT_ESCOLA_PRIVADA_SIST_S\", \"NUM_PERC_MANT_ESCOLA_PRIVADA_S_FINS\", \"NUM_PERC_MANT_ESCOLA_PRIV_ONG_OSCIP\", \"NUM_PERC_MATERIAL_PED_NENHUM\",\n",
    "    \"NUM_PERC_MEDIACAO_EAD\", \"NUM_PERC_MEDIACAO_PRESENCIAL\", \"NUM_PERC_MEDIACAO_SEMIPRESENCIAL\", \"NUM_PERC_PISCINA\",\n",
    "    \"NUM_PERC_PODER_PUBLICO_PARCERIA\", \"NUM_PERC_PROF_TEC\", \"NUM_PERC_QUADRA_ESPORTES\", \"NUM_PERC_SALA_ATELIE_ARTES\",\n",
    "    \"NUM_PERC_SALA_MUSICA_CORAL\", \"NUM_PERC_VINCULO_OUTRO_ORGAO\", \"NUM_PERC_VINCULO_SECRETARIA_EDUCACAO\", \"NUM_PERC_VINCULO_SECRETARIA_SAUDE\",\n",
    "    \"NUM_PERC_VINCULO_SEGURANCA_PUBLICA\"\n",
    "]"
   ]
  },
  {
   "cell_type": "code",
   "execution_count": 61,
   "id": "f24c1a3f",
   "metadata": {},
   "outputs": [],
   "source": [
    "# separar em treino e teste\n",
    "X = df_enem.drop(columns=colunas_alvo)\n",
    "y = df_enem['NUM_NOTA_CH']\n",
    "X_train, X_test, y_train, y_test = train_test_split(X, y, test_size=0.2, random_state=42)"
   ]
  },
  {
   "cell_type": "code",
   "execution_count": 62,
   "id": "8d20275c",
   "metadata": {},
   "outputs": [],
   "source": [
    "# Converter colunas inteiras para float\n",
    "X_test = X_test.astype({col: 'float' for col in X_test.select_dtypes('int').columns})"
   ]
  },
  {
   "cell_type": "code",
   "execution_count": 63,
   "id": "96d334ce",
   "metadata": {},
   "outputs": [],
   "source": [
    "# Selecionar apenas as colunas socioeconômicas\n",
    "X_test_socio = X_test[colunas_socioeconomicas]"
   ]
  },
  {
   "cell_type": "code",
   "execution_count": 64,
   "id": "3c5f76c4",
   "metadata": {},
   "outputs": [],
   "source": [
    "# Carregar modelo treinado socioeconômico\n",
    "with open('Modelos\\modelo_lgbm_bayes.pkl', 'rb') as file:\n",
    "    modelo_socio = joblib.load(file)\n",
    "\n",
    "# Carregar modelo treinado socioeconômico + escolar\n",
    "with open('Modelos\\modelo_lgbm_bayes_censo_enem_NUM_NOTA_CH.pkl', 'rb') as file:\n",
    "    modelo_escolar = joblib.load(file)"
   ]
  },
  {
   "cell_type": "code",
   "execution_count": 65,
   "id": "80f7ed44",
   "metadata": {},
   "outputs": [],
   "source": [
    "# Aplicar o modelo nos dados de teste\n",
    "y_pred_socio = modelo_socio.predict(X_test_socio)"
   ]
  },
  {
   "cell_type": "code",
   "execution_count": 66,
   "id": "950b64ce",
   "metadata": {},
   "outputs": [
    {
     "name": "stdout",
     "output_type": "stream",
     "text": [
      "MAE (teste): 53.5000\n",
      "RMSE (teste): 67.9310\n",
      "R2 (teste): 0.3527\n"
     ]
    }
   ],
   "source": [
    "# Avaliação grupo teste\n",
    "avaliar_modelo(y_test, y_pred_socio, \"teste\")"
   ]
  },
  {
   "cell_type": "code",
   "execution_count": null,
   "id": "f2ad059c",
   "metadata": {},
   "outputs": [],
   "source": [
    "# Temporario até ajustar o modelos treinado\n",
    "# Alterar as colunas: \"CAT_DEPENDENCIA_ADM_ESC\", \"CAT_CO_MUNICIPIO_ESC\" e \"CAT_LOCALIZACAO_ESC\" para int\n",
    "X_test['CAT_DEPENDENCIA_ADM_ESC'] = X_test['CAT_DEPENDENCIA_ADM_ESC'].astype(int)\n",
    "X_test['CAT_CO_MUNICIPIO_ESC'] = X_test['CAT_CO_MUNICIPIO_ESC'].astype(int)\n",
    "X_test['CAT_LOCALIZACAO_ESC'] = X_test['CAT_LOCALIZACAO_ESC'].astype(int)\n",
    "\n",
    "# Converter colunas inteiras para float\n",
    "X_test = X_test.astype({col: 'float' for col in X_test.select_dtypes('int').columns})"
   ]
  },
  {
   "cell_type": "code",
   "execution_count": 68,
   "id": "bb1f7cb4",
   "metadata": {},
   "outputs": [],
   "source": [
    "y_pred_socio_escolar = modelo_escolar.predict(X_test)"
   ]
  },
  {
   "cell_type": "code",
   "execution_count": 69,
   "id": "1088e642",
   "metadata": {},
   "outputs": [
    {
     "name": "stdout",
     "output_type": "stream",
     "text": [
      "MAE (teste): 54.7993\n",
      "RMSE (teste): 69.4808\n",
      "R2 (teste): 0.3228\n"
     ]
    }
   ],
   "source": [
    "# Avaliação grupo teste\n",
    "avaliar_modelo(y_test, y_pred_socio_escolar, \"teste\")"
   ]
  },
  {
   "cell_type": "code",
   "execution_count": 70,
   "id": "1cc09fe3",
   "metadata": {},
   "outputs": [
    {
     "name": "stdout",
     "output_type": "stream",
     "text": [
      "Executando Teste de Permutação para MAE...\n",
      "\n",
      "MAE do Modelo Socioeconômico: 53.5000\n",
      "MAE do Modelo Socioeconômico + Escola: 54.7993\n",
      "Diferença observada (MAE_socio - MAE_socio_escola): -1.2992\n",
      "P-valor: 1.0000\n",
      "\n",
      "Com p-valor 1.0000 >= 0.05, falhamos em rejeitar a hipótese nula.\n",
      "A melhora observada no MAE NÃO é estatisticamente significativa (pode ser devido ao acaso).\n"
     ]
    }
   ],
   "source": [
    "# Suponha que você já tenha:\n",
    "# y_test: seus valores reais do conjunto de teste (com 143.000 elementos)\n",
    "# y_pred_socio: previsões do seu modelo apenas com dados socioeconômicos\n",
    "# y_pred_socio_escolar: previsões do seu modelo com dados socioeconômicos + escolares\n",
    "\n",
    "print(\"Executando Teste de Permutação para MAE...\")\n",
    "p_value, obs_diff = permutation_test_mae(\n",
    "    y_test,\n",
    "    y_pred_socio,\n",
    "    y_pred_socio_escolar,\n",
    "    n_permutations=10000 # Você pode aumentar este número para maior precisão\n",
    ")\n",
    "\n",
    "# Exibir os resultados\n",
    "mae_m1 = mean_absolute_error(y_test, y_pred_socio)\n",
    "mae_m2 = mean_absolute_error(y_test, y_pred_socio_escolar)\n",
    "\n",
    "print(f\"\\nMAE do Modelo Socioeconômico: {mae_m1:.4f}\")\n",
    "print(f\"MAE do Modelo Socioeconômico + Escola: {mae_m2:.4f}\")\n",
    "print(f\"Diferença observada (MAE_socio - MAE_socio_escola): {obs_diff:.4f}\")\n",
    "print(f\"P-valor: {p_value:.4f}\")\n",
    "\n",
    "# Interpretação do resultado\n",
    "alpha = 0.05 # Nível de significância comum\n",
    "if p_value < alpha:\n",
    "    print(f\"\\nCom p-valor {p_value:.4f} < {alpha}, rejeitamos a hipótese nula.\")\n",
    "    print(\"A melhora observada no MAE com os dados escolares é estatisticamente significativa.\")\n",
    "else:\n",
    "    print(f\"\\nCom p-valor {p_value:.4f} >= {alpha}, falhamos em rejeitar a hipótese nula.\")\n",
    "    print(\"A melhora observada no MAE NÃO é estatisticamente significativa (pode ser devido ao acaso).\")"
   ]
  }
 ],
 "metadata": {
  "kernelspec": {
   "display_name": ".venv",
   "language": "python",
   "name": "python3"
  },
  "language_info": {
   "codemirror_mode": {
    "name": "ipython",
    "version": 3
   },
   "file_extension": ".py",
   "mimetype": "text/x-python",
   "name": "python",
   "nbconvert_exporter": "python",
   "pygments_lexer": "ipython3",
   "version": "3.11.4"
  }
 },
 "nbformat": 4,
 "nbformat_minor": 5
}
