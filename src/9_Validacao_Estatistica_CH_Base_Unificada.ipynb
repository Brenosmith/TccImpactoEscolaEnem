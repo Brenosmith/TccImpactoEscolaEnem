{
 "cells": [
  {
   "cell_type": "code",
   "execution_count": 16,
   "id": "3376fb97",
   "metadata": {},
   "outputs": [],
   "source": [
    "import joblib\n",
    "import numpy as np\n",
    "import pandas as pd\n",
    "from sklearn.model_selection import train_test_split\n",
    "from sklearn.metrics import mean_absolute_error\n",
    "\n",
    "from Funcoes_Comuns import avaliar_modelo"
   ]
  },
  {
   "cell_type": "code",
   "execution_count": 17,
   "id": "ff9c30a2",
   "metadata": {},
   "outputs": [],
   "source": [
    "def permutation_test_mae(y_true, y_pred_model1, y_pred_model2, n_permutations=10000):\n",
    "    \"\"\"\n",
    "    Realiza um teste de permutação para comparar duas previsões de modelo usando o MAE.\n",
    "    Verifica se o modelo 2 é estatisticamente superior ao modelo 1 de referencia. \n",
    "\n",
    "    Args:\n",
    "        y_true (array-like): Valores reais do conjunto de teste.\n",
    "        y_pred_model1 (array-like): Previsões do Modelo 1 (Modelo referência).\n",
    "        y_pred_model2 (array-like): Previsões do Modelo 2 (Modelo a ser verificado se é superior).\n",
    "        n_permutations (int): Número de permutações a serem realizadas.\n",
    "\n",
    "    Returns:\n",
    "        tuple: (p_value, observed_mae_diff)\n",
    "               p_value: O p-valor do teste.\n",
    "               observed_mae_diff: A diferença observada de MAE (MAE_model1 - MAE_model2).\n",
    "                                  Um valor positivo indica que o Modelo 2 é melhor.\n",
    "    \"\"\"\n",
    "\n",
    "    # 1. Calcular a diferença observada no MAE\n",
    "    mae_model1 = mean_absolute_error(y_true, y_pred_model1)\n",
    "    mae_model2 = mean_absolute_error(y_true, y_pred_model2)\n",
    "    observed_mae_diff = mae_model1 - mae_model2 # Se positivo, significa que o Modelo 2 tem MAE menor\n",
    "\n",
    "    permutation_diffs = []\n",
    "    n_samples = len(y_true)\n",
    "\n",
    "    # Obter os erros absolutos para cada ponto de dados e cada modelo\n",
    "    abs_errors_model1 = np.abs(y_true - y_pred_model1)\n",
    "    abs_errors_model2 = np.abs(y_true - y_pred_model2)\n",
    "\n",
    "    for _ in range(n_permutations):\n",
    "        # Cria uma máscara booleana para decidir quais erros absolutos \"trocar\"\n",
    "        # entre os modelos para simular a hipótese nula (onde os erros vêm da mesma distribuição).\n",
    "        swap_mask = np.random.rand(n_samples) < 0.5 # 50% de chance de trocar para cada ponto\n",
    "\n",
    "        # Cria cópias dos erros absolutos para a permutação\n",
    "        permuted_errors_model1 = np.copy(abs_errors_model1)\n",
    "        permuted_errors_model2 = np.copy(abs_errors_model2)\n",
    "\n",
    "        # Realiza a troca dos erros absolutos com base na máscara\n",
    "        permuted_errors_model1[swap_mask] = abs_errors_model2[swap_mask]\n",
    "        permuted_errors_model2[swap_mask] = abs_errors_model1[swap_mask]\n",
    "\n",
    "        # Recalcula o MAE para os conjuntos de erros permutados\n",
    "        perm_mae_model1 = np.mean(permuted_errors_model1)\n",
    "        perm_mae_model2 = np.mean(permuted_errors_model2)\n",
    "\n",
    "        # Calcula a diferença permutada\n",
    "        perm_diff = perm_mae_model1 - perm_mae_model2\n",
    "        permutation_diffs.append(perm_diff)\n",
    "\n",
    "    permutation_diffs = np.array(permutation_diffs)\n",
    "\n",
    "    # 4. Calcular o p-valor\n",
    "    # Estamos testando se a diferença observada (MAE_model1 - MAE_model2) é POSITIVA\n",
    "    # e significativa (ou seja, se MAE_model2 é significativamente menor que MAE_model1).\n",
    "    # O p-valor é a proporção de diferenças permutadas que são maiores ou iguais à diferença observada.\n",
    "    p_value = (np.sum(permutation_diffs >= observed_mae_diff) + 1) / (n_permutations + 1)\n",
    "\n",
    "    return p_value, observed_mae_diff"
   ]
  },
  {
   "cell_type": "code",
   "execution_count": 30,
   "id": "14ac4f3c",
   "metadata": {},
   "outputs": [],
   "source": [
    "def permutation_test_rmse(y_true, y_pred_model1, y_pred_model2, n_permutations=10000):\n",
    "    \"\"\"\n",
    "    Realiza um teste de permutação para comparar duas previsões de modelo usando o RMSE.\n",
    "    Verifica se o modelo 2 é estatisticamente superior ao modelo 1 de referencia.\n",
    "\n",
    "    Args:\n",
    "        y_true (array-like): Valores reais do conjunto de teste.\n",
    "        y_pred_model1 (array-like): Previsões do Modelo 1 (referência).\n",
    "        y_pred_model2 (array-like): Previsões do Modelo 2 (candidato).\n",
    "        n_permutations (int): Número de permutações a serem realizadas.\n",
    "\n",
    "    Returns:\n",
    "        tuple: (p_value, observed_rmse_diff)\n",
    "               p_value: O p-valor do teste.\n",
    "               observed_rmse_diff: Diferença observada de RMSE (RMSE_model1 - RMSE_model2).\n",
    "                                   Valor positivo indica que o Modelo 2 é melhor.\n",
    "    \"\"\"\n",
    "    # 1. Calcular a diferença observada no RMSE\n",
    "    rmse_model1 = np.sqrt(np.mean((y_true - y_pred_model1) ** 2))\n",
    "    rmse_model2 = np.sqrt(np.mean((y_true - y_pred_model2) ** 2))\n",
    "    observed_rmse_diff = rmse_model1 - rmse_model2\n",
    "\n",
    "    permutation_diffs = []\n",
    "    n_samples = len(y_true)\n",
    "\n",
    "    # Obter os erros quadráticos para cada ponto de dados e cada modelo\n",
    "    sq_errors_model1 = (y_true - y_pred_model1) ** 2\n",
    "    sq_errors_model2 = (y_true - y_pred_model2) ** 2\n",
    "\n",
    "    for _ in range(n_permutations):\n",
    "        swap_mask = np.random.rand(n_samples) < 0.5\n",
    "\n",
    "        permuted_errors_model1 = np.copy(sq_errors_model1)\n",
    "        permuted_errors_model2 = np.copy(sq_errors_model2)\n",
    "\n",
    "        permuted_errors_model1[swap_mask] = sq_errors_model2[swap_mask]\n",
    "        permuted_errors_model2[swap_mask] = sq_errors_model1[swap_mask]\n",
    "\n",
    "        perm_rmse_model1 = np.sqrt(np.mean(permuted_errors_model1))\n",
    "        perm_rmse_model2 = np.sqrt(np.mean(permuted_errors_model2))\n",
    "\n",
    "        perm_diff = perm_rmse_model1 - perm_rmse_model2\n",
    "        permutation_diffs.append(perm_diff)\n",
    "\n",
    "    permutation_diffs = np.array(permutation_diffs)\n",
    "    p_value = (np.sum(permutation_diffs >= observed_rmse_diff) + 1) / (n_permutations + 1)\n",
    "\n",
    "    return p_value, observed_rmse_diff"
   ]
  },
  {
   "cell_type": "code",
   "execution_count": 18,
   "id": "244497e2",
   "metadata": {},
   "outputs": [],
   "source": [
    "# Ler base unificada do ENEM 2023 + Censo Escolar 2023\n",
    "df_unificado = pd.read_pickle('Bases\\Finais\\enem_censo_2023_full.pkl')\n",
    "\n",
    "# 5 Variáveis alvo (origem ENEM)\n",
    "# 40 Variáveis preditoras socioeconômicas (origem ENEM)\n",
    "# 66 Variáveis preditoras escolares (origem ENEM e Censo Escolar)"
   ]
  },
  {
   "cell_type": "code",
   "execution_count": 19,
   "id": "1be9fce4",
   "metadata": {},
   "outputs": [],
   "source": [
    "colunas_alvo = ['NUM_NOTA_CH', 'NUM_NOTA_CN', 'NUM_NOTA_LC', 'NUM_NOTA_MT', 'NUM_NOTA_REDACAO']\n",
    "\n",
    "colunas_microdados_enem = [\n",
    "    \"BIN_Q001_DUMMY_H\", \"BIN_Q002_DUMMY_H\", \"BIN_Q018\",\n",
    "    \"BIN_Q020\", \"BIN_Q021\", \"BIN_Q023\", \"BIN_Q025\", \"CAT_COR_RACA\", \"CAT_CO_MUNICIPIO_ESC\", \n",
    "    \"CAT_CO_UF_ESC\", \"CAT_DEPENDENCIA_ADM_ESC\", \"CAT_ENSINO\", \"CAT_ESCOLA\", \"CAT_ESTADO_CIVIL\", \"CAT_FAIXA_ETARIA\",\n",
    "    \"CAT_LINGUA\", \"CAT_LOCALIZACAO_ESC\", \"CAT_NACIONALIDADE\", \"CAT_Q003\", \"CAT_Q004\", \"CAT_SEXO\", \"CAT_SIT_FUNC_ESC\",\n",
    "    \"NUM_Q001\", \"NUM_Q002\", \"NUM_Q005\", \"NUM_Q006\", \"NUM_Q007\", \"NUM_Q008\", \"NUM_Q009\", \"NUM_Q010\", \"NUM_Q011\",\n",
    "    \"NUM_Q012\", \"NUM_Q013\", \"NUM_Q014\", \"NUM_Q015\", \"NUM_Q016\", \"NUM_Q017\", \"NUM_Q019\", \"NUM_Q022\", \"NUM_Q024\"\n",
    "]\n",
    "\n",
    "colunas_socioeconomicas = [\n",
    "    \"BIN_Q001_DUMMY_H\", \"BIN_Q002_DUMMY_H\", \"BIN_Q018\", \"BIN_Q020\", \"BIN_Q021\", \"BIN_Q023\", \"BIN_Q025\", \"CAT_COR_RACA\",\n",
    "    \"CAT_ESTADO_CIVIL\", \"CAT_FAIXA_ETARIA\", \"CAT_LINGUA\", \"CAT_NACIONALIDADE\", \"CAT_Q003\", \"CAT_Q004\", \"CAT_SEXO\",\n",
    "    \"NUM_Q001\", \"NUM_Q002\", \"NUM_Q005\", \"NUM_Q006\", \"NUM_Q007\", \"NUM_Q008\", \"NUM_Q009\", \"NUM_Q010\", \"NUM_Q011\",\n",
    "    \"NUM_Q012\", \"NUM_Q013\", \"NUM_Q014\", \"NUM_Q015\", \"NUM_Q016\", \"NUM_Q017\", \"NUM_Q019\", \"NUM_Q022\", \"NUM_Q024\"\n",
    "]"
   ]
  },
  {
   "cell_type": "code",
   "execution_count": 20,
   "id": "f24c1a3f",
   "metadata": {},
   "outputs": [],
   "source": [
    "# separar em treino e teste\n",
    "X = df_unificado.drop(columns=colunas_alvo)\n",
    "y = df_unificado['NUM_NOTA_CH']\n",
    "X_train, X_test, y_train, y_test = train_test_split(X, y, test_size=0.2, random_state=42)"
   ]
  },
  {
   "cell_type": "code",
   "execution_count": 21,
   "id": "8d20275c",
   "metadata": {},
   "outputs": [],
   "source": [
    "# Converter colunas inteiras para float\n",
    "X_test = X_test.astype({col: 'float' for col in X_test.select_dtypes('int').columns})"
   ]
  },
  {
   "cell_type": "code",
   "execution_count": 22,
   "id": "96d334ce",
   "metadata": {},
   "outputs": [],
   "source": [
    "# Selecionar apenas as colunas socioeconômicas\n",
    "X_train_socio = X_train[colunas_socioeconomicas]\n",
    "X_test_socio = X_test[colunas_socioeconomicas]\n",
    "\n",
    "X_train_enem = X_train[colunas_microdados_enem]\n",
    "X_test_enem = X_test[colunas_microdados_enem]"
   ]
  },
  {
   "cell_type": "code",
   "execution_count": 23,
   "id": "3c5f76c4",
   "metadata": {},
   "outputs": [],
   "source": [
    "# Carregar modelo treinado socioeconômico + escolar\n",
    "with open('Modelos\\modelo_lgbm_bayes_censo_enem.pkl', 'rb') as file:\n",
    "    modelo_unificado = joblib.load(file)\n",
    "\n",
    "# Carregar modelo treinado socioeconômico\n",
    "with open('Modelos\\modelo_lgbm_bayes_socioeconomico.pkl', 'rb') as file:\n",
    "    modelo_socio = joblib.load(file)\n",
    "\n",
    "# Carregar modelo treinado ENEM\n",
    "with open('Modelos\\modelo_lgbm_bayes.pkl', 'rb') as file:\n",
    "    modelo_enem = joblib.load(file)"
   ]
  },
  {
   "cell_type": "code",
   "execution_count": 24,
   "id": "80f7ed44",
   "metadata": {},
   "outputs": [
    {
     "name": "stdout",
     "output_type": "stream",
     "text": [
      "Aplicando modelos nos dados de teste...\n",
      "Modelo unificado aplicado com sucesso.\n",
      "Modelo socioeconômico aplicado com sucesso.\n",
      "Modelo ENEM aplicado com sucesso.\n"
     ]
    }
   ],
   "source": [
    "# Aplicar o modelo nos dados de teste\n",
    "print(\"Aplicando modelos nos dados de teste...\")\n",
    "\n",
    "y_pred_unificado = modelo_unificado.predict(X_test)\n",
    "print(\"Modelo unificado aplicado com sucesso.\")\n",
    "\n",
    "y_pred_socio = modelo_socio.predict(X_test_socio)\n",
    "print(\"Modelo socioeconômico aplicado com sucesso.\")\n",
    "\n",
    "y_pred_enem = modelo_enem.predict(X_test_enem)\n",
    "print(\"Modelo ENEM aplicado com sucesso.\")"
   ]
  },
  {
   "cell_type": "code",
   "execution_count": 33,
   "id": "950b64ce",
   "metadata": {},
   "outputs": [
    {
     "name": "stdout",
     "output_type": "stream",
     "text": [
      "Avaliação dos modelos nos dados de teste...\n",
      "\n",
      "Modelo unificado:\n",
      "MAE (teste): 54.8861\n",
      "RMSE (teste): 69.6043\n",
      "R2 (teste): 0.3204\n",
      "\n",
      "Modelo socioeconômico:\n",
      "MAE (teste): 56.5698\n",
      "RMSE (teste): 71.5463\n",
      "R2 (teste): 0.2820\n",
      "\n",
      "Modelo ENEM:\n",
      "MAE (teste): 54.8689\n",
      "RMSE (teste): 69.6190\n",
      "R2 (teste): 0.3201\n"
     ]
    }
   ],
   "source": [
    "# Avaliação grupo teste\n",
    "print(\"Avaliação dos modelos nos dados de teste...\\n\")\n",
    "\n",
    "print(\"Modelo unificado:\")\n",
    "avaliar_modelo(y_test, y_pred_unificado, \"teste\")\n",
    "print(\"\")\n",
    "print(\"Modelo socioeconômico:\")\n",
    "avaliar_modelo(y_test, y_pred_socio, \"teste\")\n",
    "print(\"\")\n",
    "print(\"Modelo ENEM:\")\n",
    "avaliar_modelo(y_test, y_pred_enem, \"teste\")"
   ]
  },
  {
   "cell_type": "markdown",
   "id": "b4db1fde",
   "metadata": {},
   "source": [
    "    y_test: seus valores reais do conjunto de teste\n",
    "    y_pred_modelo_referencia: previsões do seu modelo de referência\n",
    "    y_pred_modelo_candidato: previsões do seu modelo candidato a melhoria"
   ]
  },
  {
   "cell_type": "markdown",
   "id": "9dfe5592",
   "metadata": {},
   "source": [
    "Testes modelo Socioeconômico vs Unificado"
   ]
  },
  {
   "cell_type": "code",
   "execution_count": null,
   "id": "35524e52",
   "metadata": {},
   "outputs": [],
   "source": [
    "# Defina os nomes dos modelos para a comparação\n",
    "nome_modelo_referencia = \"Socioeconômico\"\n",
    "nome_modelo_candidato = \"Unificado\"\n",
    "\n",
    "# Defina as previsões dos modelos a serem comparados\n",
    "y_pred_modelo_referencia = y_pred_socio\n",
    "y_pred_modelo_candidato = y_pred_unificado\n",
    "alpha = 0.001 # Nível de significância para o teste"
   ]
  },
  {
   "cell_type": "markdown",
   "id": "f344baff",
   "metadata": {},
   "source": [
    "MAE"
   ]
  },
  {
   "cell_type": "code",
   "execution_count": null,
   "id": "1cc09fe3",
   "metadata": {},
   "outputs": [
    {
     "name": "stdout",
     "output_type": "stream",
     "text": [
      "Executando Teste de Permutação para MAE entre 'Socioeconômico' (referência) e 'Unificado' (candidato)...\n"
     ]
    },
    {
     "name": "stdout",
     "output_type": "stream",
     "text": [
      "\n",
      "MAE do Modelo Socioeconômico: 56.5698\n",
      "MAE do Modelo Unificado: 54.8861\n",
      "Diferença observada (MAE_Socioeconômico - MAE_Unificado): 1.6837\n",
      "P-valor: 0.0001\n",
      "\n",
      "Com p-valor 0.0001 < 0.001, rejeitamos a hipótese nula.\n",
      "A melhora observada no MAE com o modelo 'Unificado' é estatisticamente significativa.\n"
     ]
    }
   ],
   "source": [
    "print(f\"Executando Teste de Permutação para MAE entre '{nome_modelo_referencia}' (referência) e '{nome_modelo_candidato}' (candidato)...\")\n",
    "p_value, obs_diff = permutation_test_mae(\n",
    "    y_test,\n",
    "    y_pred_modelo_referencia,\n",
    "    y_pred_modelo_candidato,\n",
    "    n_permutations=10000\n",
    ")\n",
    "\n",
    "# Exibir os resultados\n",
    "mae_ref = mean_absolute_error(y_test, y_pred_modelo_referencia)\n",
    "mae_cand = mean_absolute_error(y_test, y_pred_modelo_candidato)\n",
    "\n",
    "print(f\"\\nMAE do Modelo {nome_modelo_referencia}: {mae_ref:.4f}\")\n",
    "print(f\"MAE do Modelo {nome_modelo_candidato}: {mae_cand:.4f}\")\n",
    "print(f\"Diferença observada (MAE_{nome_modelo_referencia} - MAE_{nome_modelo_candidato}): {obs_diff:.4f}\")\n",
    "print(f\"P-valor: {p_value:.4f}\")\n",
    "\n",
    "# Interpretação do resultado\n",
    "if p_value < alpha:\n",
    "    print(f\"\\nCom p-valor {p_value:.4f} < {alpha}, rejeitamos a hipótese nula.\")\n",
    "    print(f\"A melhora observada no MAE com o modelo '{nome_modelo_candidato}' é estatisticamente significativa.\")\n",
    "else:\n",
    "    print(f\"\\nCom p-valor {p_value:.4f} >= {alpha}, falhamos em rejeitar a hipótese nula.\")\n",
    "    print(f\"A melhora observada no MAE com o modelo '{nome_modelo_candidato}' NÃO é estatisticamente significativa (pode ser devido ao acaso).\")"
   ]
  },
  {
   "cell_type": "markdown",
   "id": "2d44ba4b",
   "metadata": {},
   "source": [
    "RMSE"
   ]
  },
  {
   "cell_type": "code",
   "execution_count": null,
   "id": "6dc3c888",
   "metadata": {},
   "outputs": [
    {
     "name": "stdout",
     "output_type": "stream",
     "text": [
      "Executando Teste de Permutação para RMSE entre 'Socioeconômico' (referência) e 'Unificado' (candidato)...\n",
      "\n",
      "RMSE do Modelo Socioeconômico: 71.5463\n",
      "RMSE do Modelo Unificado: 69.6043\n",
      "Diferença observada (RMSE_Socioeconômico - RMSE_Unificado): 1.9421\n",
      "P-valor: 0.0001\n",
      "\n",
      "Com p-valor 0.0001 < 0.001, rejeitamos a hipótese nula.\n",
      "A melhora observada no RMSE com o modelo 'Unificado' é estatisticamente significativa.\n"
     ]
    }
   ],
   "source": [
    "print(f\"Executando Teste de Permutação para RMSE entre '{nome_modelo_referencia}' (referência) e '{nome_modelo_candidato}' (candidato)...\")\n",
    "p_value, obs_diff = permutation_test_rmse(\n",
    "    y_test,\n",
    "    y_pred_modelo_referencia,\n",
    "    y_pred_modelo_candidato,\n",
    "    n_permutations=10000\n",
    ")\n",
    "\n",
    "# Exibir os resultados\n",
    "rmse_ref = np.sqrt(np.mean((y_test - y_pred_modelo_referencia) ** 2))\n",
    "rmse_cand = np.sqrt(np.mean((y_test - y_pred_modelo_candidato) ** 2))\n",
    "\n",
    "print(f\"\\nRMSE do Modelo {nome_modelo_referencia}: {rmse_ref:.4f}\")\n",
    "print(f\"RMSE do Modelo {nome_modelo_candidato}: {rmse_cand:.4f}\")\n",
    "print(f\"Diferença observada (RMSE_{nome_modelo_referencia} - RMSE_{nome_modelo_candidato}): {obs_diff:.4f}\")\n",
    "print(f\"P-valor: {p_value:.4f}\")\n",
    "\n",
    "# Interpretação do resultado\n",
    "if p_value < alpha:\n",
    "    print(f\"\\nCom p-valor {p_value:.4f} < {alpha}, rejeitamos a hipótese nula.\")\n",
    "    print(f\"A melhora observada no RMSE com o modelo '{nome_modelo_candidato}' é estatisticamente significativa.\")\n",
    "else:\n",
    "    print(f\"\\nCom p-valor {p_value:.4f} >= {alpha}, falhamos em rejeitar a hipótese nula.\")\n",
    "    print(f\"A melhora observada no RMSE com o modelo '{nome_modelo_candidato}' NÃO é estatisticamente significativa (pode ser devido ao acaso).\")"
   ]
  },
  {
   "cell_type": "markdown",
   "id": "d1382c9f",
   "metadata": {},
   "source": [
    "Testes modelo ENEM vs Unificado"
   ]
  },
  {
   "cell_type": "code",
   "execution_count": null,
   "id": "26aa4b95",
   "metadata": {},
   "outputs": [],
   "source": [
    "# Defina os nomes dos modelos para a comparação\n",
    "nome_modelo_referencia = \"Microdados ENEM\"\n",
    "nome_modelo_candidato = \"Unificado\"\n",
    "\n",
    "# Defina as previsões dos modelos a serem comparados\n",
    "y_pred_modelo_referencia = y_pred_enem\n",
    "y_pred_modelo_candidato = y_pred_unificado\n",
    "alpha = 0.001 # Nível de significância para o teste"
   ]
  },
  {
   "cell_type": "markdown",
   "id": "c8c9582d",
   "metadata": {},
   "source": [
    "MAE"
   ]
  },
  {
   "cell_type": "code",
   "execution_count": null,
   "id": "1db2590e",
   "metadata": {},
   "outputs": [
    {
     "name": "stdout",
     "output_type": "stream",
     "text": [
      "Executando Teste de Permutação para MAE entre 'Microdados ENEM' (referência) e 'Unificado' (candidato)...\n",
      "\n",
      "MAE do Modelo Microdados ENEM: 54.8689\n",
      "MAE do Modelo Unificado: 54.8861\n",
      "Diferença observada (MAE_Microdados ENEM - MAE_Unificado): -0.0172\n",
      "P-valor: 1.0000\n",
      "\n",
      "Com p-valor 1.0000 >= 0.001, falhamos em rejeitar a hipótese nula.\n",
      "A melhora observada no MAE com o modelo 'Unificado' NÃO é estatisticamente significativa (pode ser devido ao acaso).\n"
     ]
    }
   ],
   "source": [
    "print(f\"Executando Teste de Permutação para MAE entre '{nome_modelo_referencia}' (referência) e '{nome_modelo_candidato}' (candidato)...\")\n",
    "p_value, obs_diff = permutation_test_mae(\n",
    "    y_test,\n",
    "    y_pred_modelo_referencia,\n",
    "    y_pred_modelo_candidato,\n",
    "    n_permutations=10000\n",
    ")\n",
    "\n",
    "# Exibir os resultados\n",
    "mae_ref = mean_absolute_error(y_test, y_pred_modelo_referencia)\n",
    "mae_cand = mean_absolute_error(y_test, y_pred_modelo_candidato)\n",
    "\n",
    "print(f\"\\nMAE do Modelo {nome_modelo_referencia}: {mae_ref:.4f}\")\n",
    "print(f\"MAE do Modelo {nome_modelo_candidato}: {mae_cand:.4f}\")\n",
    "print(f\"Diferença observada (MAE_{nome_modelo_referencia} - MAE_{nome_modelo_candidato}): {obs_diff:.4f}\")\n",
    "print(f\"P-valor: {p_value:.4f}\")\n",
    "\n",
    "# Interpretação do resultado\n",
    "if p_value < alpha:\n",
    "    print(f\"\\nCom p-valor {p_value:.4f} < {alpha}, rejeitamos a hipótese nula.\")\n",
    "    print(f\"A melhora observada no MAE com o modelo '{nome_modelo_candidato}' é estatisticamente significativa.\")\n",
    "else:\n",
    "    print(f\"\\nCom p-valor {p_value:.4f} >= {alpha}, falhamos em rejeitar a hipótese nula.\")\n",
    "    print(f\"A melhora observada no MAE com o modelo '{nome_modelo_candidato}' NÃO é estatisticamente significativa (pode ser devido ao acaso).\")"
   ]
  },
  {
   "cell_type": "markdown",
   "id": "495d5b89",
   "metadata": {},
   "source": [
    "RMSE"
   ]
  },
  {
   "cell_type": "code",
   "execution_count": null,
   "id": "d5be2525",
   "metadata": {},
   "outputs": [
    {
     "name": "stdout",
     "output_type": "stream",
     "text": [
      "Executando Teste de Permutação para RMSE entre 'Microdados ENEM' (referência) e 'Unificado' (candidato)...\n",
      "\n",
      "RMSE do Modelo Microdados ENEM: 69.6190\n",
      "RMSE do Modelo Unificado: 69.6043\n",
      "Diferença observada (RMSE_Microdados ENEM - RMSE_Unificado): 0.0147\n",
      "P-valor: 0.0001\n",
      "\n",
      "Com p-valor 0.0001 < 0.001, rejeitamos a hipótese nula.\n",
      "A melhora observada no RMSE com o modelo 'Unificado' é estatisticamente significativa.\n"
     ]
    }
   ],
   "source": [
    "print(f\"Executando Teste de Permutação para RMSE entre '{nome_modelo_referencia}' (referência) e '{nome_modelo_candidato}' (candidato)...\")\n",
    "p_value, obs_diff = permutation_test_rmse(\n",
    "    y_test,\n",
    "    y_pred_modelo_referencia,\n",
    "    y_pred_modelo_candidato,\n",
    "    n_permutations=10000\n",
    ")\n",
    "\n",
    "# Exibir os resultados\n",
    "rmse_ref = np.sqrt(np.mean((y_test - y_pred_modelo_referencia) ** 2))\n",
    "rmse_cand = np.sqrt(np.mean((y_test - y_pred_modelo_candidato) ** 2))\n",
    "\n",
    "print(f\"\\nRMSE do Modelo {nome_modelo_referencia}: {rmse_ref:.4f}\")\n",
    "print(f\"RMSE do Modelo {nome_modelo_candidato}: {rmse_cand:.4f}\")\n",
    "print(f\"Diferença observada (RMSE_{nome_modelo_referencia} - RMSE_{nome_modelo_candidato}): {obs_diff:.4f}\")\n",
    "print(f\"P-valor: {p_value:.4f}\")\n",
    "\n",
    "# Interpretação do resultado\n",
    "if p_value < alpha:\n",
    "    print(f\"\\nCom p-valor {p_value:.4f} < {alpha}, rejeitamos a hipótese nula.\")\n",
    "    print(f\"A melhora observada no RMSE com o modelo '{nome_modelo_candidato}' é estatisticamente significativa.\")\n",
    "else:\n",
    "    print(f\"\\nCom p-valor {p_value:.4f} >= {alpha}, falhamos em rejeitar a hipótese nula.\")\n",
    "    print(f\"A melhora observada no RMSE com o modelo '{nome_modelo_candidato}' NÃO é estatisticamente significativa (pode ser devido ao acaso).\")"
   ]
  }
 ],
 "metadata": {
  "kernelspec": {
   "display_name": ".venv (3.11.4)",
   "language": "python",
   "name": "python3"
  },
  "language_info": {
   "codemirror_mode": {
    "name": "ipython",
    "version": 3
   },
   "file_extension": ".py",
   "mimetype": "text/x-python",
   "name": "python",
   "nbconvert_exporter": "python",
   "pygments_lexer": "ipython3",
   "version": "3.11.4"
  }
 },
 "nbformat": 4,
 "nbformat_minor": 5
}
