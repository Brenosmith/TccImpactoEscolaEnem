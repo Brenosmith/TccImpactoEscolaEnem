{
 "cells": [
  {
   "cell_type": "code",
   "execution_count": 1,
   "id": "003fcce6",
   "metadata": {},
   "outputs": [],
   "source": [
    "import pandas as pd\n",
    "import joblib\n",
    "import time\n",
    "\n",
    "from sklearn.model_selection import train_test_split\n",
    "from skopt import BayesSearchCV  # Bayesian optimization: utilizado para optimizar hiperparámetros\n",
    "\n",
    "import lightgbm as lgbm\n",
    "from lightgbm import early_stopping  # Early stopping: utilizado para evitar sobreajuste\n",
    "\n",
    "from Funcoes_Comuns import avaliar_modelo, registrar_modelo"
   ]
  },
  {
   "cell_type": "code",
   "execution_count": null,
   "id": "4ac66ef9",
   "metadata": {},
   "outputs": [
    {
     "name": "stdout",
     "output_type": "stream",
     "text": [
      "(716493, 38)\n"
     ]
    }
   ],
   "source": [
    "# Obter dados socioeconômicos e notas do ENEM 2023\n",
    "df_enem = pd.read_pickle('Bases\\Finais\\dados_socioeconomicos_2023.pkl')\n",
    "\n",
    "# Remover linhas com valores não explicativos\n",
    "df_enem = df_enem[\n",
    "    (df_enem['CAT_NACIONALIDADE'] != 0) &\n",
    "    (df_enem['CAT_COR_RACA'] != 0) &\n",
    "    (df_enem['CAT_ESTADO_CIVIL'] != 0)\n",
    "]\n",
    "\n",
    "#Variaveis alvo\n",
    "variaveis_alvo = ['NUM_NOTA_MT', 'NUM_NOTA_LC', 'NUM_NOTA_CN', 'NUM_NOTA_CH', 'NUM_NOTA_REDACAO']\n",
    "\n",
    "# separar em treino e teste\n",
    "X = df_enem.drop(columns=variaveis_alvo)\n",
    "y = df_enem[variaveis_alvo]\n",
    "X_train, X_test, y_train, y_test = train_test_split(X, y, test_size=0.2, random_state=42)\n",
    "\n",
    "# Ajuste de tipo para MLflow -> Converter colunas inteiras para float\n",
    "X_train = X_train.astype({col: 'float' for col in X_train.select_dtypes('int').columns})\n",
    "X_test = X_test.astype({col: 'float' for col in X_test.select_dtypes('int').columns})\n",
    "\n",
    "# Obter colunas categóricas\n",
    "categorical_features = X_train.select_dtypes(include=['category']).columns.tolist()\n",
    "\n",
    "# Criar Eval Set para validação cruzada (15% do conjunto de treino)\n",
    "# Apenas utilizado nos modelos fianais, BayesSearchCV não utiliza Eval Set já possui validacao cruzada interna\n",
    "X_train_final, X_eval, y_train_final, y_eval = train_test_split(\n",
    "    X_train,\n",
    "    y_train,\n",
    "    test_size=0.15,\n",
    "    random_state=42\n",
    ")"
   ]
  },
  {
   "cell_type": "markdown",
   "id": "3f52d014",
   "metadata": {},
   "source": [
    "Modelo Base"
   ]
  },
  {
   "cell_type": "code",
   "execution_count": 8,
   "id": "b95c695b",
   "metadata": {},
   "outputs": [
    {
     "name": "stdout",
     "output_type": "stream",
     "text": [
      "[LightGBM] [Info] Total Bins 188\n",
      "[LightGBM] [Info] Number of data points in the train set: 465039, number of used features: 33\n",
      "[LightGBM] [Info] Start training from score 528.371987\n"
     ]
    }
   ],
   "source": [
    "# Treinar modelo LGBMRegressor Base\n",
    "modelo_lgbm = lgbm.LGBMRegressor(n_estimators=1000, \n",
    "                                 learning_rate=0.01, \n",
    "                                 random_state=42,\n",
    "                                 max_bin=4095,\n",
    "                                 force_row_wise=True)\n",
    "\n",
    "start_time = time.time()\n",
    "\n",
    "modelo_lgbm.fit(X_train_final, \n",
    "                y_train_final['NUM_NOTA_CH'], \n",
    "                eval_set=[(X_test, y_test['NUM_NOTA_CH'])], \n",
    "                eval_metric=['r2', 'rmse', 'mae'],\n",
    "                categorical_feature=categorical_features)\n",
    "\n",
    "tempo_treino = time.time() - start_time"
   ]
  },
  {
   "cell_type": "code",
   "execution_count": 9,
   "id": "d20fbda5",
   "metadata": {},
   "outputs": [],
   "source": [
    "# Previsões\n",
    "y_pred = modelo_lgbm.predict(X_test)"
   ]
  },
  {
   "cell_type": "code",
   "execution_count": 10,
   "id": "316e6cc3",
   "metadata": {},
   "outputs": [
    {
     "name": "stderr",
     "output_type": "stream",
     "text": [
      "2025/06/11 13:03:41 INFO mlflow.tracking.fluent: Experiment with name 'Socioeconomicos CH 2023' does not exist. Creating a new experiment.\n",
      "d:\\Armazenamento\\MBA\\TCC\\TccMbaUspEsalq\\.venv\\Lib\\site-packages\\mlflow\\types\\utils.py:452: UserWarning: Hint: Inferred schema contains integer column(s). Integer columns in Python cannot represent missing values. If your input data contains missing values at inference time, it will be encoded as floats and will cause a schema enforcement error. The best way to avoid this problem is to infer the model schema based on a realistic data sample (training dataset) that includes missing values. Alternatively, you can declare integer columns as doubles (float64) whenever these columns may have missing values. See `Handling Integers With Missing Values <https://www.mlflow.org/docs/latest/models.html#handling-integers-with-missing-values>`_ for more details.\n",
      "  warnings.warn(\n",
      "Successfully registered model 'modelo_lgbm_base_socioeconomicos_2023'.\n",
      "2025/06/11 13:04:27 INFO mlflow.store.model_registry.abstract_store: Waiting up to 300 seconds for model version to finish creation. Model name: modelo_lgbm_base_socioeconomicos_2023, version 1\n"
     ]
    },
    {
     "name": "stdout",
     "output_type": "stream",
     "text": [
      "🏃 View run dashing-asp-648 at: http://127.0.0.1:9080/#/experiments/419068002121547902/runs/01e5198fa23f4b29a5f751c4849d2158\n",
      "🧪 View experiment at: http://127.0.0.1:9080/#/experiments/419068002121547902\n",
      "Modelo registrado com sucesso no MLflow: modelo_lgbm_base_socioeconomicos_2023\n",
      "Rastreamento do MLflow finalizado.\n"
     ]
    },
    {
     "name": "stderr",
     "output_type": "stream",
     "text": [
      "Created version '1' of model 'modelo_lgbm_base_socioeconomicos_2023'.\n"
     ]
    }
   ],
   "source": [
    "nome_experimento = 'Socioeconomicos CH 2023'\n",
    "\n",
    "registrar_modelo(experimento=nome_experimento,\n",
    "                 parametros={**modelo_lgbm.get_params(), \"amostra\": X_train.shape[0], \"tempo\": tempo_treino},\n",
    "                 X_train=X_train,\n",
    "                 y_train=y_train,\n",
    "                 y_test=y_test,\n",
    "                 y_pred=y_pred,\n",
    "                 variavel_alvo='NUM_NOTA_CH',\n",
    "                 modelo=modelo_lgbm,\n",
    "                 nome_modelo='modelo_lgbm_base_socioeconomicos_2023',\n",
    "                 descricao_modelo='Modelo LGBMRegressor base para dados socioeconomicos CH',)"
   ]
  },
  {
   "cell_type": "code",
   "execution_count": 11,
   "id": "20c6f315",
   "metadata": {},
   "outputs": [
    {
     "name": "stdout",
     "output_type": "stream",
     "text": [
      "MAE (treino): 56.6110\n",
      "RMSE (treino): 71.6664\n",
      "R2 (treino): 0.2835\n",
      "MAE (teste): 56.5271\n",
      "RMSE (teste): 71.4176\n",
      "R2 (teste): 0.2776\n"
     ]
    }
   ],
   "source": [
    "# Avaliação grupo treino\n",
    "avaliar_modelo(y_train['NUM_NOTA_CH'], modelo_lgbm.predict(X_train), \"treino\")\n",
    "\n",
    "# Avaliação grupo teste\n",
    "avaliar_modelo(y_test['NUM_NOTA_CH'], y_pred, \"teste\")"
   ]
  },
  {
   "cell_type": "markdown",
   "id": "213e27b4",
   "metadata": {},
   "source": [
    "Bayes Search"
   ]
  },
  {
   "cell_type": "code",
   "execution_count": 12,
   "id": "a0e476ad",
   "metadata": {},
   "outputs": [],
   "source": [
    "modelo_lgbm_bayes = lgbm.LGBMRegressor(random_state=42,\n",
    "                                       max_bin=4095, \n",
    "                                       force_row_wise=True)"
   ]
  },
  {
   "cell_type": "code",
   "execution_count": 13,
   "id": "16d89975",
   "metadata": {},
   "outputs": [],
   "source": [
    "# Definição do espaço de busca para otimização bayesiana\n",
    "param_grid = {\n",
    "    'num_leaves': (5, 60),                         # Número de folhas na árvore de decisão\n",
    "    'max_depth': (60, 120),                        # Profundidade máxima da árvore\n",
    "    'learning_rate': (0.001, 0.01, 'log-uniform'), # Taxa de aprendizado\n",
    "    'n_estimators': (5000, 8000),                  # Número de árvores\n",
    "    'subsample': (0.1, 0.9),                       # Proporção de amostras usadas em cada árvore\n",
    "    'colsample_bytree': (0.1, 0.9),                # Fração de colunas a serem usadas por árvore\n",
    "    'reg_alpha': (1e-3, 1.0, 'log-uniform'),       # Regularização L1\n",
    "    'reg_lambda': (1e-7, 1e-2, 'log-uniform'),     # Regularização L2\n",
    "}"
   ]
  },
  {
   "cell_type": "code",
   "execution_count": 14,
   "id": "d82d1756",
   "metadata": {},
   "outputs": [],
   "source": [
    "# Configurar a busca Bayesiana usando BayesSearchCV\n",
    "\n",
    "# Criando o otimizador Bayesiano\n",
    "bayes_search = BayesSearchCV(\n",
    "    estimator=modelo_lgbm_bayes,    # Modelo a ser otimizado\n",
    "    search_spaces=param_grid,       # Espaço de busca definido acima\n",
    "    scoring='r2',                   # Critério de seleção\n",
    "    n_iter=5,                       # Número de avaliações do modelo\n",
    "    cv=5,                           # Validação cruzada\n",
    "    random_state=42,                # Semente para reprodutibilidade\n",
    "    n_jobs=-1,                      # Paralelização total dos cálculos\n",
    "    verbose=1                       # 0 = sem mensagens, 1 = mensagens de progresso, 2 = mensagens detalhadas\n",
    ")"
   ]
  },
  {
   "cell_type": "code",
   "execution_count": 15,
   "id": "58217271",
   "metadata": {},
   "outputs": [],
   "source": [
    "fit_params = {\n",
    "    'eval_metric': ['r2', 'rmse', 'mae'],              # Métricas a serem avaliadas\n",
    "    'categorical_feature': categorical_features,       # Colunas categóricas\n",
    "}"
   ]
  },
  {
   "cell_type": "code",
   "execution_count": 17,
   "id": "f3d2c261",
   "metadata": {},
   "outputs": [
    {
     "name": "stdout",
     "output_type": "stream",
     "text": [
      "Fitting 5 folds for each of 1 candidates, totalling 5 fits\n",
      "Fitting 5 folds for each of 1 candidates, totalling 5 fits\n",
      "Fitting 5 folds for each of 1 candidates, totalling 5 fits\n",
      "Fitting 5 folds for each of 1 candidates, totalling 5 fits\n",
      "Fitting 5 folds for each of 1 candidates, totalling 5 fits\n",
      "[LightGBM] [Info] Total Bins 188\n",
      "[LightGBM] [Info] Number of data points in the train set: 547105, number of used features: 33\n",
      "[LightGBM] [Info] Start training from score 528.385000\n"
     ]
    }
   ],
   "source": [
    "# Executar a busca Bayesiana\n",
    "\n",
    "start_time = time.time()\n",
    "bayes_search.fit(X_train, y_train['NUM_NOTA_CH'], **fit_params)\n",
    "\n",
    "# Parar o cronômetro\n",
    "end_time = time.time()\n",
    "elapsed_time = end_time - start_time"
   ]
  },
  {
   "cell_type": "code",
   "execution_count": null,
   "id": "d20062d9",
   "metadata": {},
   "outputs": [
    {
     "name": "stdout",
     "output_type": "stream",
     "text": [
      "Melhores parâmetros: OrderedDict([('colsample_bytree', 0.42808316708265115), ('learning_rate', 0.0053422688874711095), ('max_depth', 116), ('n_estimators', 5947), ('num_leaves', 42), ('reg_alpha', 0.017472534129202036), ('reg_lambda', 5.684034097210144e-06), ('subsample', 0.6916033873523364)])\n",
      "R2:  0.28127374549224193\n",
      "Tempo total de execução: 22909.22 segundos\n"
     ]
    }
   ],
   "source": [
    "# Melhores parâmetros encontrados\n",
    "try:\n",
    "    melhores_parametros = bayes_search.best_params_\n",
    "    print(f\"Melhores parâmetros: {melhores_parametros}\")\n",
    "    print(\"R2: \", bayes_search.best_score_)\n",
    "    print(f\"Tempo total de execução: {elapsed_time:.2f} segundos\")\n",
    "except:\n",
    "    melhores_parametros = {'colsample_bytree': 0.42808316708265115, 'learning_rate': 0.0053422688874711095, 'max_depth': 116, 'n_estimators': 5947, 'num_leaves': 42, 'reg_alpha': 0.017472534129202036, 'reg_lambda': 5.684034097210144e-06, 'subsample': 0.6916033873523364}\n",
    "    print(f\"Erro ao obter melhores parâmetros, usando valores calculados anteriormente:\\n {melhores_parametros}\")"
   ]
  },
  {
   "cell_type": "code",
   "execution_count": 19,
   "id": "18551012",
   "metadata": {},
   "outputs": [
    {
     "name": "stdout",
     "output_type": "stream",
     "text": [
      "[LightGBM] [Info] Total Bins 188\n",
      "[LightGBM] [Info] Number of data points in the train set: 465039, number of used features: 33\n",
      "[LightGBM] [Info] Start training from score 528.371987\n",
      "Training until validation scores don't improve for 200 rounds\n",
      "Did not meet early stopping. Best iteration is:\n",
      "[5945]\tvalid_0's rmse: 71.7137\tvalid_0's l1: 56.6025\tvalid_0's l2: 5142.85\n"
     ]
    }
   ],
   "source": [
    "# Treinar o modelo com os melhores parâmetros encontrados\n",
    "modelo_lgbm_bayes.set_params(**melhores_parametros)\n",
    "\n",
    "start_time = time.time()\n",
    "\n",
    "# Treinamento do modelo com os melhores parâmetros encontrados\n",
    "modelo_lgbm_bayes.fit(X_train_final, \n",
    "                      y_train_final['NUM_NOTA_CH'], \n",
    "                      eval_set=[(X_eval, y_eval['NUM_NOTA_CH'])], \n",
    "                      eval_metric=['r2', 'rmse', 'mae'],\n",
    "                      categorical_feature=categorical_features,\n",
    "                      callbacks=[early_stopping(stopping_rounds=200)])\n",
    "\n",
    "tempo_treino = time.time() - start_time"
   ]
  },
  {
   "cell_type": "code",
   "execution_count": 20,
   "id": "cd1b52b2",
   "metadata": {},
   "outputs": [],
   "source": [
    "# Previsões\n",
    "y_pred_bayes = modelo_lgbm_bayes.predict(X_test)"
   ]
  },
  {
   "cell_type": "code",
   "execution_count": 21,
   "id": "a9da75c9",
   "metadata": {},
   "outputs": [
    {
     "name": "stderr",
     "output_type": "stream",
     "text": [
      "d:\\Armazenamento\\MBA\\TCC\\TccMbaUspEsalq\\.venv\\Lib\\site-packages\\mlflow\\types\\utils.py:452: UserWarning: Hint: Inferred schema contains integer column(s). Integer columns in Python cannot represent missing values. If your input data contains missing values at inference time, it will be encoded as floats and will cause a schema enforcement error. The best way to avoid this problem is to infer the model schema based on a realistic data sample (training dataset) that includes missing values. Alternatively, you can declare integer columns as doubles (float64) whenever these columns may have missing values. See `Handling Integers With Missing Values <https://www.mlflow.org/docs/latest/models.html#handling-integers-with-missing-values>`_ for more details.\n",
      "  warnings.warn(\n",
      "Successfully registered model 'modelo_lgbm_bayes_socioeconomicos_2023'.\n",
      "2025/06/11 19:48:17 INFO mlflow.store.model_registry.abstract_store: Waiting up to 300 seconds for model version to finish creation. Model name: modelo_lgbm_bayes_socioeconomicos_2023, version 1\n"
     ]
    },
    {
     "name": "stdout",
     "output_type": "stream",
     "text": [
      "🏃 View run intelligent-sponge-3 at: http://127.0.0.1:9080/#/experiments/419068002121547902/runs/1b23ada2f66a42d0b39bc5abbb5f1290\n",
      "🧪 View experiment at: http://127.0.0.1:9080/#/experiments/419068002121547902\n",
      "Modelo registrado com sucesso no MLflow: modelo_lgbm_bayes_socioeconomicos_2023\n",
      "Rastreamento do MLflow finalizado.\n"
     ]
    },
    {
     "name": "stderr",
     "output_type": "stream",
     "text": [
      "Created version '1' of model 'modelo_lgbm_bayes_socioeconomicos_2023'.\n"
     ]
    }
   ],
   "source": [
    "nome_experimento = 'Socioeconomicos CH 2023'\n",
    "\n",
    "registrar_modelo(experimento=nome_experimento,\n",
    "                    modelo=modelo_lgbm_bayes,\n",
    "                    parametros={**modelo_lgbm_bayes.get_params(), \"amostra\": X_train.shape[0], \"tempo\": tempo_treino},\n",
    "                    X_train=X_train,\n",
    "                    y_train=y_train,\n",
    "                    y_test=y_test,\n",
    "                    y_pred=y_pred_bayes,\n",
    "                    variavel_alvo='NUM_NOTA_CH',\n",
    "                    nome_modelo='modelo_lgbm_bayes_socioeconomicos_2023',\n",
    "                    descricao_modelo='Modelo LGBMRegressor otimizado com BayesSearchCV para dados socioeconomicos CH',)"
   ]
  },
  {
   "cell_type": "code",
   "execution_count": 22,
   "id": "6f5d1c23",
   "metadata": {},
   "outputs": [
    {
     "name": "stdout",
     "output_type": "stream",
     "text": [
      "MAE (treino): 56.1135\n",
      "RMSE (treino): 71.0638\n",
      "R2 (treino): 0.2955\n",
      "MAE (teste): 56.3995\n",
      "RMSE (teste): 71.2942\n",
      "R2 (teste): 0.2801\n"
     ]
    }
   ],
   "source": [
    "# Avaliação grupo treino\n",
    "avaliar_modelo(y_train['NUM_NOTA_CH'], modelo_lgbm_bayes.predict(X_train), \"treino\")\n",
    "\n",
    "# Avaliação grupo teste\n",
    "avaliar_modelo(y_test['NUM_NOTA_CH'], y_pred_bayes, \"teste\")"
   ]
  },
  {
   "cell_type": "code",
   "execution_count": 23,
   "id": "9600a984",
   "metadata": {},
   "outputs": [
    {
     "data": {
      "text/plain": [
       "['modelos/modelo_lgbm_bayes_socioeconomico.pkl']"
      ]
     },
     "execution_count": 23,
     "metadata": {},
     "output_type": "execute_result"
    }
   ],
   "source": [
    "# Salvar modelo como Pickle\n",
    "joblib.dump(modelo_lgbm_bayes, 'modelos/modelo_lgbm_bayes_socioeconomico.pkl')"
   ]
  }
 ],
 "metadata": {
  "kernelspec": {
   "display_name": ".venv",
   "language": "python",
   "name": "python3"
  },
  "language_info": {
   "codemirror_mode": {
    "name": "ipython",
    "version": 3
   },
   "file_extension": ".py",
   "mimetype": "text/x-python",
   "name": "python",
   "nbconvert_exporter": "python",
   "pygments_lexer": "ipython3",
   "version": "3.11.4"
  }
 },
 "nbformat": 4,
 "nbformat_minor": 5
}
